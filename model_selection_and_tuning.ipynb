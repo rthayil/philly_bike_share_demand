{
 "cells": [
  {
   "cell_type": "code",
   "execution_count": 5,
   "metadata": {},
   "outputs": [],
   "source": [
    "import pandas as pd\n",
    "from sklearn.metrics import classification_report\n",
    "import xgboost as xgb\n",
    "from sklearn.tree import export_graphviz\n",
    "from sklearn import tree\n",
    "from sklearn.datasets import load_wine\n",
    "from sklearn import preprocessing\n",
    "from sklearn.model_selection import train_test_split\n",
    "from sklearn.ensemble import RandomForestClassifier\n",
    "from IPython.display import SVG\n",
    "from graphviz import Source\n",
    "from IPython.display import display\n",
    "from sklearn.model_selection import cross_val_score\n",
    "from sklearn.model_selection import RepeatedKFold"
   ]
  },
  {
   "cell_type": "code",
   "execution_count": 3,
   "metadata": {},
   "outputs": [],
   "source": [
    "df = pd.read_csv(\"feature engineering/result3.csv\")"
   ]
  },
  {
   "cell_type": "code",
   "execution_count": 7,
   "metadata": {},
   "outputs": [],
   "source": [
    "X = df[['start_lat', 'start_lon', 'hour_of_day', 'AVG_WND_SPEED','PRCP', 'TAVG', 'TMAX', 'TMIN', 'month', 'WEEKDAY', 'Walk Score', 'Transit Score', 'Bike Score']]\n",
    "normalized_X = preprocessing.normalize(X)\n",
    "y = df['COUNT_BINS'].astype(str)\n",
    "\n",
    "X_train, X_test, y_train, y_test = train_test_split(normalized_X, y, test_size = 0.3)"
   ]
  },
  {
   "cell_type": "code",
   "execution_count": 8,
   "metadata": {},
   "outputs": [
    {
     "ename": "KeyboardInterrupt",
     "evalue": "",
     "output_type": "error",
     "traceback": [
      "\u001b[0;31m---------------------------------------------------------------------------\u001b[0m",
      "\u001b[0;31mKeyboardInterrupt\u001b[0m                         Traceback (most recent call last)",
      "\u001b[0;32m<ipython-input-8-b62ae8cb99f2>\u001b[0m in \u001b[0;36m<module>\u001b[0;34m\u001b[0m\n\u001b[1;32m      1\u001b[0m \u001b[0mclf\u001b[0m \u001b[0;34m=\u001b[0m \u001b[0mRandomForestClassifier\u001b[0m\u001b[0;34m(\u001b[0m\u001b[0mn_estimators\u001b[0m\u001b[0;34m=\u001b[0m\u001b[0;36m125\u001b[0m\u001b[0;34m,\u001b[0m \u001b[0mmax_depth\u001b[0m\u001b[0;34m=\u001b[0m\u001b[0;36m5\u001b[0m\u001b[0;34m,\u001b[0m \u001b[0mrandom_state\u001b[0m\u001b[0;34m=\u001b[0m\u001b[0;36m0\u001b[0m\u001b[0;34m)\u001b[0m\u001b[0;34m\u001b[0m\u001b[0;34m\u001b[0m\u001b[0m\n\u001b[0;32m----> 2\u001b[0;31m \u001b[0mclf\u001b[0m \u001b[0;34m=\u001b[0m \u001b[0mclf\u001b[0m\u001b[0;34m.\u001b[0m\u001b[0mfit\u001b[0m\u001b[0;34m(\u001b[0m\u001b[0mX_train\u001b[0m\u001b[0;34m,\u001b[0m \u001b[0my_train\u001b[0m\u001b[0;34m)\u001b[0m\u001b[0;34m\u001b[0m\u001b[0;34m\u001b[0m\u001b[0m\n\u001b[0m\u001b[1;32m      3\u001b[0m \u001b[0mclf\u001b[0m\u001b[0;34m.\u001b[0m\u001b[0mscore\u001b[0m\u001b[0;34m(\u001b[0m\u001b[0mX_test\u001b[0m\u001b[0;34m,\u001b[0m \u001b[0my_test\u001b[0m\u001b[0;34m)\u001b[0m\u001b[0;34m\u001b[0m\u001b[0;34m\u001b[0m\u001b[0m\n",
      "\u001b[0;32m~/anaconda3/lib/python3.6/site-packages/sklearn/ensemble/forest.py\u001b[0m in \u001b[0;36mfit\u001b[0;34m(self, X, y, sample_weight)\u001b[0m\n\u001b[1;32m    328\u001b[0m                     \u001b[0mt\u001b[0m\u001b[0;34m,\u001b[0m \u001b[0mself\u001b[0m\u001b[0;34m,\u001b[0m \u001b[0mX\u001b[0m\u001b[0;34m,\u001b[0m \u001b[0my\u001b[0m\u001b[0;34m,\u001b[0m \u001b[0msample_weight\u001b[0m\u001b[0;34m,\u001b[0m \u001b[0mi\u001b[0m\u001b[0;34m,\u001b[0m \u001b[0mlen\u001b[0m\u001b[0;34m(\u001b[0m\u001b[0mtrees\u001b[0m\u001b[0;34m)\u001b[0m\u001b[0;34m,\u001b[0m\u001b[0;34m\u001b[0m\u001b[0;34m\u001b[0m\u001b[0m\n\u001b[1;32m    329\u001b[0m                     verbose=self.verbose, class_weight=self.class_weight)\n\u001b[0;32m--> 330\u001b[0;31m                 for i, t in enumerate(trees))\n\u001b[0m\u001b[1;32m    331\u001b[0m \u001b[0;34m\u001b[0m\u001b[0m\n\u001b[1;32m    332\u001b[0m             \u001b[0;31m# Collect newly grown trees\u001b[0m\u001b[0;34m\u001b[0m\u001b[0;34m\u001b[0m\u001b[0;34m\u001b[0m\u001b[0m\n",
      "\u001b[0;32m~/anaconda3/lib/python3.6/site-packages/joblib/parallel.py\u001b[0m in \u001b[0;36m__call__\u001b[0;34m(self, iterable)\u001b[0m\n\u001b[1;32m    922\u001b[0m                 \u001b[0mself\u001b[0m\u001b[0;34m.\u001b[0m\u001b[0m_iterating\u001b[0m \u001b[0;34m=\u001b[0m \u001b[0mself\u001b[0m\u001b[0;34m.\u001b[0m\u001b[0m_original_iterator\u001b[0m \u001b[0;32mis\u001b[0m \u001b[0;32mnot\u001b[0m \u001b[0;32mNone\u001b[0m\u001b[0;34m\u001b[0m\u001b[0;34m\u001b[0m\u001b[0m\n\u001b[1;32m    923\u001b[0m \u001b[0;34m\u001b[0m\u001b[0m\n\u001b[0;32m--> 924\u001b[0;31m             \u001b[0;32mwhile\u001b[0m \u001b[0mself\u001b[0m\u001b[0;34m.\u001b[0m\u001b[0mdispatch_one_batch\u001b[0m\u001b[0;34m(\u001b[0m\u001b[0miterator\u001b[0m\u001b[0;34m)\u001b[0m\u001b[0;34m:\u001b[0m\u001b[0;34m\u001b[0m\u001b[0;34m\u001b[0m\u001b[0m\n\u001b[0m\u001b[1;32m    925\u001b[0m                 \u001b[0;32mpass\u001b[0m\u001b[0;34m\u001b[0m\u001b[0;34m\u001b[0m\u001b[0m\n\u001b[1;32m    926\u001b[0m \u001b[0;34m\u001b[0m\u001b[0m\n",
      "\u001b[0;32m~/anaconda3/lib/python3.6/site-packages/joblib/parallel.py\u001b[0m in \u001b[0;36mdispatch_one_batch\u001b[0;34m(self, iterator)\u001b[0m\n\u001b[1;32m    757\u001b[0m                 \u001b[0;32mreturn\u001b[0m \u001b[0;32mFalse\u001b[0m\u001b[0;34m\u001b[0m\u001b[0;34m\u001b[0m\u001b[0m\n\u001b[1;32m    758\u001b[0m             \u001b[0;32melse\u001b[0m\u001b[0;34m:\u001b[0m\u001b[0;34m\u001b[0m\u001b[0;34m\u001b[0m\u001b[0m\n\u001b[0;32m--> 759\u001b[0;31m                 \u001b[0mself\u001b[0m\u001b[0;34m.\u001b[0m\u001b[0m_dispatch\u001b[0m\u001b[0;34m(\u001b[0m\u001b[0mtasks\u001b[0m\u001b[0;34m)\u001b[0m\u001b[0;34m\u001b[0m\u001b[0;34m\u001b[0m\u001b[0m\n\u001b[0m\u001b[1;32m    760\u001b[0m                 \u001b[0;32mreturn\u001b[0m \u001b[0;32mTrue\u001b[0m\u001b[0;34m\u001b[0m\u001b[0;34m\u001b[0m\u001b[0m\n\u001b[1;32m    761\u001b[0m \u001b[0;34m\u001b[0m\u001b[0m\n",
      "\u001b[0;32m~/anaconda3/lib/python3.6/site-packages/joblib/parallel.py\u001b[0m in \u001b[0;36m_dispatch\u001b[0;34m(self, batch)\u001b[0m\n\u001b[1;32m    714\u001b[0m         \u001b[0;32mwith\u001b[0m \u001b[0mself\u001b[0m\u001b[0;34m.\u001b[0m\u001b[0m_lock\u001b[0m\u001b[0;34m:\u001b[0m\u001b[0;34m\u001b[0m\u001b[0;34m\u001b[0m\u001b[0m\n\u001b[1;32m    715\u001b[0m             \u001b[0mjob_idx\u001b[0m \u001b[0;34m=\u001b[0m \u001b[0mlen\u001b[0m\u001b[0;34m(\u001b[0m\u001b[0mself\u001b[0m\u001b[0;34m.\u001b[0m\u001b[0m_jobs\u001b[0m\u001b[0;34m)\u001b[0m\u001b[0;34m\u001b[0m\u001b[0;34m\u001b[0m\u001b[0m\n\u001b[0;32m--> 716\u001b[0;31m             \u001b[0mjob\u001b[0m \u001b[0;34m=\u001b[0m \u001b[0mself\u001b[0m\u001b[0;34m.\u001b[0m\u001b[0m_backend\u001b[0m\u001b[0;34m.\u001b[0m\u001b[0mapply_async\u001b[0m\u001b[0;34m(\u001b[0m\u001b[0mbatch\u001b[0m\u001b[0;34m,\u001b[0m \u001b[0mcallback\u001b[0m\u001b[0;34m=\u001b[0m\u001b[0mcb\u001b[0m\u001b[0;34m)\u001b[0m\u001b[0;34m\u001b[0m\u001b[0;34m\u001b[0m\u001b[0m\n\u001b[0m\u001b[1;32m    717\u001b[0m             \u001b[0;31m# A job can complete so quickly than its callback is\u001b[0m\u001b[0;34m\u001b[0m\u001b[0;34m\u001b[0m\u001b[0;34m\u001b[0m\u001b[0m\n\u001b[1;32m    718\u001b[0m             \u001b[0;31m# called before we get here, causing self._jobs to\u001b[0m\u001b[0;34m\u001b[0m\u001b[0;34m\u001b[0m\u001b[0;34m\u001b[0m\u001b[0m\n",
      "\u001b[0;32m~/anaconda3/lib/python3.6/site-packages/joblib/_parallel_backends.py\u001b[0m in \u001b[0;36mapply_async\u001b[0;34m(self, func, callback)\u001b[0m\n\u001b[1;32m    180\u001b[0m     \u001b[0;32mdef\u001b[0m \u001b[0mapply_async\u001b[0m\u001b[0;34m(\u001b[0m\u001b[0mself\u001b[0m\u001b[0;34m,\u001b[0m \u001b[0mfunc\u001b[0m\u001b[0;34m,\u001b[0m \u001b[0mcallback\u001b[0m\u001b[0;34m=\u001b[0m\u001b[0;32mNone\u001b[0m\u001b[0;34m)\u001b[0m\u001b[0;34m:\u001b[0m\u001b[0;34m\u001b[0m\u001b[0;34m\u001b[0m\u001b[0m\n\u001b[1;32m    181\u001b[0m         \u001b[0;34m\"\"\"Schedule a func to be run\"\"\"\u001b[0m\u001b[0;34m\u001b[0m\u001b[0;34m\u001b[0m\u001b[0m\n\u001b[0;32m--> 182\u001b[0;31m         \u001b[0mresult\u001b[0m \u001b[0;34m=\u001b[0m \u001b[0mImmediateResult\u001b[0m\u001b[0;34m(\u001b[0m\u001b[0mfunc\u001b[0m\u001b[0;34m)\u001b[0m\u001b[0;34m\u001b[0m\u001b[0;34m\u001b[0m\u001b[0m\n\u001b[0m\u001b[1;32m    183\u001b[0m         \u001b[0;32mif\u001b[0m \u001b[0mcallback\u001b[0m\u001b[0;34m:\u001b[0m\u001b[0;34m\u001b[0m\u001b[0;34m\u001b[0m\u001b[0m\n\u001b[1;32m    184\u001b[0m             \u001b[0mcallback\u001b[0m\u001b[0;34m(\u001b[0m\u001b[0mresult\u001b[0m\u001b[0;34m)\u001b[0m\u001b[0;34m\u001b[0m\u001b[0;34m\u001b[0m\u001b[0m\n",
      "\u001b[0;32m~/anaconda3/lib/python3.6/site-packages/joblib/_parallel_backends.py\u001b[0m in \u001b[0;36m__init__\u001b[0;34m(self, batch)\u001b[0m\n\u001b[1;32m    547\u001b[0m         \u001b[0;31m# Don't delay the application, to avoid keeping the input\u001b[0m\u001b[0;34m\u001b[0m\u001b[0;34m\u001b[0m\u001b[0;34m\u001b[0m\u001b[0m\n\u001b[1;32m    548\u001b[0m         \u001b[0;31m# arguments in memory\u001b[0m\u001b[0;34m\u001b[0m\u001b[0;34m\u001b[0m\u001b[0;34m\u001b[0m\u001b[0m\n\u001b[0;32m--> 549\u001b[0;31m         \u001b[0mself\u001b[0m\u001b[0;34m.\u001b[0m\u001b[0mresults\u001b[0m \u001b[0;34m=\u001b[0m \u001b[0mbatch\u001b[0m\u001b[0;34m(\u001b[0m\u001b[0;34m)\u001b[0m\u001b[0;34m\u001b[0m\u001b[0;34m\u001b[0m\u001b[0m\n\u001b[0m\u001b[1;32m    550\u001b[0m \u001b[0;34m\u001b[0m\u001b[0m\n\u001b[1;32m    551\u001b[0m     \u001b[0;32mdef\u001b[0m \u001b[0mget\u001b[0m\u001b[0;34m(\u001b[0m\u001b[0mself\u001b[0m\u001b[0;34m)\u001b[0m\u001b[0;34m:\u001b[0m\u001b[0;34m\u001b[0m\u001b[0;34m\u001b[0m\u001b[0m\n",
      "\u001b[0;32m~/anaconda3/lib/python3.6/site-packages/joblib/parallel.py\u001b[0m in \u001b[0;36m__call__\u001b[0;34m(self)\u001b[0m\n\u001b[1;32m    223\u001b[0m         \u001b[0;32mwith\u001b[0m \u001b[0mparallel_backend\u001b[0m\u001b[0;34m(\u001b[0m\u001b[0mself\u001b[0m\u001b[0;34m.\u001b[0m\u001b[0m_backend\u001b[0m\u001b[0;34m,\u001b[0m \u001b[0mn_jobs\u001b[0m\u001b[0;34m=\u001b[0m\u001b[0mself\u001b[0m\u001b[0;34m.\u001b[0m\u001b[0m_n_jobs\u001b[0m\u001b[0;34m)\u001b[0m\u001b[0;34m:\u001b[0m\u001b[0;34m\u001b[0m\u001b[0;34m\u001b[0m\u001b[0m\n\u001b[1;32m    224\u001b[0m             return [func(*args, **kwargs)\n\u001b[0;32m--> 225\u001b[0;31m                     for func, args, kwargs in self.items]\n\u001b[0m\u001b[1;32m    226\u001b[0m \u001b[0;34m\u001b[0m\u001b[0m\n\u001b[1;32m    227\u001b[0m     \u001b[0;32mdef\u001b[0m \u001b[0m__len__\u001b[0m\u001b[0;34m(\u001b[0m\u001b[0mself\u001b[0m\u001b[0;34m)\u001b[0m\u001b[0;34m:\u001b[0m\u001b[0;34m\u001b[0m\u001b[0;34m\u001b[0m\u001b[0m\n",
      "\u001b[0;32m~/anaconda3/lib/python3.6/site-packages/joblib/parallel.py\u001b[0m in \u001b[0;36m<listcomp>\u001b[0;34m(.0)\u001b[0m\n\u001b[1;32m    223\u001b[0m         \u001b[0;32mwith\u001b[0m \u001b[0mparallel_backend\u001b[0m\u001b[0;34m(\u001b[0m\u001b[0mself\u001b[0m\u001b[0;34m.\u001b[0m\u001b[0m_backend\u001b[0m\u001b[0;34m,\u001b[0m \u001b[0mn_jobs\u001b[0m\u001b[0;34m=\u001b[0m\u001b[0mself\u001b[0m\u001b[0;34m.\u001b[0m\u001b[0m_n_jobs\u001b[0m\u001b[0;34m)\u001b[0m\u001b[0;34m:\u001b[0m\u001b[0;34m\u001b[0m\u001b[0;34m\u001b[0m\u001b[0m\n\u001b[1;32m    224\u001b[0m             return [func(*args, **kwargs)\n\u001b[0;32m--> 225\u001b[0;31m                     for func, args, kwargs in self.items]\n\u001b[0m\u001b[1;32m    226\u001b[0m \u001b[0;34m\u001b[0m\u001b[0m\n\u001b[1;32m    227\u001b[0m     \u001b[0;32mdef\u001b[0m \u001b[0m__len__\u001b[0m\u001b[0;34m(\u001b[0m\u001b[0mself\u001b[0m\u001b[0;34m)\u001b[0m\u001b[0;34m:\u001b[0m\u001b[0;34m\u001b[0m\u001b[0;34m\u001b[0m\u001b[0m\n",
      "\u001b[0;32m~/anaconda3/lib/python3.6/site-packages/sklearn/ensemble/forest.py\u001b[0m in \u001b[0;36m_parallel_build_trees\u001b[0;34m(tree, forest, X, y, sample_weight, tree_idx, n_trees, verbose, class_weight)\u001b[0m\n\u001b[1;32m    116\u001b[0m             \u001b[0mcurr_sample_weight\u001b[0m \u001b[0;34m*=\u001b[0m \u001b[0mcompute_sample_weight\u001b[0m\u001b[0;34m(\u001b[0m\u001b[0;34m'balanced'\u001b[0m\u001b[0;34m,\u001b[0m \u001b[0my\u001b[0m\u001b[0;34m,\u001b[0m \u001b[0mindices\u001b[0m\u001b[0;34m)\u001b[0m\u001b[0;34m\u001b[0m\u001b[0;34m\u001b[0m\u001b[0m\n\u001b[1;32m    117\u001b[0m \u001b[0;34m\u001b[0m\u001b[0m\n\u001b[0;32m--> 118\u001b[0;31m         \u001b[0mtree\u001b[0m\u001b[0;34m.\u001b[0m\u001b[0mfit\u001b[0m\u001b[0;34m(\u001b[0m\u001b[0mX\u001b[0m\u001b[0;34m,\u001b[0m \u001b[0my\u001b[0m\u001b[0;34m,\u001b[0m \u001b[0msample_weight\u001b[0m\u001b[0;34m=\u001b[0m\u001b[0mcurr_sample_weight\u001b[0m\u001b[0;34m,\u001b[0m \u001b[0mcheck_input\u001b[0m\u001b[0;34m=\u001b[0m\u001b[0;32mFalse\u001b[0m\u001b[0;34m)\u001b[0m\u001b[0;34m\u001b[0m\u001b[0;34m\u001b[0m\u001b[0m\n\u001b[0m\u001b[1;32m    119\u001b[0m     \u001b[0;32melse\u001b[0m\u001b[0;34m:\u001b[0m\u001b[0;34m\u001b[0m\u001b[0;34m\u001b[0m\u001b[0m\n\u001b[1;32m    120\u001b[0m         \u001b[0mtree\u001b[0m\u001b[0;34m.\u001b[0m\u001b[0mfit\u001b[0m\u001b[0;34m(\u001b[0m\u001b[0mX\u001b[0m\u001b[0;34m,\u001b[0m \u001b[0my\u001b[0m\u001b[0;34m,\u001b[0m \u001b[0msample_weight\u001b[0m\u001b[0;34m=\u001b[0m\u001b[0msample_weight\u001b[0m\u001b[0;34m,\u001b[0m \u001b[0mcheck_input\u001b[0m\u001b[0;34m=\u001b[0m\u001b[0;32mFalse\u001b[0m\u001b[0;34m)\u001b[0m\u001b[0;34m\u001b[0m\u001b[0;34m\u001b[0m\u001b[0m\n",
      "\u001b[0;32m~/anaconda3/lib/python3.6/site-packages/sklearn/tree/tree.py\u001b[0m in \u001b[0;36mfit\u001b[0;34m(self, X, y, sample_weight, check_input, X_idx_sorted)\u001b[0m\n\u001b[1;32m    814\u001b[0m             \u001b[0msample_weight\u001b[0m\u001b[0;34m=\u001b[0m\u001b[0msample_weight\u001b[0m\u001b[0;34m,\u001b[0m\u001b[0;34m\u001b[0m\u001b[0;34m\u001b[0m\u001b[0m\n\u001b[1;32m    815\u001b[0m             \u001b[0mcheck_input\u001b[0m\u001b[0;34m=\u001b[0m\u001b[0mcheck_input\u001b[0m\u001b[0;34m,\u001b[0m\u001b[0;34m\u001b[0m\u001b[0;34m\u001b[0m\u001b[0m\n\u001b[0;32m--> 816\u001b[0;31m             X_idx_sorted=X_idx_sorted)\n\u001b[0m\u001b[1;32m    817\u001b[0m         \u001b[0;32mreturn\u001b[0m \u001b[0mself\u001b[0m\u001b[0;34m\u001b[0m\u001b[0;34m\u001b[0m\u001b[0m\n\u001b[1;32m    818\u001b[0m \u001b[0;34m\u001b[0m\u001b[0m\n",
      "\u001b[0;32m~/anaconda3/lib/python3.6/site-packages/sklearn/tree/tree.py\u001b[0m in \u001b[0;36mfit\u001b[0;34m(self, X, y, sample_weight, check_input, X_idx_sorted)\u001b[0m\n\u001b[1;32m    378\u001b[0m                                            min_impurity_split)\n\u001b[1;32m    379\u001b[0m \u001b[0;34m\u001b[0m\u001b[0m\n\u001b[0;32m--> 380\u001b[0;31m         \u001b[0mbuilder\u001b[0m\u001b[0;34m.\u001b[0m\u001b[0mbuild\u001b[0m\u001b[0;34m(\u001b[0m\u001b[0mself\u001b[0m\u001b[0;34m.\u001b[0m\u001b[0mtree_\u001b[0m\u001b[0;34m,\u001b[0m \u001b[0mX\u001b[0m\u001b[0;34m,\u001b[0m \u001b[0my\u001b[0m\u001b[0;34m,\u001b[0m \u001b[0msample_weight\u001b[0m\u001b[0;34m,\u001b[0m \u001b[0mX_idx_sorted\u001b[0m\u001b[0;34m)\u001b[0m\u001b[0;34m\u001b[0m\u001b[0;34m\u001b[0m\u001b[0m\n\u001b[0m\u001b[1;32m    381\u001b[0m \u001b[0;34m\u001b[0m\u001b[0m\n\u001b[1;32m    382\u001b[0m         \u001b[0;32mif\u001b[0m \u001b[0mself\u001b[0m\u001b[0;34m.\u001b[0m\u001b[0mn_outputs_\u001b[0m \u001b[0;34m==\u001b[0m \u001b[0;36m1\u001b[0m\u001b[0;34m:\u001b[0m\u001b[0;34m\u001b[0m\u001b[0;34m\u001b[0m\u001b[0m\n",
      "\u001b[0;31mKeyboardInterrupt\u001b[0m: "
     ]
    }
   ],
   "source": [
    "clf = RandomForestClassifier(n_estimators=125, max_depth=5, random_state=0)\n",
    "clf = clf.fit(X_train, y_train)  \n",
    "clf.score(X_test, y_test)"
   ]
  },
  {
   "cell_type": "code",
   "execution_count": 9,
   "metadata": {},
   "outputs": [
    {
     "data": {
      "text/plain": [
       "0.7360914712048435"
      ]
     },
     "execution_count": 9,
     "metadata": {},
     "output_type": "execute_result"
    }
   ],
   "source": [
    "decisionTree = tree.DecisionTreeClassifier(min_impurity_decrease=0)\n",
    "decisionTree.fit(X_train, y_train)\n",
    "decisionTree.score(X_test, y_test)"
   ]
  },
  {
   "cell_type": "code",
   "execution_count": null,
   "metadata": {},
   "outputs": [],
   "source": [
    "model1 = xgb.XGBClassifier()\n",
    "train_model1 = model1.fit(X_train, y_train)\n",
    "train_model1.score(X_test, y_test)"
   ]
  },
  {
   "cell_type": "code",
   "execution_count": 11,
   "metadata": {},
   "outputs": [
    {
     "name": "stdout",
     "output_type": "stream",
     "text": [
      "3\n",
      "4\n",
      "5\n",
      "6\n",
      "7\n",
      "8\n"
     ]
    },
    {
     "name": "stderr",
     "output_type": "stream",
     "text": [
      "/home/rebecca/anaconda3/lib/python3.6/site-packages/joblib/externals/loky/process_executor.py:706: UserWarning: A worker stopped while some jobs were given to the executor. This can be caused by a too short worker timeout or by a memory leak.\n",
      "  \"timeout or by a memory leak.\", UserWarning\n"
     ]
    },
    {
     "name": "stdout",
     "output_type": "stream",
     "text": [
      "9\n"
     ]
    }
   ],
   "source": [
    "depth = []\n",
    "for i in range(3,10):\n",
    "    print(i)\n",
    "    clf = tree.DecisionTreeClassifier(max_depth=i)\n",
    "    # Perform 7-fold cross validation \n",
    "    scores = cross_val_score(estimator=clf, X=X, y=y, cv=7, n_jobs=4)\n",
    "    depth.append((i,scores.mean()))"
   ]
  },
  {
   "cell_type": "code",
   "execution_count": 12,
   "metadata": {},
   "outputs": [
    {
     "data": {
      "text/plain": [
       "[(3, 0.78458195598877),\n",
       " (4, 0.78458195598877),\n",
       " (5, 0.7789567266051621),\n",
       " (6, 0.7839797487300059),\n",
       " (7, 0.7872307910085727),\n",
       " (8, 0.7923561602903246),\n",
       " (9, 0.7908998144592126)]"
      ]
     },
     "execution_count": 12,
     "metadata": {},
     "output_type": "execute_result"
    }
   ],
   "source": [
    "depth"
   ]
  },
  {
   "cell_type": "code",
   "execution_count": 13,
   "metadata": {},
   "outputs": [
    {
     "name": "stdout",
     "output_type": "stream",
     "text": [
      "10\n",
      "11\n",
      "12\n",
      "13\n",
      "14\n",
      "15\n",
      "16\n",
      "17\n",
      "18\n",
      "19\n"
     ]
    }
   ],
   "source": [
    "for i in range(10,20):\n",
    "    print(i)\n",
    "    clf = tree.DecisionTreeClassifier(max_depth=i)\n",
    "    # Perform 7-fold cross validation \n",
    "    scores = cross_val_score(estimator=clf, X=X, y=y, cv=7, n_jobs=4)\n",
    "    depth.append((i,scores.mean()))"
   ]
  },
  {
   "cell_type": "code",
   "execution_count": 14,
   "metadata": {},
   "outputs": [
    {
     "data": {
      "text/plain": [
       "[(3, 0.78458195598877),\n",
       " (4, 0.78458195598877),\n",
       " (5, 0.7789567266051621),\n",
       " (6, 0.7839797487300059),\n",
       " (7, 0.7872307910085727),\n",
       " (8, 0.7923561602903246),\n",
       " (9, 0.7908998144592126),\n",
       " (10, 0.7944994449197361),\n",
       " (11, 0.7952171023501405),\n",
       " (12, 0.7967553305562954),\n",
       " (13, 0.7960359782593649),\n",
       " (14, 0.7930300262980136),\n",
       " (15, 0.7917317706924416),\n",
       " (16, 0.7861037165011082),\n",
       " (17, 0.780575176396671),\n",
       " (18, 0.7740998147191419),\n",
       " (19, 0.7656244664291647)]"
      ]
     },
     "execution_count": 14,
     "metadata": {},
     "output_type": "execute_result"
    }
   ],
   "source": [
    "depth"
   ]
  },
  {
   "cell_type": "markdown",
   "metadata": {},
   "source": [
    "depth and cross validation accuracy\n",
    "[(3, 0.78458195598877),\n",
    " (4, 0.78458195598877),\n",
    " (5, 0.7789567266051621),\n",
    " (6, 0.7839797487300059),\n",
    " (7, 0.7872307910085727),\n",
    " (8, 0.7923561602903246),\n",
    " (9, 0.7908998144592126),\n",
    " (10, 0.7944994449197361),\n",
    " (11, 0.7952171023501405),\n",
    " (12, 0.7967553305562954),\n",
    " (13, 0.7960359782593649),\n",
    " (14, 0.7930300262980136),\n",
    " (15, 0.7917317706924416),\n",
    " (16, 0.7861037165011082),\n",
    " (17, 0.780575176396671),\n",
    " (18, 0.7740998147191419),\n",
    " (19, 0.7656244664291647)]"
   ]
  },
  {
   "cell_type": "code",
   "execution_count": 15,
   "metadata": {},
   "outputs": [
    {
     "data": {
      "text/plain": [
       "0.7962123308703943"
      ]
     },
     "execution_count": 15,
     "metadata": {},
     "output_type": "execute_result"
    }
   ],
   "source": [
    "decisionTree = tree.DecisionTreeClassifier(max_depth=12, criterion='gini')\n",
    "dt = decisionTree.fit(X_train, y_train)\n",
    "dt.score(X_test, y_test)"
   ]
  },
  {
   "cell_type": "code",
   "execution_count": 16,
   "metadata": {},
   "outputs": [
    {
     "name": "stdout",
     "output_type": "stream",
     "text": [
      "              precision    recall  f1-score   support\n",
      "\n",
      "         0-2       0.82      0.96      0.88    414069\n",
      "         10+       0.53      0.02      0.03      4663\n",
      "         3-9       0.53      0.21      0.30    108822\n",
      "\n",
      "    accuracy                           0.80    527554\n",
      "   macro avg       0.63      0.39      0.40    527554\n",
      "weighted avg       0.76      0.80      0.76    527554\n",
      "\n"
     ]
    }
   ],
   "source": [
    "y_pred = dt.predict(X_test)\n",
    "print(classification_report(y_test, y_pred,))"
   ]
  },
  {
   "cell_type": "code",
   "execution_count": 17,
   "metadata": {},
   "outputs": [
    {
     "data": {
      "text/plain": [
       "0-2    1379696\n",
       "3-9     363317\n",
       "10+      15498\n",
       "Name: COUNT_BINS, dtype: int64"
      ]
     },
     "execution_count": 17,
     "metadata": {},
     "output_type": "execute_result"
    }
   ],
   "source": [
    "df.COUNT_BINS.value_counts()"
   ]
  },
  {
   "cell_type": "code",
   "execution_count": 20,
   "metadata": {},
   "outputs": [
    {
     "data": {
      "text/plain": [
       "0.45568605299173165"
      ]
     },
     "execution_count": 20,
     "metadata": {},
     "output_type": "execute_result"
    }
   ],
   "source": [
    "decisionTree = tree.DecisionTreeClassifier(max_depth=12, criterion='gini', class_weight={'0-2': 1, '3-9': 10, '10+':100})\n",
    "dt_weighted = decisionTree.fit(X_train, y_train)\n",
    "dt_weighted.score(X_test, y_test)\n",
    "\n"
   ]
  },
  {
   "cell_type": "code",
   "execution_count": 21,
   "metadata": {},
   "outputs": [
    {
     "name": "stdout",
     "output_type": "stream",
     "text": [
      "              precision    recall  f1-score   support\n",
      "\n",
      "         0-2       0.96      0.36      0.52    414069\n",
      "         10+       0.10      0.57      0.18      4663\n",
      "         3-9       0.26      0.82      0.39    108822\n",
      "\n",
      "    accuracy                           0.46    527554\n",
      "   macro avg       0.44      0.58      0.36    527554\n",
      "weighted avg       0.81      0.46      0.49    527554\n",
      "\n"
     ]
    }
   ],
   "source": [
    "y_pred = dt_weighted.predict(X_test)\n",
    "print(classification_report(y_test, y_pred,))"
   ]
  },
  {
   "cell_type": "code",
   "execution_count": 22,
   "metadata": {},
   "outputs": [
    {
     "data": {
      "text/plain": [
       "0.4555287231259738"
      ]
     },
     "execution_count": 22,
     "metadata": {},
     "output_type": "execute_result"
    }
   ],
   "source": [
    "decisionTree = tree.DecisionTreeClassifier(max_depth=12, criterion='gini', class_weight={'0-2': .1, '3-9': 1, '10+':10})\n",
    "dt_weighted2 = decisionTree.fit(X_train, y_train)\n",
    "dt_weighted.score(X_test, y_test)\n",
    "\n"
   ]
  },
  {
   "cell_type": "code",
   "execution_count": 23,
   "metadata": {},
   "outputs": [
    {
     "name": "stdout",
     "output_type": "stream",
     "text": [
      "              precision    recall  f1-score   support\n",
      "\n",
      "         0-2       0.96      0.36      0.52    414069\n",
      "         10+       0.10      0.57      0.18      4663\n",
      "         3-9       0.26      0.82      0.39    108822\n",
      "\n",
      "    accuracy                           0.46    527554\n",
      "   macro avg       0.44      0.58      0.36    527554\n",
      "weighted avg       0.81      0.46      0.49    527554\n",
      "\n"
     ]
    }
   ],
   "source": [
    "y_pred = dt_weighted2.predict(X_test)\n",
    "print(classification_report(y_test, y_pred,))"
   ]
  },
  {
   "cell_type": "code",
   "execution_count": 28,
   "metadata": {},
   "outputs": [
    {
     "data": {
      "text/plain": [
       "0.6121515522581574"
      ]
     },
     "execution_count": 28,
     "metadata": {},
     "output_type": "execute_result"
    }
   ],
   "source": [
    "decisionTree = tree.DecisionTreeClassifier(max_depth=12, criterion='gini', class_weight={'0-2': 1, '3-9': 3.8, '10+':89})\n",
    "dt_weighted3 = decisionTree.fit(X_train, y_train)\n",
    "dt_weighted3.score(X_test, y_test)\n"
   ]
  },
  {
   "cell_type": "code",
   "execution_count": 30,
   "metadata": {},
   "outputs": [
    {
     "name": "stdout",
     "output_type": "stream",
     "text": [
      "              precision    recall  f1-score   support\n",
      "\n",
      "         0-2       0.91      0.64      0.75    414069\n",
      "         10+       0.06      0.78      0.11      4663\n",
      "         3-9       0.31      0.50      0.38    108822\n",
      "\n",
      "    accuracy                           0.61    527554\n",
      "   macro avg       0.43      0.64      0.42    527554\n",
      "weighted avg       0.78      0.61      0.67    527554\n",
      "\n"
     ]
    }
   ],
   "source": [
    "y_pred = dt_weighted3.predict(X_test)\n",
    "print(classification_report(y_test, y_pred,))"
   ]
  },
  {
   "cell_type": "code",
   "execution_count": null,
   "metadata": {},
   "outputs": [],
   "source": [
    "#we want to optimize for recall in the minority classes\n",
    "precision: What proportion of positive identifications was actually correct?\n",
    "recall: What proportion of actual positives was identified correctly?"
   ]
  },
  {
   "cell_type": "code",
   "execution_count": 37,
   "metadata": {},
   "outputs": [
    {
     "data": {
      "text/plain": [
       "0.6102408473824481"
      ]
     },
     "execution_count": 37,
     "metadata": {},
     "output_type": "execute_result"
    }
   ],
   "source": [
    "decisionTree = tree.DecisionTreeClassifier(max_depth=12, criterion='gini', class_weight={'0-2': 1, '3-9': 3.9, '10+':85})\n",
    "dt_weighted4 = decisionTree.fit(X_train, y_train)\n",
    "dt_weighted4.score(X_test, y_test)\n"
   ]
  },
  {
   "cell_type": "code",
   "execution_count": 34,
   "metadata": {},
   "outputs": [
    {
     "name": "stdout",
     "output_type": "stream",
     "text": [
      "              precision    recall  f1-score   support\n",
      "\n",
      "         0-2       0.91      0.62      0.74    414069\n",
      "         10+       0.06      0.77      0.12      4663\n",
      "         3-9       0.30      0.53      0.39    108822\n",
      "\n",
      "    accuracy                           0.60    527554\n",
      "   macro avg       0.43      0.64      0.41    527554\n",
      "weighted avg       0.78      0.60      0.66    527554\n",
      "\n"
     ]
    }
   ],
   "source": [
    "y_pred = dt_weighted4.predict(X_test)\n",
    "print(classification_report(y_test, y_pred,))"
   ]
  },
  {
   "cell_type": "code",
   "execution_count": 144,
   "metadata": {},
   "outputs": [
    {
     "name": "stdout",
     "output_type": "stream",
     "text": [
      "              precision    recall  f1-score   support\n",
      "\n",
      "         0-2       0.93      0.54      0.68    413850\n",
      "         10+       0.08      0.69      0.15      4731\n",
      "         3-9       0.29      0.66      0.40    108966\n",
      "\n",
      "    accuracy                           0.57    527547\n",
      "   macro avg       0.43      0.63      0.41    527547\n",
      "weighted avg       0.79      0.57      0.62    527547\n",
      "\n"
     ]
    }
   ],
   "source": [
    "decisionTree = tree.DecisionTreeClassifier(max_depth=11, criterion='gini', class_weight={'0-2': .19, '3-9': 1, '10+':14})\n",
    "dt_weighted5 = decisionTree.fit(X_train, y_train)\n",
    "dt_weighted5.score(X_test, y_test)\n",
    "y_pred = dt_weighted5.predict(X_test)\n",
    "print(classification_report(y_test, y_pred,))\n"
   ]
  },
  {
   "cell_type": "code",
   "execution_count": 162,
   "metadata": {},
   "outputs": [
    {
     "name": "stdout",
     "output_type": "stream",
     "text": [
      "              precision    recall  f1-score   support\n",
      "\n",
      "         0-2       0.93      0.53      0.67    413586\n",
      "         10+       0.08      0.69      0.14      4627\n",
      "         3-9       0.29      0.67      0.41    109339\n",
      "\n",
      "    accuracy                           0.56    527552\n",
      "   macro avg       0.43      0.63      0.41    527552\n",
      "weighted avg       0.79      0.56      0.61    527552\n",
      "\n"
     ]
    }
   ],
   "source": [
    "#this one!\n",
    "decisionTree = tree.DecisionTreeClassifier(max_depth=12, criterion='gini', class_weight={'0-2': .19, '3-9': 1, '10+':14})\n",
    "dt_weighted5 = decisionTree.fit(X_train, y_train)\n",
    "dt_weighted5.score(X_test, y_test)\n",
    "\n",
    "y_pred = dt_weighted5.predict(X_test)\n",
    "print(classification_report(y_test, y_pred,))\n",
    "\n",
    "import pickle\n",
    "filename = 'dt5gini_.19_1_14.pkl'\n",
    "pickle.dump(dt_weighted5, open(filename, 'wb'))"
   ]
  },
  {
   "cell_type": "code",
   "execution_count": 45,
   "metadata": {},
   "outputs": [
    {
     "name": "stdout",
     "output_type": "stream",
     "text": [
      "              precision    recall  f1-score   support\n",
      "\n",
      "         0-2       0.92      0.56      0.70    414069\n",
      "         10+       0.10      0.64      0.18      4663\n",
      "         3-9       0.30      0.69      0.42    108822\n",
      "\n",
      "    accuracy                           0.59    527554\n",
      "   macro avg       0.44      0.63      0.43    527554\n",
      "weighted avg       0.79      0.59      0.64    527554\n",
      "\n"
     ]
    }
   ],
   "source": [
    "y_pred = dt_weighted5.predict(X_test)\n",
    "print(classification_report(y_test, y_pred,))"
   ]
  },
  {
   "cell_type": "code",
   "execution_count": 54,
   "metadata": {},
   "outputs": [],
   "source": [
    "X = df[['start_lat', 'start_lon', 'hour_of_day', 'AVG_WND_SPEED', 'TAVG', 'TMAX', 'TMIN', 'month', 'WEEKDAY', 'Walk Score', 'Transit Score', 'Bike Score']]\n",
    "normalized_X = preprocessing.normalize(X)\n",
    "y = df['COUNT_BINS'].astype(str)\n",
    "\n",
    "X_train, X_test, y_train, y_test = train_test_split(normalized_X, y, test_size = 0.3)"
   ]
  },
  {
   "cell_type": "code",
   "execution_count": 55,
   "metadata": {},
   "outputs": [
    {
     "data": {
      "text/plain": [
       "0.5714334456757033"
      ]
     },
     "execution_count": 55,
     "metadata": {},
     "output_type": "execute_result"
    }
   ],
   "source": [
    "decisionTree = tree.DecisionTreeClassifier(max_depth=12, criterion='gini', class_weight={'0-2': .19, '3-9': 1, '10+':14})\n",
    "dt_weighted5 = decisionTree.fit(X_train, y_train)\n",
    "dt_weighted5.score(X_test, y_test)\n"
   ]
  },
  {
   "cell_type": "code",
   "execution_count": 56,
   "metadata": {},
   "outputs": [
    {
     "name": "stdout",
     "output_type": "stream",
     "text": [
      "              precision    recall  f1-score   support\n",
      "\n",
      "         0-2       0.93      0.54      0.68    414216\n",
      "         10+       0.09      0.67      0.16      4593\n",
      "         3-9       0.30      0.69      0.41    108745\n",
      "\n",
      "    accuracy                           0.57    527554\n",
      "   macro avg       0.44      0.63      0.42    527554\n",
      "weighted avg       0.79      0.57      0.62    527554\n",
      "\n"
     ]
    }
   ],
   "source": [
    "y_pred = dt_weighted5.predict(X_test)\n",
    "print(classification_report(y_test, y_pred,))"
   ]
  },
  {
   "cell_type": "code",
   "execution_count": 57,
   "metadata": {},
   "outputs": [
    {
     "data": {
      "text/plain": [
       "0.5779730605776849"
      ]
     },
     "execution_count": 57,
     "metadata": {},
     "output_type": "execute_result"
    }
   ],
   "source": [
    "decisionTree = tree.DecisionTreeClassifier(max_depth=12, criterion='entropy', class_weight={'0-2': .19, '3-9': 1, '10+':14})\n",
    "dt_weighted5E = decisionTree.fit(X_train, y_train)\n",
    "dt_weighted5E.score(X_test, y_test)\n",
    "\n"
   ]
  },
  {
   "cell_type": "code",
   "execution_count": 58,
   "metadata": {},
   "outputs": [
    {
     "name": "stdout",
     "output_type": "stream",
     "text": [
      "              precision    recall  f1-score   support\n",
      "\n",
      "         0-2       0.92      0.56      0.70    414216\n",
      "         10+       0.08      0.69      0.14      4593\n",
      "         3-9       0.30      0.65      0.41    108745\n",
      "\n",
      "    accuracy                           0.58    527554\n",
      "   macro avg       0.43      0.63      0.42    527554\n",
      "weighted avg       0.79      0.58      0.63    527554\n",
      "\n"
     ]
    }
   ],
   "source": [
    "y_pred = dt_weighted5E.predict(X_test)\n",
    "print(classification_report(y_test, y_pred,))"
   ]
  },
  {
   "cell_type": "code",
   "execution_count": 59,
   "metadata": {},
   "outputs": [
    {
     "name": "stdout",
     "output_type": "stream",
     "text": [
      "3\n",
      "4\n",
      "5\n",
      "6\n",
      "7\n",
      "8\n",
      "9\n",
      "10\n",
      "11\n",
      "12\n",
      "13\n",
      "14\n",
      "15\n",
      "16\n",
      "17\n",
      "18\n"
     ]
    },
    {
     "name": "stderr",
     "output_type": "stream",
     "text": [
      "/home/rebecca/anaconda3/lib/python3.6/site-packages/joblib/externals/loky/process_executor.py:706: UserWarning: A worker stopped while some jobs were given to the executor. This can be caused by a too short worker timeout or by a memory leak.\n",
      "  \"timeout or by a memory leak.\", UserWarning\n"
     ]
    },
    {
     "name": "stdout",
     "output_type": "stream",
     "text": [
      "19\n"
     ]
    }
   ],
   "source": [
    "depthE = []\n",
    "for i in range(3,20):\n",
    "    print(i)\n",
    "    clf = tree.DecisionTreeClassifier(max_depth=i, criterion='entropy', class_weight={'0-2': .19, '3-9': 1, '10+':14})\n",
    "    # Perform 7-fold cross validation \n",
    "    scores = cross_val_score(estimator=clf, X=X, y=y, cv=7, n_jobs=4)\n",
    "    depthE.append((i,scores.mean()))"
   ]
  },
  {
   "cell_type": "code",
   "execution_count": 67,
   "metadata": {},
   "outputs": [
    {
     "name": "stdout",
     "output_type": "stream",
     "text": [
      "50\n",
      "51\n",
      "52\n",
      "53\n",
      "54\n"
     ]
    }
   ],
   "source": [
    "for i in range(50,55):\n",
    "    print(i)\n",
    "    clf = tree.DecisionTreeClassifier(max_depth=i, criterion='entropy', class_weight={'0-2': .19, '3-9': 1, '10+':14})\n",
    "    # Perform 7-fold cross validation \n",
    "    scores = cross_val_score(estimator=clf, X=X, y=y, cv=7, n_jobs=4)\n",
    "    depthE.append((i,scores.mean()))"
   ]
  },
  {
   "cell_type": "code",
   "execution_count": 68,
   "metadata": {},
   "outputs": [
    {
     "data": {
      "text/plain": [
       "[(3, 0.45268317541881664),\n",
       " (4, 0.45723625418168856),\n",
       " (5, 0.45478137251502504),\n",
       " (6, 0.46821544158375566),\n",
       " (7, 0.5121452705562455),\n",
       " (8, 0.5134230371499493),\n",
       " (9, 0.5390470339912886),\n",
       " (10, 0.5631208079034864),\n",
       " (11, 0.5913679746251604),\n",
       " (12, 0.5945462342077219),\n",
       " (13, 0.6053627762749761),\n",
       " (14, 0.6055612637308085),\n",
       " (15, 0.6105529735047192),\n",
       " (16, 0.6080605093151269),\n",
       " (17, 0.6116465009007291),\n",
       " (18, 0.6138432438072788),\n",
       " (19, 0.6171733288761211),\n",
       " (20, 0.6206052089932743),\n",
       " (21, 0.624072917654134),\n",
       " (22, 0.6295172933355662),\n",
       " (23, 0.6340228048132156),\n",
       " (24, 0.6391089222710632),\n",
       " (25, 0.6452379697288755),\n",
       " (26, 0.651082688106771),\n",
       " (27, 0.656970053098595),\n",
       " (28, 0.6629029110936173),\n",
       " (29, 0.6679833451353406),\n",
       " (30, 0.6727385043348095),\n",
       " (31, 0.6772457257548278),\n",
       " (32, 0.6807970241661315),\n",
       " (33, 0.6841788619430959),\n",
       " (34, 0.6867617307344581),\n",
       " (35, 0.6886565141214037),\n",
       " (36, 0.6904205076192517),\n",
       " (37, 0.6914406871902017),\n",
       " (38, 0.692670706009608),\n",
       " (39, 0.69348048109892),\n",
       " (40, 0.6941054424673775),\n",
       " (41, 0.6943715751636417),\n",
       " (42, 0.6945467243389863),\n",
       " (43, 0.6947099299858277),\n",
       " (44, 0.694698556163459),\n",
       " (45, 0.6951540547244824),\n",
       " (46, 0.6950556766091226),\n",
       " (47, 0.6950613640001986),\n",
       " (48, 0.6952296872369086),\n",
       " (49, 0.6950710309134759),\n",
       " (50, 0.6952689258864277),\n",
       " (51, 0.6951614473314469),\n",
       " (52, 0.6948259363179808),\n",
       " (53, 0.6951881749013136),\n",
       " (54, 0.6950408928348687)]"
      ]
     },
     "execution_count": 68,
     "metadata": {},
     "output_type": "execute_result"
    }
   ],
   "source": [
    "depthE"
   ]
  },
  {
   "cell_type": "code",
   "execution_count": 75,
   "metadata": {},
   "outputs": [
    {
     "data": {
      "text/plain": [
       "0.7274364330476122"
      ]
     },
     "execution_count": 75,
     "metadata": {},
     "output_type": "execute_result"
    }
   ],
   "source": [
    "decisionTree = tree.DecisionTreeClassifier(max_depth=40, criterion='entropy', class_weight={'0-2': .08, '3-9': 1.2, '10+':20})\n",
    "dt_weighted6E = decisionTree.fit(X_train, y_train)\n",
    "dt_weighted6E.score(X_test, y_test)\n"
   ]
  },
  {
   "cell_type": "code",
   "execution_count": 76,
   "metadata": {},
   "outputs": [
    {
     "name": "stdout",
     "output_type": "stream",
     "text": [
      "              precision    recall  f1-score   support\n",
      "\n",
      "         0-2       0.84      0.82      0.83    414216\n",
      "         10+       0.20      0.21      0.21      4593\n",
      "         3-9       0.37      0.40      0.38    108745\n",
      "\n",
      "    accuracy                           0.73    527554\n",
      "   macro avg       0.47      0.48      0.47    527554\n",
      "weighted avg       0.74      0.73      0.73    527554\n",
      "\n"
     ]
    }
   ],
   "source": [
    "y_pred = dt_weighted6E.predict(X_test)\n",
    "print(classification_report(y_test, y_pred,))"
   ]
  },
  {
   "cell_type": "code",
   "execution_count": 77,
   "metadata": {},
   "outputs": [
    {
     "data": {
      "text/plain": [
       "0.7184496752939036"
      ]
     },
     "execution_count": 77,
     "metadata": {},
     "output_type": "execute_result"
    }
   ],
   "source": [
    "decisionTree = tree.DecisionTreeClassifier(max_depth=40, criterion='gini', class_weight={'0-2': .08, '3-9': 1.2, '10+':20})\n",
    "dt_weighted6 = decisionTree.fit(X_train, y_train)\n",
    "dt_weighted6.score(X_test, y_test)\n"
   ]
  },
  {
   "cell_type": "code",
   "execution_count": 78,
   "metadata": {},
   "outputs": [
    {
     "name": "stdout",
     "output_type": "stream",
     "text": [
      "              precision    recall  f1-score   support\n",
      "\n",
      "         0-2       0.85      0.79      0.82    414216\n",
      "         10+       0.20      0.24      0.22      4593\n",
      "         3-9       0.36      0.45      0.40    108745\n",
      "\n",
      "    accuracy                           0.72    527554\n",
      "   macro avg       0.47      0.49      0.48    527554\n",
      "weighted avg       0.74      0.72      0.73    527554\n",
      "\n"
     ]
    }
   ],
   "source": [
    "y_pred = dt_weighted6.predict(X_test)\n",
    "print(classification_report(y_test, y_pred,))"
   ]
  },
  {
   "cell_type": "code",
   "execution_count": 79,
   "metadata": {},
   "outputs": [
    {
     "data": {
      "text/plain": [
       "0.6547216019592307"
      ]
     },
     "execution_count": 79,
     "metadata": {},
     "output_type": "execute_result"
    }
   ],
   "source": [
    "decisionTree = tree.DecisionTreeClassifier(max_depth=30, criterion='gini', class_weight={'0-2': .08, '3-9': 1.2, '10+':20})\n",
    "dt_weighted7 = decisionTree.fit(X_train, y_train)\n",
    "dt_weighted7.score(X_test, y_test)\n"
   ]
  },
  {
   "cell_type": "code",
   "execution_count": 80,
   "metadata": {},
   "outputs": [
    {
     "name": "stdout",
     "output_type": "stream",
     "text": [
      "              precision    recall  f1-score   support\n",
      "\n",
      "         0-2       0.87      0.67      0.76    414216\n",
      "         10+       0.17      0.34      0.23      4593\n",
      "         3-9       0.32      0.59      0.42    108745\n",
      "\n",
      "    accuracy                           0.65    527554\n",
      "   macro avg       0.46      0.54      0.47    527554\n",
      "weighted avg       0.75      0.65      0.69    527554\n",
      "\n"
     ]
    }
   ],
   "source": [
    "y_pred = dt_weighted7.predict(X_test)\n",
    "print(classification_report(y_test, y_pred,))"
   ]
  },
  {
   "cell_type": "code",
   "execution_count": 104,
   "metadata": {},
   "outputs": [],
   "source": [
    "deletedf = df.loc[(df['COUNT'] > 40)]"
   ]
  },
  {
   "cell_type": "code",
   "execution_count": 105,
   "metadata": {},
   "outputs": [
    {
     "data": {
      "text/html": [
       "<div>\n",
       "<style scoped>\n",
       "    .dataframe tbody tr th:only-of-type {\n",
       "        vertical-align: middle;\n",
       "    }\n",
       "\n",
       "    .dataframe tbody tr th {\n",
       "        vertical-align: top;\n",
       "    }\n",
       "\n",
       "    .dataframe thead th {\n",
       "        text-align: right;\n",
       "    }\n",
       "</style>\n",
       "<table border=\"1\" class=\"dataframe\">\n",
       "  <thead>\n",
       "    <tr style=\"text-align: right;\">\n",
       "      <th></th>\n",
       "      <th>Unnamed: 0</th>\n",
       "      <th>Datetime</th>\n",
       "      <th>start_station_id</th>\n",
       "      <th>AVG_WND_SPEED</th>\n",
       "      <th>Bike Score</th>\n",
       "      <th>COUNT</th>\n",
       "      <th>FOG</th>\n",
       "      <th>HOLIDAY</th>\n",
       "      <th>Neighborhood</th>\n",
       "      <th>PRCP</th>\n",
       "      <th>...</th>\n",
       "      <th>TMAX</th>\n",
       "      <th>TMIN</th>\n",
       "      <th>Transit Score</th>\n",
       "      <th>WEEKDAY</th>\n",
       "      <th>Walk Score</th>\n",
       "      <th>hour_of_day</th>\n",
       "      <th>month</th>\n",
       "      <th>start_lat</th>\n",
       "      <th>start_lon</th>\n",
       "      <th>COUNT_BINS</th>\n",
       "    </tr>\n",
       "  </thead>\n",
       "  <tbody>\n",
       "    <tr>\n",
       "      <td>1565</td>\n",
       "      <td>1565</td>\n",
       "      <td>2015-04-26 11:00:00</td>\n",
       "      <td>3059.0</td>\n",
       "      <td>7.38</td>\n",
       "      <td>97.0</td>\n",
       "      <td>46.0</td>\n",
       "      <td>0.0</td>\n",
       "      <td>False</td>\n",
       "      <td>Northern Liberties – Fishtown</td>\n",
       "      <td>0.00</td>\n",
       "      <td>...</td>\n",
       "      <td>64</td>\n",
       "      <td>45</td>\n",
       "      <td>86.0</td>\n",
       "      <td>0</td>\n",
       "      <td>96.0</td>\n",
       "      <td>11</td>\n",
       "      <td>4</td>\n",
       "      <td>39.962650</td>\n",
       "      <td>-75.161740</td>\n",
       "      <td>10+</td>\n",
       "    </tr>\n",
       "    <tr>\n",
       "      <td>3354</td>\n",
       "      <td>3354</td>\n",
       "      <td>2015-04-29 10:00:00</td>\n",
       "      <td>3037.0</td>\n",
       "      <td>8.05</td>\n",
       "      <td>78.0</td>\n",
       "      <td>48.0</td>\n",
       "      <td>0.0</td>\n",
       "      <td>False</td>\n",
       "      <td>Center City East</td>\n",
       "      <td>0.00</td>\n",
       "      <td>...</td>\n",
       "      <td>77</td>\n",
       "      <td>51</td>\n",
       "      <td>100.0</td>\n",
       "      <td>1</td>\n",
       "      <td>99.0</td>\n",
       "      <td>10</td>\n",
       "      <td>4</td>\n",
       "      <td>39.954240</td>\n",
       "      <td>-75.161380</td>\n",
       "      <td>10+</td>\n",
       "    </tr>\n",
       "    <tr>\n",
       "      <td>5464</td>\n",
       "      <td>5464</td>\n",
       "      <td>2015-05-02 08:00:00</td>\n",
       "      <td>3061.0</td>\n",
       "      <td>4.70</td>\n",
       "      <td>98.0</td>\n",
       "      <td>49.0</td>\n",
       "      <td>0.0</td>\n",
       "      <td>False</td>\n",
       "      <td>Center City West</td>\n",
       "      <td>0.00</td>\n",
       "      <td>...</td>\n",
       "      <td>74</td>\n",
       "      <td>47</td>\n",
       "      <td>100.0</td>\n",
       "      <td>0</td>\n",
       "      <td>91.0</td>\n",
       "      <td>8</td>\n",
       "      <td>5</td>\n",
       "      <td>39.954250</td>\n",
       "      <td>-75.177610</td>\n",
       "      <td>10+</td>\n",
       "    </tr>\n",
       "    <tr>\n",
       "      <td>5558</td>\n",
       "      <td>5558</td>\n",
       "      <td>2015-05-02 11:00:00</td>\n",
       "      <td>3020.0</td>\n",
       "      <td>4.70</td>\n",
       "      <td>88.0</td>\n",
       "      <td>42.0</td>\n",
       "      <td>0.0</td>\n",
       "      <td>False</td>\n",
       "      <td>University City</td>\n",
       "      <td>0.00</td>\n",
       "      <td>...</td>\n",
       "      <td>74</td>\n",
       "      <td>47</td>\n",
       "      <td>98.0</td>\n",
       "      <td>0</td>\n",
       "      <td>75.0</td>\n",
       "      <td>11</td>\n",
       "      <td>5</td>\n",
       "      <td>39.948870</td>\n",
       "      <td>-75.189860</td>\n",
       "      <td>10+</td>\n",
       "    </tr>\n",
       "    <tr>\n",
       "      <td>5840</td>\n",
       "      <td>5840</td>\n",
       "      <td>2015-05-02 16:00:00</td>\n",
       "      <td>3051.0</td>\n",
       "      <td>4.70</td>\n",
       "      <td>94.0</td>\n",
       "      <td>41.0</td>\n",
       "      <td>0.0</td>\n",
       "      <td>False</td>\n",
       "      <td>Fairmount – Art Museum</td>\n",
       "      <td>0.00</td>\n",
       "      <td>...</td>\n",
       "      <td>74</td>\n",
       "      <td>47</td>\n",
       "      <td>73.0</td>\n",
       "      <td>0</td>\n",
       "      <td>93.0</td>\n",
       "      <td>16</td>\n",
       "      <td>5</td>\n",
       "      <td>39.967440</td>\n",
       "      <td>-75.175070</td>\n",
       "      <td>10+</td>\n",
       "    </tr>\n",
       "    <tr>\n",
       "      <td>5972</td>\n",
       "      <td>5972</td>\n",
       "      <td>2015-05-02 19:00:00</td>\n",
       "      <td>3031.0</td>\n",
       "      <td>4.70</td>\n",
       "      <td>74.0</td>\n",
       "      <td>46.0</td>\n",
       "      <td>0.0</td>\n",
       "      <td>False</td>\n",
       "      <td>Avenue of the Arts North</td>\n",
       "      <td>0.00</td>\n",
       "      <td>...</td>\n",
       "      <td>74</td>\n",
       "      <td>47</td>\n",
       "      <td>89.0</td>\n",
       "      <td>0</td>\n",
       "      <td>83.0</td>\n",
       "      <td>19</td>\n",
       "      <td>5</td>\n",
       "      <td>39.980050</td>\n",
       "      <td>-75.155220</td>\n",
       "      <td>10+</td>\n",
       "    </tr>\n",
       "    <tr>\n",
       "      <td>5989</td>\n",
       "      <td>5989</td>\n",
       "      <td>2015-05-02 19:00:00</td>\n",
       "      <td>3056.0</td>\n",
       "      <td>4.70</td>\n",
       "      <td>79.0</td>\n",
       "      <td>49.0</td>\n",
       "      <td>0.0</td>\n",
       "      <td>False</td>\n",
       "      <td>Avenue of the Arts North</td>\n",
       "      <td>0.00</td>\n",
       "      <td>...</td>\n",
       "      <td>74</td>\n",
       "      <td>47</td>\n",
       "      <td>88.0</td>\n",
       "      <td>0</td>\n",
       "      <td>81.0</td>\n",
       "      <td>19</td>\n",
       "      <td>5</td>\n",
       "      <td>39.976690</td>\n",
       "      <td>-75.158130</td>\n",
       "      <td>10+</td>\n",
       "    </tr>\n",
       "    <tr>\n",
       "      <td>9978</td>\n",
       "      <td>9978</td>\n",
       "      <td>2015-05-07 20:00:00</td>\n",
       "      <td>3014.0</td>\n",
       "      <td>5.37</td>\n",
       "      <td>94.0</td>\n",
       "      <td>50.0</td>\n",
       "      <td>0.0</td>\n",
       "      <td>False</td>\n",
       "      <td>Logan Square</td>\n",
       "      <td>0.00</td>\n",
       "      <td>...</td>\n",
       "      <td>81</td>\n",
       "      <td>57</td>\n",
       "      <td>100.0</td>\n",
       "      <td>1</td>\n",
       "      <td>95.0</td>\n",
       "      <td>20</td>\n",
       "      <td>5</td>\n",
       "      <td>39.958860</td>\n",
       "      <td>-75.173690</td>\n",
       "      <td>10+</td>\n",
       "    </tr>\n",
       "    <tr>\n",
       "      <td>131680</td>\n",
       "      <td>131680</td>\n",
       "      <td>2015-09-26 13:00:00</td>\n",
       "      <td>3023.0</td>\n",
       "      <td>12.30</td>\n",
       "      <td>90.0</td>\n",
       "      <td>41.0</td>\n",
       "      <td>0.0</td>\n",
       "      <td>False</td>\n",
       "      <td>Rittenhouse Square</td>\n",
       "      <td>0.00</td>\n",
       "      <td>...</td>\n",
       "      <td>72</td>\n",
       "      <td>61</td>\n",
       "      <td>100.0</td>\n",
       "      <td>0</td>\n",
       "      <td>99.0</td>\n",
       "      <td>13</td>\n",
       "      <td>9</td>\n",
       "      <td>39.950480</td>\n",
       "      <td>-75.172860</td>\n",
       "      <td>10+</td>\n",
       "    </tr>\n",
       "    <tr>\n",
       "      <td>131736</td>\n",
       "      <td>131736</td>\n",
       "      <td>2015-09-26 14:00:00</td>\n",
       "      <td>3023.0</td>\n",
       "      <td>12.30</td>\n",
       "      <td>90.0</td>\n",
       "      <td>57.0</td>\n",
       "      <td>0.0</td>\n",
       "      <td>False</td>\n",
       "      <td>Rittenhouse Square</td>\n",
       "      <td>0.00</td>\n",
       "      <td>...</td>\n",
       "      <td>72</td>\n",
       "      <td>61</td>\n",
       "      <td>100.0</td>\n",
       "      <td>0</td>\n",
       "      <td>99.0</td>\n",
       "      <td>14</td>\n",
       "      <td>9</td>\n",
       "      <td>39.950480</td>\n",
       "      <td>-75.172860</td>\n",
       "      <td>10+</td>\n",
       "    </tr>\n",
       "    <tr>\n",
       "      <td>131795</td>\n",
       "      <td>131795</td>\n",
       "      <td>2015-09-26 15:00:00</td>\n",
       "      <td>3023.0</td>\n",
       "      <td>12.30</td>\n",
       "      <td>90.0</td>\n",
       "      <td>51.0</td>\n",
       "      <td>0.0</td>\n",
       "      <td>False</td>\n",
       "      <td>Rittenhouse Square</td>\n",
       "      <td>0.00</td>\n",
       "      <td>...</td>\n",
       "      <td>72</td>\n",
       "      <td>61</td>\n",
       "      <td>100.0</td>\n",
       "      <td>0</td>\n",
       "      <td>99.0</td>\n",
       "      <td>15</td>\n",
       "      <td>9</td>\n",
       "      <td>39.950480</td>\n",
       "      <td>-75.172860</td>\n",
       "      <td>10+</td>\n",
       "    </tr>\n",
       "    <tr>\n",
       "      <td>132024</td>\n",
       "      <td>132024</td>\n",
       "      <td>2015-09-26 19:00:00</td>\n",
       "      <td>3023.0</td>\n",
       "      <td>12.30</td>\n",
       "      <td>90.0</td>\n",
       "      <td>52.0</td>\n",
       "      <td>0.0</td>\n",
       "      <td>False</td>\n",
       "      <td>Rittenhouse Square</td>\n",
       "      <td>0.00</td>\n",
       "      <td>...</td>\n",
       "      <td>72</td>\n",
       "      <td>61</td>\n",
       "      <td>100.0</td>\n",
       "      <td>0</td>\n",
       "      <td>99.0</td>\n",
       "      <td>19</td>\n",
       "      <td>9</td>\n",
       "      <td>39.950480</td>\n",
       "      <td>-75.172860</td>\n",
       "      <td>10+</td>\n",
       "    </tr>\n",
       "    <tr>\n",
       "      <td>132717</td>\n",
       "      <td>132717</td>\n",
       "      <td>2015-09-27 12:00:00</td>\n",
       "      <td>3023.0</td>\n",
       "      <td>10.07</td>\n",
       "      <td>90.0</td>\n",
       "      <td>53.0</td>\n",
       "      <td>0.0</td>\n",
       "      <td>False</td>\n",
       "      <td>Rittenhouse Square</td>\n",
       "      <td>0.00</td>\n",
       "      <td>...</td>\n",
       "      <td>71</td>\n",
       "      <td>60</td>\n",
       "      <td>100.0</td>\n",
       "      <td>0</td>\n",
       "      <td>99.0</td>\n",
       "      <td>12</td>\n",
       "      <td>9</td>\n",
       "      <td>39.950480</td>\n",
       "      <td>-75.172860</td>\n",
       "      <td>10+</td>\n",
       "    </tr>\n",
       "    <tr>\n",
       "      <td>132774</td>\n",
       "      <td>132774</td>\n",
       "      <td>2015-09-27 13:00:00</td>\n",
       "      <td>3023.0</td>\n",
       "      <td>10.07</td>\n",
       "      <td>90.0</td>\n",
       "      <td>48.0</td>\n",
       "      <td>0.0</td>\n",
       "      <td>False</td>\n",
       "      <td>Rittenhouse Square</td>\n",
       "      <td>0.00</td>\n",
       "      <td>...</td>\n",
       "      <td>71</td>\n",
       "      <td>60</td>\n",
       "      <td>100.0</td>\n",
       "      <td>0</td>\n",
       "      <td>99.0</td>\n",
       "      <td>13</td>\n",
       "      <td>9</td>\n",
       "      <td>39.950480</td>\n",
       "      <td>-75.172860</td>\n",
       "      <td>10+</td>\n",
       "    </tr>\n",
       "    <tr>\n",
       "      <td>132834</td>\n",
       "      <td>132834</td>\n",
       "      <td>2015-09-27 14:00:00</td>\n",
       "      <td>3023.0</td>\n",
       "      <td>10.07</td>\n",
       "      <td>90.0</td>\n",
       "      <td>48.0</td>\n",
       "      <td>0.0</td>\n",
       "      <td>False</td>\n",
       "      <td>Rittenhouse Square</td>\n",
       "      <td>0.00</td>\n",
       "      <td>...</td>\n",
       "      <td>71</td>\n",
       "      <td>60</td>\n",
       "      <td>100.0</td>\n",
       "      <td>0</td>\n",
       "      <td>99.0</td>\n",
       "      <td>14</td>\n",
       "      <td>9</td>\n",
       "      <td>39.950480</td>\n",
       "      <td>-75.172860</td>\n",
       "      <td>10+</td>\n",
       "    </tr>\n",
       "    <tr>\n",
       "      <td>132894</td>\n",
       "      <td>132894</td>\n",
       "      <td>2015-09-27 15:00:00</td>\n",
       "      <td>3023.0</td>\n",
       "      <td>10.07</td>\n",
       "      <td>90.0</td>\n",
       "      <td>61.0</td>\n",
       "      <td>0.0</td>\n",
       "      <td>False</td>\n",
       "      <td>Rittenhouse Square</td>\n",
       "      <td>0.00</td>\n",
       "      <td>...</td>\n",
       "      <td>71</td>\n",
       "      <td>60</td>\n",
       "      <td>100.0</td>\n",
       "      <td>0</td>\n",
       "      <td>99.0</td>\n",
       "      <td>15</td>\n",
       "      <td>9</td>\n",
       "      <td>39.950480</td>\n",
       "      <td>-75.172860</td>\n",
       "      <td>10+</td>\n",
       "    </tr>\n",
       "    <tr>\n",
       "      <td>132953</td>\n",
       "      <td>132953</td>\n",
       "      <td>2015-09-27 16:00:00</td>\n",
       "      <td>3023.0</td>\n",
       "      <td>10.07</td>\n",
       "      <td>90.0</td>\n",
       "      <td>78.0</td>\n",
       "      <td>0.0</td>\n",
       "      <td>False</td>\n",
       "      <td>Rittenhouse Square</td>\n",
       "      <td>0.00</td>\n",
       "      <td>...</td>\n",
       "      <td>71</td>\n",
       "      <td>60</td>\n",
       "      <td>100.0</td>\n",
       "      <td>0</td>\n",
       "      <td>99.0</td>\n",
       "      <td>16</td>\n",
       "      <td>9</td>\n",
       "      <td>39.950480</td>\n",
       "      <td>-75.172860</td>\n",
       "      <td>10+</td>\n",
       "    </tr>\n",
       "    <tr>\n",
       "      <td>452958</td>\n",
       "      <td>452958</td>\n",
       "      <td>2016-09-24 11:00:00</td>\n",
       "      <td>3032.0</td>\n",
       "      <td>7.61</td>\n",
       "      <td>89.0</td>\n",
       "      <td>42.0</td>\n",
       "      <td>0.0</td>\n",
       "      <td>False</td>\n",
       "      <td>Point Breeze</td>\n",
       "      <td>0.00</td>\n",
       "      <td>...</td>\n",
       "      <td>73</td>\n",
       "      <td>59</td>\n",
       "      <td>65.0</td>\n",
       "      <td>0</td>\n",
       "      <td>93.0</td>\n",
       "      <td>11</td>\n",
       "      <td>9</td>\n",
       "      <td>39.945271</td>\n",
       "      <td>-75.179710</td>\n",
       "      <td>10+</td>\n",
       "    </tr>\n",
       "    <tr>\n",
       "      <td>499814</td>\n",
       "      <td>499814</td>\n",
       "      <td>2016-11-02 17:00:00</td>\n",
       "      <td>3021.0</td>\n",
       "      <td>6.26</td>\n",
       "      <td>79.0</td>\n",
       "      <td>60.0</td>\n",
       "      <td>0.0</td>\n",
       "      <td>False</td>\n",
       "      <td>Center City West</td>\n",
       "      <td>0.00</td>\n",
       "      <td>...</td>\n",
       "      <td>70</td>\n",
       "      <td>51</td>\n",
       "      <td>100.0</td>\n",
       "      <td>1</td>\n",
       "      <td>100.0</td>\n",
       "      <td>17</td>\n",
       "      <td>11</td>\n",
       "      <td>39.953899</td>\n",
       "      <td>-75.169022</td>\n",
       "      <td>10+</td>\n",
       "    </tr>\n",
       "    <tr>\n",
       "      <td>501246</td>\n",
       "      <td>501246</td>\n",
       "      <td>2016-11-03 17:00:00</td>\n",
       "      <td>3021.0</td>\n",
       "      <td>9.40</td>\n",
       "      <td>79.0</td>\n",
       "      <td>49.0</td>\n",
       "      <td>1.0</td>\n",
       "      <td>False</td>\n",
       "      <td>Center City West</td>\n",
       "      <td>0.01</td>\n",
       "      <td>...</td>\n",
       "      <td>72</td>\n",
       "      <td>54</td>\n",
       "      <td>100.0</td>\n",
       "      <td>1</td>\n",
       "      <td>100.0</td>\n",
       "      <td>17</td>\n",
       "      <td>11</td>\n",
       "      <td>39.953899</td>\n",
       "      <td>-75.169022</td>\n",
       "      <td>10+</td>\n",
       "    </tr>\n",
       "    <tr>\n",
       "      <td>502661</td>\n",
       "      <td>502661</td>\n",
       "      <td>2016-11-04 16:00:00</td>\n",
       "      <td>3021.0</td>\n",
       "      <td>10.74</td>\n",
       "      <td>79.0</td>\n",
       "      <td>41.0</td>\n",
       "      <td>0.0</td>\n",
       "      <td>False</td>\n",
       "      <td>Center City West</td>\n",
       "      <td>0.00</td>\n",
       "      <td>...</td>\n",
       "      <td>62</td>\n",
       "      <td>45</td>\n",
       "      <td>100.0</td>\n",
       "      <td>1</td>\n",
       "      <td>100.0</td>\n",
       "      <td>16</td>\n",
       "      <td>11</td>\n",
       "      <td>39.953899</td>\n",
       "      <td>-75.169022</td>\n",
       "      <td>10+</td>\n",
       "    </tr>\n",
       "    <tr>\n",
       "      <td>601383</td>\n",
       "      <td>601383</td>\n",
       "      <td>2017-02-19 16:00:00</td>\n",
       "      <td>3057.0</td>\n",
       "      <td>8.95</td>\n",
       "      <td>75.0</td>\n",
       "      <td>45.0</td>\n",
       "      <td>0.0</td>\n",
       "      <td>False</td>\n",
       "      <td>Fairmount – Art Museum</td>\n",
       "      <td>0.00</td>\n",
       "      <td>...</td>\n",
       "      <td>70</td>\n",
       "      <td>49</td>\n",
       "      <td>66.0</td>\n",
       "      <td>0</td>\n",
       "      <td>85.0</td>\n",
       "      <td>16</td>\n",
       "      <td>2</td>\n",
       "      <td>39.963711</td>\n",
       "      <td>-75.181602</td>\n",
       "      <td>10+</td>\n",
       "    </tr>\n",
       "    <tr>\n",
       "      <td>762514</td>\n",
       "      <td>762514</td>\n",
       "      <td>2017-07-10 17:00:00</td>\n",
       "      <td>3021.0</td>\n",
       "      <td>7.16</td>\n",
       "      <td>79.0</td>\n",
       "      <td>41.0</td>\n",
       "      <td>0.0</td>\n",
       "      <td>False</td>\n",
       "      <td>Center City West</td>\n",
       "      <td>0.00</td>\n",
       "      <td>...</td>\n",
       "      <td>89</td>\n",
       "      <td>66</td>\n",
       "      <td>100.0</td>\n",
       "      <td>1</td>\n",
       "      <td>100.0</td>\n",
       "      <td>17</td>\n",
       "      <td>7</td>\n",
       "      <td>39.953899</td>\n",
       "      <td>-75.169022</td>\n",
       "      <td>10+</td>\n",
       "    </tr>\n",
       "    <tr>\n",
       "      <td>859852</td>\n",
       "      <td>859852</td>\n",
       "      <td>2017-09-18 17:00:00</td>\n",
       "      <td>3021.0</td>\n",
       "      <td>9.62</td>\n",
       "      <td>79.0</td>\n",
       "      <td>41.0</td>\n",
       "      <td>0.0</td>\n",
       "      <td>False</td>\n",
       "      <td>Center City West</td>\n",
       "      <td>0.00</td>\n",
       "      <td>...</td>\n",
       "      <td>81</td>\n",
       "      <td>67</td>\n",
       "      <td>100.0</td>\n",
       "      <td>1</td>\n",
       "      <td>100.0</td>\n",
       "      <td>17</td>\n",
       "      <td>9</td>\n",
       "      <td>39.953899</td>\n",
       "      <td>-75.169022</td>\n",
       "      <td>10+</td>\n",
       "    </tr>\n",
       "  </tbody>\n",
       "</table>\n",
       "<p>24 rows × 26 columns</p>\n",
       "</div>"
      ],
      "text/plain": [
       "        Unnamed: 0             Datetime  start_station_id  AVG_WND_SPEED  \\\n",
       "1565          1565  2015-04-26 11:00:00            3059.0           7.38   \n",
       "3354          3354  2015-04-29 10:00:00            3037.0           8.05   \n",
       "5464          5464  2015-05-02 08:00:00            3061.0           4.70   \n",
       "5558          5558  2015-05-02 11:00:00            3020.0           4.70   \n",
       "5840          5840  2015-05-02 16:00:00            3051.0           4.70   \n",
       "5972          5972  2015-05-02 19:00:00            3031.0           4.70   \n",
       "5989          5989  2015-05-02 19:00:00            3056.0           4.70   \n",
       "9978          9978  2015-05-07 20:00:00            3014.0           5.37   \n",
       "131680      131680  2015-09-26 13:00:00            3023.0          12.30   \n",
       "131736      131736  2015-09-26 14:00:00            3023.0          12.30   \n",
       "131795      131795  2015-09-26 15:00:00            3023.0          12.30   \n",
       "132024      132024  2015-09-26 19:00:00            3023.0          12.30   \n",
       "132717      132717  2015-09-27 12:00:00            3023.0          10.07   \n",
       "132774      132774  2015-09-27 13:00:00            3023.0          10.07   \n",
       "132834      132834  2015-09-27 14:00:00            3023.0          10.07   \n",
       "132894      132894  2015-09-27 15:00:00            3023.0          10.07   \n",
       "132953      132953  2015-09-27 16:00:00            3023.0          10.07   \n",
       "452958      452958  2016-09-24 11:00:00            3032.0           7.61   \n",
       "499814      499814  2016-11-02 17:00:00            3021.0           6.26   \n",
       "501246      501246  2016-11-03 17:00:00            3021.0           9.40   \n",
       "502661      502661  2016-11-04 16:00:00            3021.0          10.74   \n",
       "601383      601383  2017-02-19 16:00:00            3057.0           8.95   \n",
       "762514      762514  2017-07-10 17:00:00            3021.0           7.16   \n",
       "859852      859852  2017-09-18 17:00:00            3021.0           9.62   \n",
       "\n",
       "        Bike Score  COUNT  FOG  HOLIDAY                   Neighborhood  PRCP  \\\n",
       "1565          97.0   46.0  0.0    False  Northern Liberties – Fishtown  0.00   \n",
       "3354          78.0   48.0  0.0    False               Center City East  0.00   \n",
       "5464          98.0   49.0  0.0    False               Center City West  0.00   \n",
       "5558          88.0   42.0  0.0    False                University City  0.00   \n",
       "5840          94.0   41.0  0.0    False         Fairmount – Art Museum  0.00   \n",
       "5972          74.0   46.0  0.0    False       Avenue of the Arts North  0.00   \n",
       "5989          79.0   49.0  0.0    False       Avenue of the Arts North  0.00   \n",
       "9978          94.0   50.0  0.0    False                   Logan Square  0.00   \n",
       "131680        90.0   41.0  0.0    False             Rittenhouse Square  0.00   \n",
       "131736        90.0   57.0  0.0    False             Rittenhouse Square  0.00   \n",
       "131795        90.0   51.0  0.0    False             Rittenhouse Square  0.00   \n",
       "132024        90.0   52.0  0.0    False             Rittenhouse Square  0.00   \n",
       "132717        90.0   53.0  0.0    False             Rittenhouse Square  0.00   \n",
       "132774        90.0   48.0  0.0    False             Rittenhouse Square  0.00   \n",
       "132834        90.0   48.0  0.0    False             Rittenhouse Square  0.00   \n",
       "132894        90.0   61.0  0.0    False             Rittenhouse Square  0.00   \n",
       "132953        90.0   78.0  0.0    False             Rittenhouse Square  0.00   \n",
       "452958        89.0   42.0  0.0    False                   Point Breeze  0.00   \n",
       "499814        79.0   60.0  0.0    False               Center City West  0.00   \n",
       "501246        79.0   49.0  1.0    False               Center City West  0.01   \n",
       "502661        79.0   41.0  0.0    False               Center City West  0.00   \n",
       "601383        75.0   45.0  0.0    False         Fairmount – Art Museum  0.00   \n",
       "762514        79.0   41.0  0.0    False               Center City West  0.00   \n",
       "859852        79.0   41.0  0.0    False               Center City West  0.00   \n",
       "\n",
       "        ...  TMAX  TMIN  Transit Score  WEEKDAY  Walk Score  hour_of_day  \\\n",
       "1565    ...    64    45           86.0        0        96.0           11   \n",
       "3354    ...    77    51          100.0        1        99.0           10   \n",
       "5464    ...    74    47          100.0        0        91.0            8   \n",
       "5558    ...    74    47           98.0        0        75.0           11   \n",
       "5840    ...    74    47           73.0        0        93.0           16   \n",
       "5972    ...    74    47           89.0        0        83.0           19   \n",
       "5989    ...    74    47           88.0        0        81.0           19   \n",
       "9978    ...    81    57          100.0        1        95.0           20   \n",
       "131680  ...    72    61          100.0        0        99.0           13   \n",
       "131736  ...    72    61          100.0        0        99.0           14   \n",
       "131795  ...    72    61          100.0        0        99.0           15   \n",
       "132024  ...    72    61          100.0        0        99.0           19   \n",
       "132717  ...    71    60          100.0        0        99.0           12   \n",
       "132774  ...    71    60          100.0        0        99.0           13   \n",
       "132834  ...    71    60          100.0        0        99.0           14   \n",
       "132894  ...    71    60          100.0        0        99.0           15   \n",
       "132953  ...    71    60          100.0        0        99.0           16   \n",
       "452958  ...    73    59           65.0        0        93.0           11   \n",
       "499814  ...    70    51          100.0        1       100.0           17   \n",
       "501246  ...    72    54          100.0        1       100.0           17   \n",
       "502661  ...    62    45          100.0        1       100.0           16   \n",
       "601383  ...    70    49           66.0        0        85.0           16   \n",
       "762514  ...    89    66          100.0        1       100.0           17   \n",
       "859852  ...    81    67          100.0        1       100.0           17   \n",
       "\n",
       "        month  start_lat  start_lon  COUNT_BINS  \n",
       "1565        4  39.962650 -75.161740         10+  \n",
       "3354        4  39.954240 -75.161380         10+  \n",
       "5464        5  39.954250 -75.177610         10+  \n",
       "5558        5  39.948870 -75.189860         10+  \n",
       "5840        5  39.967440 -75.175070         10+  \n",
       "5972        5  39.980050 -75.155220         10+  \n",
       "5989        5  39.976690 -75.158130         10+  \n",
       "9978        5  39.958860 -75.173690         10+  \n",
       "131680      9  39.950480 -75.172860         10+  \n",
       "131736      9  39.950480 -75.172860         10+  \n",
       "131795      9  39.950480 -75.172860         10+  \n",
       "132024      9  39.950480 -75.172860         10+  \n",
       "132717      9  39.950480 -75.172860         10+  \n",
       "132774      9  39.950480 -75.172860         10+  \n",
       "132834      9  39.950480 -75.172860         10+  \n",
       "132894      9  39.950480 -75.172860         10+  \n",
       "132953      9  39.950480 -75.172860         10+  \n",
       "452958      9  39.945271 -75.179710         10+  \n",
       "499814     11  39.953899 -75.169022         10+  \n",
       "501246     11  39.953899 -75.169022         10+  \n",
       "502661     11  39.953899 -75.169022         10+  \n",
       "601383      2  39.963711 -75.181602         10+  \n",
       "762514      7  39.953899 -75.169022         10+  \n",
       "859852      9  39.953899 -75.169022         10+  \n",
       "\n",
       "[24 rows x 26 columns]"
      ]
     },
     "execution_count": 105,
     "metadata": {},
     "output_type": "execute_result"
    }
   ],
   "source": [
    "deletedf"
   ]
  },
  {
   "cell_type": "code",
   "execution_count": 106,
   "metadata": {},
   "outputs": [],
   "source": [
    "result = pd.concat([df, deletedf, deletedf]).drop_duplicates(keep=False)"
   ]
  },
  {
   "cell_type": "code",
   "execution_count": 107,
   "metadata": {},
   "outputs": [],
   "source": [
    "X = result[['start_lat', 'start_lon', 'hour_of_day', 'AVG_WND_SPEED', 'TAVG', 'TMAX', 'TMIN', 'month', 'WEEKDAY', 'Walk Score', 'Transit Score', 'Bike Score']]\n",
    "normalized_X = preprocessing.normalize(X)\n",
    "y = result['COUNT_BINS'].astype(str)\n",
    "\n",
    "X_train, X_test, y_train, y_test = train_test_split(normalized_X, y, test_size = 0.3)"
   ]
  },
  {
   "cell_type": "code",
   "execution_count": 118,
   "metadata": {},
   "outputs": [
    {
     "data": {
      "text/plain": [
       "0.5314351138381983"
      ]
     },
     "execution_count": 118,
     "metadata": {},
     "output_type": "execute_result"
    }
   ],
   "source": [
    "decisionTree = tree.DecisionTreeClassifier(max_depth=22, criterion='gini', class_weight={'0-2': .08, '3-9': 1.4, '10+':25})\n",
    "dt_weighted7 = decisionTree.fit(X_train, y_train)\n",
    "dt_weighted7.score(X_test, y_test)\n"
   ]
  },
  {
   "cell_type": "code",
   "execution_count": 111,
   "metadata": {},
   "outputs": [
    {
     "name": "stdout",
     "output_type": "stream",
     "text": [
      "              precision    recall  f1-score   support\n",
      "\n",
      "         0-2       0.92      0.42      0.58    413948\n",
      "         10+       0.11      0.56      0.19      4722\n",
      "         3-9       0.26      0.76      0.39    108877\n",
      "\n",
      "    accuracy                           0.49    527547\n",
      "   macro avg       0.43      0.58      0.39    527547\n",
      "weighted avg       0.78      0.49      0.54    527547\n",
      "\n"
     ]
    }
   ],
   "source": [
    "#20\n",
    "y_pred = dt_weighted7.predict(X_test)\n",
    "print(classification_report(y_test, y_pred,))"
   ]
  },
  {
   "cell_type": "code",
   "execution_count": 115,
   "metadata": {},
   "outputs": [
    {
     "name": "stdout",
     "output_type": "stream",
     "text": [
      "              precision    recall  f1-score   support\n",
      "\n",
      "         0-2       0.90      0.53      0.67    413948\n",
      "         10+       0.14      0.46      0.22      4722\n",
      "         3-9       0.29      0.71      0.41    108877\n",
      "\n",
      "    accuracy                           0.56    527547\n",
      "   macro avg       0.44      0.57      0.43    527547\n",
      "weighted avg       0.77      0.56      0.61    527547\n",
      "\n"
     ]
    }
   ],
   "source": [
    "#24\n",
    "y_pred = dt_weighted7.predict(X_test)\n",
    "print(classification_report(y_test, y_pred,))"
   ]
  },
  {
   "cell_type": "code",
   "execution_count": 119,
   "metadata": {},
   "outputs": [
    {
     "name": "stdout",
     "output_type": "stream",
     "text": [
      "              precision    recall  f1-score   support\n",
      "\n",
      "         0-2       0.91      0.48      0.63    413948\n",
      "         10+       0.12      0.53      0.20      4722\n",
      "         3-9       0.27      0.73      0.40    108877\n",
      "\n",
      "    accuracy                           0.53    527547\n",
      "   macro avg       0.44      0.58      0.41    527547\n",
      "weighted avg       0.77      0.53      0.58    527547\n",
      "\n"
     ]
    }
   ],
   "source": [
    "#22\n",
    "y_pred = dt_weighted7.predict(X_test)\n",
    "print(classification_report(y_test, y_pred,))"
   ]
  },
  {
   "cell_type": "code",
   "execution_count": 127,
   "metadata": {},
   "outputs": [],
   "source": [
    "X = result[['start_lat', 'start_lon', 'hour_of_day', 'AVG_WND_SPEED', 'PRCP','FOG','TAVG', 'TMAX', 'TMIN', 'month', 'WEEKDAY', 'Walk Score', 'Transit Score', 'Bike Score']]\n",
    "normalized_X = preprocessing.normalize(X)\n",
    "y = result['COUNT_BINS'].astype(str)\n",
    "\n",
    "X_train, X_test, y_train, y_test = train_test_split(normalized_X, y, test_size = 0.3)"
   ]
  },
  {
   "cell_type": "code",
   "execution_count": 128,
   "metadata": {},
   "outputs": [
    {
     "data": {
      "text/plain": [
       "0.5328511014184518"
      ]
     },
     "execution_count": 128,
     "metadata": {},
     "output_type": "execute_result"
    }
   ],
   "source": [
    "decisionTree = tree.DecisionTreeClassifier(max_depth=22, criterion='gini', class_weight={'0-2': .08, '3-9': 1.4, '10+':25})\n",
    "dt_weighted8 = decisionTree.fit(X_train, y_train)\n",
    "dt_weighted8.score(X_test, y_test)\n"
   ]
  },
  {
   "cell_type": "code",
   "execution_count": 122,
   "metadata": {},
   "outputs": [
    {
     "name": "stdout",
     "output_type": "stream",
     "text": [
      "              precision    recall  f1-score   support\n",
      "\n",
      "         0-2       0.91      0.48      0.63    413902\n",
      "         10+       0.12      0.54      0.20      4638\n",
      "         3-9       0.27      0.73      0.40    109007\n",
      "\n",
      "    accuracy                           0.53    527547\n",
      "   macro avg       0.44      0.58      0.41    527547\n",
      "weighted avg       0.77      0.53      0.58    527547\n",
      "\n"
     ]
    }
   ],
   "source": [
    "y_pred = dt_weighted8.predict(X_test)\n",
    "print(classification_report(y_test, y_pred,))"
   ]
  },
  {
   "cell_type": "code",
   "execution_count": 123,
   "metadata": {},
   "outputs": [
    {
     "data": {
      "text/plain": [
       "array(['Unnamed: 0', 'Datetime', 'start_station_id', 'AVG_WND_SPEED',\n",
       "       'Bike Score', 'COUNT', 'FOG', 'HOLIDAY', 'Neighborhood', 'PRCP',\n",
       "       'Population', 'SLEET_OR_HAIL', 'SNOW', 'SNOW_DEPTH', 'TAVG',\n",
       "       'THUNDER', 'TMAX', 'TMIN', 'Transit Score', 'WEEKDAY',\n",
       "       'Walk Score', 'hour_of_day', 'month', 'start_lat', 'start_lon',\n",
       "       'COUNT_BINS'], dtype=object)"
      ]
     },
     "execution_count": 123,
     "metadata": {},
     "output_type": "execute_result"
    }
   ],
   "source": [
    "df.columns.values"
   ]
  },
  {
   "cell_type": "code",
   "execution_count": 129,
   "metadata": {},
   "outputs": [
    {
     "name": "stdout",
     "output_type": "stream",
     "text": [
      "              precision    recall  f1-score   support\n",
      "\n",
      "         0-2       0.91      0.48      0.63    413850\n",
      "         10+       0.13      0.51      0.20      4731\n",
      "         3-9       0.28      0.73      0.40    108966\n",
      "\n",
      "    accuracy                           0.53    527547\n",
      "   macro avg       0.44      0.58      0.41    527547\n",
      "weighted avg       0.77      0.53      0.58    527547\n",
      "\n"
     ]
    }
   ],
   "source": [
    "y_pred = dt_weighted8.predict(X_test)\n",
    "print(classification_report(y_test, y_pred,))"
   ]
  },
  {
   "cell_type": "code",
   "execution_count": 136,
   "metadata": {},
   "outputs": [
    {
     "data": {
      "text/plain": [
       "0.43281641256608416"
      ]
     },
     "execution_count": 136,
     "metadata": {},
     "output_type": "execute_result"
    }
   ],
   "source": [
    "decisionTree = tree.DecisionTreeClassifier(max_depth=16, criterion='gini', class_weight={'0-2': .08, '3-9': 1.2, '10+':23})\n",
    "dt_weighted9 = decisionTree.fit(X_train, y_train)\n",
    "dt_weighted9.score(X_test, y_test)"
   ]
  },
  {
   "cell_type": "code",
   "execution_count": 131,
   "metadata": {},
   "outputs": [
    {
     "name": "stdout",
     "output_type": "stream",
     "text": [
      "              precision    recall  f1-score   support\n",
      "\n",
      "         0-2       0.94      0.35      0.51    413850\n",
      "         10+       0.09      0.63      0.16      4731\n",
      "         3-9       0.25      0.77      0.37    108966\n",
      "\n",
      "    accuracy                           0.44    527547\n",
      "   macro avg       0.43      0.59      0.35    527547\n",
      "weighted avg       0.79      0.44      0.48    527547\n",
      "\n"
     ]
    }
   ],
   "source": [
    "y_pred = dt_weighted9.predict(X_test)\n",
    "print(classification_report(y_test, y_pred,))"
   ]
  },
  {
   "cell_type": "code",
   "execution_count": 135,
   "metadata": {},
   "outputs": [
    {
     "name": "stdout",
     "output_type": "stream",
     "text": [
      "              precision    recall  f1-score   support\n",
      "\n",
      "         0-2       0.96      0.29      0.45    413850\n",
      "         10+       0.09      0.68      0.15      4731\n",
      "         3-9       0.23      0.78      0.36    108966\n",
      "\n",
      "    accuracy                           0.40    527547\n",
      "   macro avg       0.43      0.58      0.32    527547\n",
      "weighted avg       0.80      0.40      0.43    527547\n",
      "\n"
     ]
    }
   ],
   "source": [
    "y_pred = dt_weighted9.predict(X_test)\n",
    "print(classification_report(y_test, y_pred,))"
   ]
  },
  {
   "cell_type": "code",
   "execution_count": 137,
   "metadata": {},
   "outputs": [
    {
     "name": "stdout",
     "output_type": "stream",
     "text": [
      "              precision    recall  f1-score   support\n",
      "\n",
      "         0-2       0.95      0.34      0.50    413850\n",
      "         10+       0.09      0.66      0.16      4731\n",
      "         3-9       0.24      0.77      0.37    108966\n",
      "\n",
      "    accuracy                           0.43    527547\n",
      "   macro avg       0.43      0.59      0.34    527547\n",
      "weighted avg       0.79      0.43      0.47    527547\n",
      "\n"
     ]
    }
   ],
   "source": [
    "y_pred = dt_weighted9.predict(X_test)\n",
    "print(classification_report(y_test, y_pred,))"
   ]
  },
  {
   "cell_type": "code",
   "execution_count": null,
   "metadata": {},
   "outputs": [],
   "source": [
    "#we want to optimize for recall in the minority classes\n",
    "precision: What proportion of positive identifications was actually correct?\n",
    "recall: What proportion of actual positives was identified correctly?"
   ]
  },
  {
   "cell_type": "code",
   "execution_count": 146,
   "metadata": {},
   "outputs": [
    {
     "name": "stdout",
     "output_type": "stream",
     "text": [
      "              precision    recall  f1-score   support\n",
      "\n",
      "         0-2       0.93      0.54      0.68    413626\n",
      "         10+       0.07      0.70      0.13      4723\n",
      "         3-9       0.29      0.65      0.40    109205\n",
      "\n",
      "    accuracy                           0.56    527554\n",
      "   macro avg       0.43      0.63      0.40    527554\n",
      "weighted avg       0.79      0.56      0.62    527554\n",
      "\n"
     ]
    }
   ],
   "source": [
    "X = df[['start_lat', 'start_lon', 'hour_of_day', 'AVG_WND_SPEED', 'TAVG', 'TMAX', 'TMIN', 'month', 'WEEKDAY', 'Walk Score', 'Transit Score', 'Bike Score']]\n",
    "normalized_X = preprocessing.normalize(X)\n",
    "y = df['COUNT_BINS'].astype(str)\n",
    "\n",
    "X_train, X_test, y_train, y_test = train_test_split(normalized_X, y, test_size = 0.3)\n",
    "\n",
    "decisionTree = tree.DecisionTreeClassifier(max_depth=12, criterion='gini', class_weight={'0-2': .19, '3-9': 1, '10+':14})\n",
    "dt_weighted5 = decisionTree.fit(X_train, y_train)\n",
    "dt_weighted5.score(X_test, y_test)\n",
    "\n",
    "y_pred = dt_weighted5.predict(X_test)\n",
    "print(classification_report(y_test, y_pred,))\n",
    "\n",
    "import pickle\n",
    "filename = 'dt5gini_.19_1_14_nocuts.pkl'\n",
    "pickle.dump(clf, open(filename, 'wb'))"
   ]
  },
  {
   "cell_type": "code",
   "execution_count": null,
   "metadata": {},
   "outputs": [],
   "source": []
  },
  {
   "cell_type": "code",
   "execution_count": 147,
   "metadata": {},
   "outputs": [
    {
     "data": {
      "text/plain": [
       "191"
      ]
     },
     "execution_count": 147,
     "metadata": {},
     "output_type": "execute_result"
    }
   ],
   "source": [
    "56+69+66"
   ]
  },
  {
   "cell_type": "code",
   "execution_count": 148,
   "metadata": {},
   "outputs": [
    {
     "data": {
      "text/plain": [
       "189"
      ]
     },
     "execution_count": 148,
     "metadata": {},
     "output_type": "execute_result"
    }
   ],
   "source": [
    "54+70+65"
   ]
  },
  {
   "cell_type": "code",
   "execution_count": 149,
   "metadata": {},
   "outputs": [],
   "source": [
    "deletedf = df.loc[(df['COUNT'] > 50)]"
   ]
  },
  {
   "cell_type": "code",
   "execution_count": 150,
   "metadata": {},
   "outputs": [],
   "source": [
    "result = pd.concat([df, deletedf, deletedf]).drop_duplicates(keep=False)"
   ]
  },
  {
   "cell_type": "code",
   "execution_count": 154,
   "metadata": {},
   "outputs": [
    {
     "name": "stdout",
     "output_type": "stream",
     "text": [
      "              precision    recall  f1-score   support\n",
      "\n",
      "         0-2       0.94      0.48      0.64    413586\n",
      "         10+       0.09      0.67      0.15      4627\n",
      "         3-9       0.28      0.72      0.40    109339\n",
      "\n",
      "    accuracy                           0.53    527552\n",
      "   macro avg       0.43      0.62      0.40    527552\n",
      "weighted avg       0.79      0.53      0.58    527552\n",
      "\n"
     ]
    }
   ],
   "source": [
    "X = result[['start_lat', 'start_lon', 'hour_of_day', 'AVG_WND_SPEED', 'TAVG', 'TMAX', 'TMIN', 'month', 'WEEKDAY', 'Walk Score', 'Transit Score', 'Bike Score']]\n",
    "normalized_X = preprocessing.normalize(X)\n",
    "y = result['COUNT_BINS'].astype(str)\n",
    "\n",
    "X_train, X_test, y_train, y_test = train_test_split(normalized_X, y, test_size = 0.3)\n",
    "decisionTree = tree.DecisionTreeClassifier(max_depth=12, criterion='gini', class_weight={'0-2': .18, '3-9': 1.1, '10+':14})\n",
    "dt_weighted5 = decisionTree.fit(X_train, y_train)\n",
    "dt_weighted5.score(X_test, y_test)\n",
    "\n",
    "y_pred = dt_weighted5.predict(X_test)\n",
    "print(classification_report(y_test, y_pred,))"
   ]
  },
  {
   "cell_type": "code",
   "execution_count": 159,
   "metadata": {},
   "outputs": [
    {
     "data": {
      "text/plain": [
       "0.8092074335800072"
      ]
     },
     "execution_count": 159,
     "metadata": {},
     "output_type": "execute_result"
    }
   ],
   "source": [
    "\n",
    "model1 = xgb.XGBClassifier(max_depth=12, scale_pos_weight={'0-2': .18, '3-9': 1.1, '10+':14})\n",
    "train_model1 = model1.fit(X_train, y_train)\n",
    "train_model1.score(X_test, y_test)"
   ]
  },
  {
   "cell_type": "code",
   "execution_count": 160,
   "metadata": {},
   "outputs": [
    {
     "name": "stdout",
     "output_type": "stream",
     "text": [
      "              precision    recall  f1-score   support\n",
      "\n",
      "         0-2       0.83      0.96      0.89    413586\n",
      "         10+       0.55      0.07      0.12      4627\n",
      "         3-9       0.60      0.26      0.36    109339\n",
      "\n",
      "    accuracy                           0.81    527552\n",
      "   macro avg       0.66      0.43      0.46    527552\n",
      "weighted avg       0.78      0.81      0.77    527552\n",
      "\n"
     ]
    }
   ],
   "source": [
    "y_pred = train_model1.predict(X_test)\n",
    "print(classification_report(y_test, y_pred,))"
   ]
  },
  {
   "cell_type": "code",
   "execution_count": 161,
   "metadata": {},
   "outputs": [],
   "source": [
    "import pickle\n",
    "filename = 'xgb1_.18_1.1_14_nocuts.pkl'\n",
    "pickle.dump(train_model1, open(filename, 'wb'))"
   ]
  },
  {
   "cell_type": "code",
   "execution_count": 163,
   "metadata": {},
   "outputs": [
    {
     "name": "stdout",
     "output_type": "stream",
     "text": [
      "              precision    recall  f1-score   support\n",
      "\n",
      "         0-2       0.83      0.96      0.89    413586\n",
      "         10+       0.52      0.08      0.14      4627\n",
      "         3-9       0.60      0.28      0.38    109339\n",
      "\n",
      "    accuracy                           0.81    527552\n",
      "   macro avg       0.65      0.44      0.47    527552\n",
      "weighted avg       0.78      0.81      0.78    527552\n",
      "\n"
     ]
    }
   ],
   "source": [
    "model1 = xgb.XGBClassifier(max_depth=14, scale_pos_weight={'0-2': .18, '3-9': 1.1, '10+':14})\n",
    "train_model2 = model1.fit(X_train, y_train)\n",
    "train_model2.score(X_test, y_test)\n",
    "y_pred = train_model2.predict(X_test)\n",
    "print(classification_report(y_test, y_pred,))"
   ]
  },
  {
   "cell_type": "code",
   "execution_count": 165,
   "metadata": {},
   "outputs": [
    {
     "name": "stdout",
     "output_type": "stream",
     "text": [
      "              precision    recall  f1-score   support\n",
      "\n",
      "         0-2       0.82      0.97      0.89    413586\n",
      "         10+       0.55      0.06      0.11      4627\n",
      "         3-9       0.59      0.23      0.33    109339\n",
      "\n",
      "    accuracy                           0.81    527552\n",
      "   macro avg       0.66      0.42      0.44    527552\n",
      "weighted avg       0.77      0.81      0.77    527552\n",
      "\n"
     ]
    }
   ],
   "source": [
    "model1 = xgb.XGBClassifier(max_depth=10, scale_pos_weight={'0-2': .18, '3-9': 1.1, '10+':14})\n",
    "train_model3 = model1.fit(X_train, y_train)\n",
    "train_model3.score(X_test, y_test)\n",
    "y_pred = train_model3.predict(X_test)\n",
    "print(classification_report(y_test, y_pred,))"
   ]
  },
  {
   "cell_type": "code",
   "execution_count": 166,
   "metadata": {},
   "outputs": [
    {
     "name": "stdout",
     "output_type": "stream",
     "text": [
      "              precision    recall  f1-score   support\n",
      "\n",
      "         0-2       0.83      0.96      0.89    413586\n",
      "         10+       0.55      0.07      0.12      4627\n",
      "         3-9       0.60      0.26      0.36    109339\n",
      "\n",
      "    accuracy                           0.81    527552\n",
      "   macro avg       0.66      0.43      0.46    527552\n",
      "weighted avg       0.78      0.81      0.77    527552\n",
      "\n"
     ]
    }
   ],
   "source": [
    "model1 = xgb.XGBClassifier(max_depth=12, scale_pos_weight={'0-2': .15, '3-9': 1.1, '10+':16})\n",
    "train_model4 = model1.fit(X_train, y_train)\n",
    "train_model4.score(X_test, y_test)\n",
    "y_pred = train_model4.predict(X_test)\n",
    "print(classification_report(y_test, y_pred,))"
   ]
  },
  {
   "cell_type": "code",
   "execution_count": 167,
   "metadata": {},
   "outputs": [
    {
     "name": "stdout",
     "output_type": "stream",
     "text": [
      "              precision    recall  f1-score   support\n",
      "\n",
      "         0-2       0.84      0.93      0.88    413586\n",
      "         10+       0.40      0.16      0.22      4627\n",
      "         3-9       0.54      0.34      0.42    109339\n",
      "\n",
      "    accuracy                           0.80    527552\n",
      "   macro avg       0.59      0.48      0.51    527552\n",
      "weighted avg       0.78      0.80      0.78    527552\n",
      "\n"
     ]
    }
   ],
   "source": [
    "model1 = xgb.XGBClassifier(max_depth=25, scale_pos_weight={'0-2': .16, '3-9': 1.1, '10+':15})\n",
    "train_model2 = model1.fit(X_train, y_train)\n",
    "train_model2.score(X_test, y_test)\n",
    "y_pred = train_model2.predict(X_test)\n",
    "print(classification_report(y_test, y_pred,))"
   ]
  },
  {
   "cell_type": "code",
   "execution_count": 168,
   "metadata": {},
   "outputs": [
    {
     "name": "stdout",
     "output_type": "stream",
     "text": [
      "              precision    recall  f1-score   support\n",
      "\n",
      "         0-2       0.84      0.92      0.88    413586\n",
      "         10+       0.37      0.15      0.22      4627\n",
      "         3-9       0.52      0.35      0.42    109339\n",
      "\n",
      "    accuracy                           0.79    527552\n",
      "   macro avg       0.58      0.48      0.51    527552\n",
      "weighted avg       0.77      0.79      0.78    527552\n",
      "\n"
     ]
    }
   ],
   "source": [
    "model1 = xgb.XGBClassifier(max_depth=50, scale_pos_weight={'0-2': .1, '3-9': 1.1, '10+':15})\n",
    "train_model2p = model1.fit(X_train, y_train)\n",
    "train_model2p.score(X_test, y_test)\n",
    "y_pred = train_model2p.predict(X_test)\n",
    "print(classification_report(y_test, y_pred,))"
   ]
  },
  {
   "cell_type": "code",
   "execution_count": 169,
   "metadata": {},
   "outputs": [
    {
     "name": "stdout",
     "output_type": "stream",
     "text": [
      "              precision    recall  f1-score   support\n",
      "\n",
      "         0-2       0.84      0.93      0.88    413586\n",
      "         10+       0.40      0.16      0.22      4627\n",
      "         3-9       0.54      0.34      0.42    109339\n",
      "\n",
      "    accuracy                           0.80    527552\n",
      "   macro avg       0.59      0.48      0.51    527552\n",
      "weighted avg       0.78      0.80      0.78    527552\n",
      "\n"
     ]
    }
   ],
   "source": [
    "model1 = xgb.XGBClassifier(max_depth=25, scale_pos_weight={'0-2': .1, '3-9': 2.5, '10+':25})\n",
    "train_model3p = model1.fit(X_train, y_train)\n",
    "train_model3p.score(X_test, y_test)\n",
    "y_pred = train_model3p.predict(X_test)\n",
    "print(classification_report(y_test, y_pred,))"
   ]
  },
  {
   "cell_type": "code",
   "execution_count": 170,
   "metadata": {},
   "outputs": [
    {
     "name": "stdout",
     "output_type": "stream",
     "text": [
      "              precision    recall  f1-score   support\n",
      "\n",
      "         0-2       0.83      0.96      0.89    413586\n",
      "         10+       0.55      0.07      0.12      4627\n",
      "         3-9       0.60      0.26      0.36    109339\n",
      "\n",
      "    accuracy                           0.81    527552\n",
      "   macro avg       0.66      0.43      0.46    527552\n",
      "weighted avg       0.78      0.81      0.77    527552\n",
      "\n"
     ]
    }
   ],
   "source": [
    "model1 = xgb.XGBClassifier(max_depth=12, scale_pos_weight={'0-2': .1, '3-9': 1.1, '10+':16})\n",
    "train_model5 = model1.fit(X_train, y_train)\n",
    "train_model5.score(X_test, y_test)\n",
    "y_pred = train_model5.predict(X_test)\n",
    "print(classification_report(y_test, y_pred,))"
   ]
  },
  {
   "cell_type": "code",
   "execution_count": 175,
   "metadata": {},
   "outputs": [
    {
     "data": {
      "text/plain": [
       "array([[<matplotlib.axes._subplots.AxesSubplot object at 0x7f68292c29b0>]],\n",
       "      dtype=object)"
      ]
     },
     "execution_count": 175,
     "metadata": {},
     "output_type": "execute_result"
    },
    {
     "data": {
      "image/png": "[encoded data removed]",
      "text/plain": [
       "<Figure size 432x288 with 1 Axes>"
      ]
     },
     "metadata": {
      "needs_background": "light"
     },
     "output_type": "display_data"
    }
   ],
   "source": [
    "%matplotlib inline\n",
    "result.hist(column=\"hour_of_day\")"
   ]
  },
  {
   "cell_type": "code",
   "execution_count": 193,
   "metadata": {},
   "outputs": [
    {
     "name": "stdout",
     "output_type": "stream",
     "text": [
      "0\n",
      "0-2:  37659\n",
      "3-9:  2063\n",
      "10+:  18\n",
      "1\n",
      "0-2:  31250\n",
      "3-9:  1174\n",
      "10+:  9\n",
      "2\n",
      "0-2:  26709\n",
      "3-9:  849\n",
      "10+:  4\n",
      "3\n",
      "0-2:  21846\n",
      "3-9:  259\n",
      "10+:  0\n",
      "4\n",
      "0-2:  23885\n",
      "3-9:  113\n",
      "10+:  0\n",
      "5\n",
      "0-2:  38665\n",
      "3-9:  898\n",
      "10+:  0\n"
     ]
    }
   ],
   "source": [
    "for i in range(0,6):\n",
    "    print(i)\n",
    "    print('0-2: ', len(result.loc[(result['COUNT_BINS'] == '0-2') & (result['hour_of_day'] == i)]))\n",
    "    print('3-9: ', len(result.loc[(result['COUNT_BINS'] == '3-9') & (result['hour_of_day'] == i)]))\n",
    "    print('10+: ', len(result.loc[(result['COUNT_BINS'] == '10+') & (result['hour_of_day'] == i)]))\n"
   ]
  },
  {
   "cell_type": "code",
   "execution_count": 184,
   "metadata": {},
   "outputs": [
    {
     "data": {
      "text/html": [
       "<div>\n",
       "<style scoped>\n",
       "    .dataframe tbody tr th:only-of-type {\n",
       "        vertical-align: middle;\n",
       "    }\n",
       "\n",
       "    .dataframe tbody tr th {\n",
       "        vertical-align: top;\n",
       "    }\n",
       "\n",
       "    .dataframe thead th {\n",
       "        text-align: right;\n",
       "    }\n",
       "</style>\n",
       "<table border=\"1\" class=\"dataframe\">\n",
       "  <thead>\n",
       "    <tr style=\"text-align: right;\">\n",
       "      <th></th>\n",
       "      <th>Unnamed: 0</th>\n",
       "      <th>Datetime</th>\n",
       "      <th>start_station_id</th>\n",
       "      <th>AVG_WND_SPEED</th>\n",
       "      <th>Bike Score</th>\n",
       "      <th>COUNT</th>\n",
       "      <th>FOG</th>\n",
       "      <th>HOLIDAY</th>\n",
       "      <th>Neighborhood</th>\n",
       "      <th>PRCP</th>\n",
       "      <th>...</th>\n",
       "      <th>TMAX</th>\n",
       "      <th>TMIN</th>\n",
       "      <th>Transit Score</th>\n",
       "      <th>WEEKDAY</th>\n",
       "      <th>Walk Score</th>\n",
       "      <th>hour_of_day</th>\n",
       "      <th>month</th>\n",
       "      <th>start_lat</th>\n",
       "      <th>start_lon</th>\n",
       "      <th>COUNT_BINS</th>\n",
       "    </tr>\n",
       "  </thead>\n",
       "  <tbody>\n",
       "    <tr>\n",
       "      <td>640</td>\n",
       "      <td>640</td>\n",
       "      <td>2015-04-24 17:00:00</td>\n",
       "      <td>3020.0</td>\n",
       "      <td>16.55</td>\n",
       "      <td>88.0</td>\n",
       "      <td>11.0</td>\n",
       "      <td>0.0</td>\n",
       "      <td>False</td>\n",
       "      <td>University City</td>\n",
       "      <td>0.0</td>\n",
       "      <td>...</td>\n",
       "      <td>57</td>\n",
       "      <td>39</td>\n",
       "      <td>98.0</td>\n",
       "      <td>1</td>\n",
       "      <td>75.0</td>\n",
       "      <td>17</td>\n",
       "      <td>4</td>\n",
       "      <td>39.948870</td>\n",
       "      <td>-75.189860</td>\n",
       "      <td>10+</td>\n",
       "    </tr>\n",
       "    <tr>\n",
       "      <td>940</td>\n",
       "      <td>940</td>\n",
       "      <td>2015-04-25 10:00:00</td>\n",
       "      <td>3032.0</td>\n",
       "      <td>9.17</td>\n",
       "      <td>89.0</td>\n",
       "      <td>12.0</td>\n",
       "      <td>0.0</td>\n",
       "      <td>False</td>\n",
       "      <td>Point Breeze</td>\n",
       "      <td>0.0</td>\n",
       "      <td>...</td>\n",
       "      <td>58</td>\n",
       "      <td>37</td>\n",
       "      <td>65.0</td>\n",
       "      <td>0</td>\n",
       "      <td>93.0</td>\n",
       "      <td>10</td>\n",
       "      <td>4</td>\n",
       "      <td>39.945270</td>\n",
       "      <td>-75.179710</td>\n",
       "      <td>10+</td>\n",
       "    </tr>\n",
       "    <tr>\n",
       "      <td>1136</td>\n",
       "      <td>1136</td>\n",
       "      <td>2015-04-25 15:00:00</td>\n",
       "      <td>3057.0</td>\n",
       "      <td>9.17</td>\n",
       "      <td>75.0</td>\n",
       "      <td>14.0</td>\n",
       "      <td>0.0</td>\n",
       "      <td>False</td>\n",
       "      <td>Fairmount – Art Museum</td>\n",
       "      <td>0.0</td>\n",
       "      <td>...</td>\n",
       "      <td>58</td>\n",
       "      <td>37</td>\n",
       "      <td>66.0</td>\n",
       "      <td>0</td>\n",
       "      <td>85.0</td>\n",
       "      <td>15</td>\n",
       "      <td>4</td>\n",
       "      <td>39.964420</td>\n",
       "      <td>-75.179990</td>\n",
       "      <td>10+</td>\n",
       "    </tr>\n",
       "    <tr>\n",
       "      <td>1191</td>\n",
       "      <td>1191</td>\n",
       "      <td>2015-04-25 17:00:00</td>\n",
       "      <td>3005.0</td>\n",
       "      <td>9.17</td>\n",
       "      <td>84.0</td>\n",
       "      <td>10.0</td>\n",
       "      <td>0.0</td>\n",
       "      <td>False</td>\n",
       "      <td>Center City East</td>\n",
       "      <td>0.0</td>\n",
       "      <td>...</td>\n",
       "      <td>58</td>\n",
       "      <td>37</td>\n",
       "      <td>97.0</td>\n",
       "      <td>0</td>\n",
       "      <td>98.0</td>\n",
       "      <td>17</td>\n",
       "      <td>4</td>\n",
       "      <td>39.947330</td>\n",
       "      <td>-75.144030</td>\n",
       "      <td>10+</td>\n",
       "    </tr>\n",
       "    <tr>\n",
       "      <td>1565</td>\n",
       "      <td>1565</td>\n",
       "      <td>2015-04-26 11:00:00</td>\n",
       "      <td>3059.0</td>\n",
       "      <td>7.38</td>\n",
       "      <td>97.0</td>\n",
       "      <td>46.0</td>\n",
       "      <td>0.0</td>\n",
       "      <td>False</td>\n",
       "      <td>Northern Liberties – Fishtown</td>\n",
       "      <td>0.0</td>\n",
       "      <td>...</td>\n",
       "      <td>64</td>\n",
       "      <td>45</td>\n",
       "      <td>86.0</td>\n",
       "      <td>0</td>\n",
       "      <td>96.0</td>\n",
       "      <td>11</td>\n",
       "      <td>4</td>\n",
       "      <td>39.962650</td>\n",
       "      <td>-75.161740</td>\n",
       "      <td>10+</td>\n",
       "    </tr>\n",
       "    <tr>\n",
       "      <td>...</td>\n",
       "      <td>...</td>\n",
       "      <td>...</td>\n",
       "      <td>...</td>\n",
       "      <td>...</td>\n",
       "      <td>...</td>\n",
       "      <td>...</td>\n",
       "      <td>...</td>\n",
       "      <td>...</td>\n",
       "      <td>...</td>\n",
       "      <td>...</td>\n",
       "      <td>...</td>\n",
       "      <td>...</td>\n",
       "      <td>...</td>\n",
       "      <td>...</td>\n",
       "      <td>...</td>\n",
       "      <td>...</td>\n",
       "      <td>...</td>\n",
       "      <td>...</td>\n",
       "      <td>...</td>\n",
       "      <td>...</td>\n",
       "      <td>...</td>\n",
       "    </tr>\n",
       "    <tr>\n",
       "      <td>1758082</td>\n",
       "      <td>1758082</td>\n",
       "      <td>2019-09-30 17:00:00</td>\n",
       "      <td>3156.0</td>\n",
       "      <td>7.61</td>\n",
       "      <td>86.0</td>\n",
       "      <td>17.0</td>\n",
       "      <td>0.0</td>\n",
       "      <td>False</td>\n",
       "      <td>Center City West</td>\n",
       "      <td>0.0</td>\n",
       "      <td>...</td>\n",
       "      <td>75</td>\n",
       "      <td>62</td>\n",
       "      <td>100.0</td>\n",
       "      <td>1</td>\n",
       "      <td>100.0</td>\n",
       "      <td>17</td>\n",
       "      <td>9</td>\n",
       "      <td>39.953812</td>\n",
       "      <td>-75.174072</td>\n",
       "      <td>10+</td>\n",
       "    </tr>\n",
       "    <tr>\n",
       "      <td>1758097</td>\n",
       "      <td>1758097</td>\n",
       "      <td>2019-09-30 17:00:00</td>\n",
       "      <td>3182.0</td>\n",
       "      <td>7.61</td>\n",
       "      <td>89.0</td>\n",
       "      <td>10.0</td>\n",
       "      <td>0.0</td>\n",
       "      <td>False</td>\n",
       "      <td>Center City West</td>\n",
       "      <td>0.0</td>\n",
       "      <td>...</td>\n",
       "      <td>75</td>\n",
       "      <td>62</td>\n",
       "      <td>100.0</td>\n",
       "      <td>1</td>\n",
       "      <td>100.0</td>\n",
       "      <td>17</td>\n",
       "      <td>9</td>\n",
       "      <td>39.950809</td>\n",
       "      <td>-75.169533</td>\n",
       "      <td>10+</td>\n",
       "    </tr>\n",
       "    <tr>\n",
       "      <td>1758103</td>\n",
       "      <td>1758103</td>\n",
       "      <td>2019-09-30 17:00:00</td>\n",
       "      <td>3195.0</td>\n",
       "      <td>7.61</td>\n",
       "      <td>79.0</td>\n",
       "      <td>11.0</td>\n",
       "      <td>0.0</td>\n",
       "      <td>False</td>\n",
       "      <td>Center City West</td>\n",
       "      <td>0.0</td>\n",
       "      <td>...</td>\n",
       "      <td>75</td>\n",
       "      <td>62</td>\n",
       "      <td>100.0</td>\n",
       "      <td>1</td>\n",
       "      <td>100.0</td>\n",
       "      <td>17</td>\n",
       "      <td>9</td>\n",
       "      <td>39.954102</td>\n",
       "      <td>-75.169647</td>\n",
       "      <td>10+</td>\n",
       "    </tr>\n",
       "    <tr>\n",
       "      <td>1758121</td>\n",
       "      <td>1758121</td>\n",
       "      <td>2019-09-30 18:00:00</td>\n",
       "      <td>3020.0</td>\n",
       "      <td>7.61</td>\n",
       "      <td>88.0</td>\n",
       "      <td>15.0</td>\n",
       "      <td>0.0</td>\n",
       "      <td>False</td>\n",
       "      <td>University City</td>\n",
       "      <td>0.0</td>\n",
       "      <td>...</td>\n",
       "      <td>75</td>\n",
       "      <td>62</td>\n",
       "      <td>98.0</td>\n",
       "      <td>1</td>\n",
       "      <td>75.0</td>\n",
       "      <td>18</td>\n",
       "      <td>9</td>\n",
       "      <td>39.949219</td>\n",
       "      <td>-75.190361</td>\n",
       "      <td>10+</td>\n",
       "    </tr>\n",
       "    <tr>\n",
       "      <td>1758155</td>\n",
       "      <td>1758155</td>\n",
       "      <td>2019-09-30 18:00:00</td>\n",
       "      <td>3061.0</td>\n",
       "      <td>7.61</td>\n",
       "      <td>98.0</td>\n",
       "      <td>11.0</td>\n",
       "      <td>0.0</td>\n",
       "      <td>False</td>\n",
       "      <td>Center City West</td>\n",
       "      <td>0.0</td>\n",
       "      <td>...</td>\n",
       "      <td>75</td>\n",
       "      <td>62</td>\n",
       "      <td>100.0</td>\n",
       "      <td>1</td>\n",
       "      <td>91.0</td>\n",
       "      <td>18</td>\n",
       "      <td>9</td>\n",
       "      <td>39.954250</td>\n",
       "      <td>-75.177612</td>\n",
       "      <td>10+</td>\n",
       "    </tr>\n",
       "  </tbody>\n",
       "</table>\n",
       "<p>15491 rows × 26 columns</p>\n",
       "</div>"
      ],
      "text/plain": [
       "         Unnamed: 0             Datetime  start_station_id  AVG_WND_SPEED  \\\n",
       "640             640  2015-04-24 17:00:00            3020.0          16.55   \n",
       "940             940  2015-04-25 10:00:00            3032.0           9.17   \n",
       "1136           1136  2015-04-25 15:00:00            3057.0           9.17   \n",
       "1191           1191  2015-04-25 17:00:00            3005.0           9.17   \n",
       "1565           1565  2015-04-26 11:00:00            3059.0           7.38   \n",
       "...             ...                  ...               ...            ...   \n",
       "1758082     1758082  2019-09-30 17:00:00            3156.0           7.61   \n",
       "1758097     1758097  2019-09-30 17:00:00            3182.0           7.61   \n",
       "1758103     1758103  2019-09-30 17:00:00            3195.0           7.61   \n",
       "1758121     1758121  2019-09-30 18:00:00            3020.0           7.61   \n",
       "1758155     1758155  2019-09-30 18:00:00            3061.0           7.61   \n",
       "\n",
       "         Bike Score  COUNT  FOG  HOLIDAY                   Neighborhood  PRCP  \\\n",
       "640            88.0   11.0  0.0    False                University City   0.0   \n",
       "940            89.0   12.0  0.0    False                   Point Breeze   0.0   \n",
       "1136           75.0   14.0  0.0    False         Fairmount – Art Museum   0.0   \n",
       "1191           84.0   10.0  0.0    False               Center City East   0.0   \n",
       "1565           97.0   46.0  0.0    False  Northern Liberties – Fishtown   0.0   \n",
       "...             ...    ...  ...      ...                            ...   ...   \n",
       "1758082        86.0   17.0  0.0    False               Center City West   0.0   \n",
       "1758097        89.0   10.0  0.0    False               Center City West   0.0   \n",
       "1758103        79.0   11.0  0.0    False               Center City West   0.0   \n",
       "1758121        88.0   15.0  0.0    False                University City   0.0   \n",
       "1758155        98.0   11.0  0.0    False               Center City West   0.0   \n",
       "\n",
       "         ...  TMAX  TMIN  Transit Score  WEEKDAY  Walk Score  hour_of_day  \\\n",
       "640      ...    57    39           98.0        1        75.0           17   \n",
       "940      ...    58    37           65.0        0        93.0           10   \n",
       "1136     ...    58    37           66.0        0        85.0           15   \n",
       "1191     ...    58    37           97.0        0        98.0           17   \n",
       "1565     ...    64    45           86.0        0        96.0           11   \n",
       "...      ...   ...   ...            ...      ...         ...          ...   \n",
       "1758082  ...    75    62          100.0        1       100.0           17   \n",
       "1758097  ...    75    62          100.0        1       100.0           17   \n",
       "1758103  ...    75    62          100.0        1       100.0           17   \n",
       "1758121  ...    75    62           98.0        1        75.0           18   \n",
       "1758155  ...    75    62          100.0        1        91.0           18   \n",
       "\n",
       "         month  start_lat  start_lon  COUNT_BINS  \n",
       "640          4  39.948870 -75.189860         10+  \n",
       "940          4  39.945270 -75.179710         10+  \n",
       "1136         4  39.964420 -75.179990         10+  \n",
       "1191         4  39.947330 -75.144030         10+  \n",
       "1565         4  39.962650 -75.161740         10+  \n",
       "...        ...        ...        ...         ...  \n",
       "1758082      9  39.953812 -75.174072         10+  \n",
       "1758097      9  39.950809 -75.169533         10+  \n",
       "1758103      9  39.954102 -75.169647         10+  \n",
       "1758121      9  39.949219 -75.190361         10+  \n",
       "1758155      9  39.954250 -75.177612         10+  \n",
       "\n",
       "[15491 rows x 26 columns]"
      ]
     },
     "execution_count": 184,
     "metadata": {},
     "output_type": "execute_result"
    }
   ],
   "source": [
    "result.loc[(result['COUNT_BINS'] == '10+') ]"
   ]
  },
  {
   "cell_type": "code",
   "execution_count": 186,
   "metadata": {},
   "outputs": [
    {
     "data": {
      "text/plain": [
       "17    111518\n",
       "18    104466\n",
       "16    103754\n",
       "8     102505\n",
       "15     97995\n",
       "19     95565\n",
       "14     93914\n",
       "9      93769\n",
       "12     93015\n",
       "13     92796\n",
       "11     88434\n",
       "10     85511\n",
       "7      83101\n",
       "20     82861\n",
       "21     71307\n",
       "22     61437\n",
       "6      61113\n",
       "23     50042\n",
       "0      39740\n",
       "5      39563\n",
       "1      32433\n",
       "2      27562\n",
       "4      23998\n",
       "3      22105\n",
       "Name: hour_of_day, dtype: int64"
      ]
     },
     "execution_count": 186,
     "metadata": {},
     "output_type": "execute_result"
    }
   ],
   "source": [
    "result['hour_of_day'].value_counts()"
   ]
  },
  {
   "cell_type": "code",
   "execution_count": 194,
   "metadata": {},
   "outputs": [],
   "source": [
    "delete34df = result.loc[(result['hour_of_day'] == 3) | (result['hour_of_day'] == 4) ]"
   ]
  },
  {
   "cell_type": "code",
   "execution_count": 195,
   "metadata": {},
   "outputs": [
    {
     "data": {
      "text/html": [
       "<div>\n",
       "<style scoped>\n",
       "    .dataframe tbody tr th:only-of-type {\n",
       "        vertical-align: middle;\n",
       "    }\n",
       "\n",
       "    .dataframe tbody tr th {\n",
       "        vertical-align: top;\n",
       "    }\n",
       "\n",
       "    .dataframe thead th {\n",
       "        text-align: right;\n",
       "    }\n",
       "</style>\n",
       "<table border=\"1\" class=\"dataframe\">\n",
       "  <thead>\n",
       "    <tr style=\"text-align: right;\">\n",
       "      <th></th>\n",
       "      <th>Unnamed: 0</th>\n",
       "      <th>Datetime</th>\n",
       "      <th>start_station_id</th>\n",
       "      <th>AVG_WND_SPEED</th>\n",
       "      <th>Bike Score</th>\n",
       "      <th>COUNT</th>\n",
       "      <th>FOG</th>\n",
       "      <th>HOLIDAY</th>\n",
       "      <th>Neighborhood</th>\n",
       "      <th>PRCP</th>\n",
       "      <th>...</th>\n",
       "      <th>TMAX</th>\n",
       "      <th>TMIN</th>\n",
       "      <th>Transit Score</th>\n",
       "      <th>WEEKDAY</th>\n",
       "      <th>Walk Score</th>\n",
       "      <th>hour_of_day</th>\n",
       "      <th>month</th>\n",
       "      <th>start_lat</th>\n",
       "      <th>start_lon</th>\n",
       "      <th>COUNT_BINS</th>\n",
       "    </tr>\n",
       "  </thead>\n",
       "  <tbody>\n",
       "    <tr>\n",
       "      <td>842</td>\n",
       "      <td>842</td>\n",
       "      <td>2015-04-25 03:00:00</td>\n",
       "      <td>3010.0</td>\n",
       "      <td>9.17</td>\n",
       "      <td>86.0</td>\n",
       "      <td>0.0</td>\n",
       "      <td>0.0</td>\n",
       "      <td>False</td>\n",
       "      <td>Avenue of the Arts South</td>\n",
       "      <td>0.0</td>\n",
       "      <td>...</td>\n",
       "      <td>58</td>\n",
       "      <td>37</td>\n",
       "      <td>100.0</td>\n",
       "      <td>0</td>\n",
       "      <td>99.0</td>\n",
       "      <td>3</td>\n",
       "      <td>4</td>\n",
       "      <td>39.947110</td>\n",
       "      <td>-75.166180</td>\n",
       "      <td>0-2</td>\n",
       "    </tr>\n",
       "    <tr>\n",
       "      <td>843</td>\n",
       "      <td>843</td>\n",
       "      <td>2015-04-25 03:00:00</td>\n",
       "      <td>3012.0</td>\n",
       "      <td>9.17</td>\n",
       "      <td>97.0</td>\n",
       "      <td>0.0</td>\n",
       "      <td>0.0</td>\n",
       "      <td>False</td>\n",
       "      <td>Graduate hospital</td>\n",
       "      <td>0.0</td>\n",
       "      <td>...</td>\n",
       "      <td>58</td>\n",
       "      <td>37</td>\n",
       "      <td>86.0</td>\n",
       "      <td>0</td>\n",
       "      <td>95.0</td>\n",
       "      <td>3</td>\n",
       "      <td>4</td>\n",
       "      <td>39.942170</td>\n",
       "      <td>-75.177500</td>\n",
       "      <td>0-2</td>\n",
       "    </tr>\n",
       "    <tr>\n",
       "      <td>844</td>\n",
       "      <td>844</td>\n",
       "      <td>2015-04-25 03:00:00</td>\n",
       "      <td>3022.0</td>\n",
       "      <td>9.17</td>\n",
       "      <td>90.0</td>\n",
       "      <td>0.0</td>\n",
       "      <td>0.0</td>\n",
       "      <td>False</td>\n",
       "      <td>University City</td>\n",
       "      <td>0.0</td>\n",
       "      <td>...</td>\n",
       "      <td>58</td>\n",
       "      <td>37</td>\n",
       "      <td>100.0</td>\n",
       "      <td>0</td>\n",
       "      <td>89.0</td>\n",
       "      <td>3</td>\n",
       "      <td>4</td>\n",
       "      <td>39.954720</td>\n",
       "      <td>-75.183230</td>\n",
       "      <td>0-2</td>\n",
       "    </tr>\n",
       "    <tr>\n",
       "      <td>845</td>\n",
       "      <td>845</td>\n",
       "      <td>2015-04-25 03:00:00</td>\n",
       "      <td>3033.0</td>\n",
       "      <td>9.17</td>\n",
       "      <td>83.0</td>\n",
       "      <td>1.0</td>\n",
       "      <td>0.0</td>\n",
       "      <td>False</td>\n",
       "      <td>Center City East</td>\n",
       "      <td>0.0</td>\n",
       "      <td>...</td>\n",
       "      <td>58</td>\n",
       "      <td>37</td>\n",
       "      <td>100.0</td>\n",
       "      <td>0</td>\n",
       "      <td>100.0</td>\n",
       "      <td>3</td>\n",
       "      <td>4</td>\n",
       "      <td>39.950050</td>\n",
       "      <td>-75.156720</td>\n",
       "      <td>0-2</td>\n",
       "    </tr>\n",
       "    <tr>\n",
       "      <td>846</td>\n",
       "      <td>846</td>\n",
       "      <td>2015-04-25 03:00:00</td>\n",
       "      <td>3047.0</td>\n",
       "      <td>9.17</td>\n",
       "      <td>80.0</td>\n",
       "      <td>0.0</td>\n",
       "      <td>0.0</td>\n",
       "      <td>False</td>\n",
       "      <td>Center City East</td>\n",
       "      <td>0.0</td>\n",
       "      <td>...</td>\n",
       "      <td>58</td>\n",
       "      <td>37</td>\n",
       "      <td>100.0</td>\n",
       "      <td>0</td>\n",
       "      <td>96.0</td>\n",
       "      <td>3</td>\n",
       "      <td>4</td>\n",
       "      <td>39.950710</td>\n",
       "      <td>-75.149210</td>\n",
       "      <td>0-2</td>\n",
       "    </tr>\n",
       "    <tr>\n",
       "      <td>...</td>\n",
       "      <td>...</td>\n",
       "      <td>...</td>\n",
       "      <td>...</td>\n",
       "      <td>...</td>\n",
       "      <td>...</td>\n",
       "      <td>...</td>\n",
       "      <td>...</td>\n",
       "      <td>...</td>\n",
       "      <td>...</td>\n",
       "      <td>...</td>\n",
       "      <td>...</td>\n",
       "      <td>...</td>\n",
       "      <td>...</td>\n",
       "      <td>...</td>\n",
       "      <td>...</td>\n",
       "      <td>...</td>\n",
       "      <td>...</td>\n",
       "      <td>...</td>\n",
       "      <td>...</td>\n",
       "      <td>...</td>\n",
       "      <td>...</td>\n",
       "    </tr>\n",
       "    <tr>\n",
       "      <td>1757019</td>\n",
       "      <td>1757019</td>\n",
       "      <td>2019-09-30 04:00:00</td>\n",
       "      <td>3163.0</td>\n",
       "      <td>7.61</td>\n",
       "      <td>95.0</td>\n",
       "      <td>0.0</td>\n",
       "      <td>0.0</td>\n",
       "      <td>False</td>\n",
       "      <td>Fitler Square</td>\n",
       "      <td>0.0</td>\n",
       "      <td>...</td>\n",
       "      <td>75</td>\n",
       "      <td>62</td>\n",
       "      <td>100.0</td>\n",
       "      <td>1</td>\n",
       "      <td>90.0</td>\n",
       "      <td>4</td>\n",
       "      <td>9</td>\n",
       "      <td>39.949741</td>\n",
       "      <td>-75.180969</td>\n",
       "      <td>0-2</td>\n",
       "    </tr>\n",
       "    <tr>\n",
       "      <td>1757020</td>\n",
       "      <td>1757020</td>\n",
       "      <td>2019-09-30 04:00:00</td>\n",
       "      <td>3165.0</td>\n",
       "      <td>7.61</td>\n",
       "      <td>79.0</td>\n",
       "      <td>1.0</td>\n",
       "      <td>0.0</td>\n",
       "      <td>False</td>\n",
       "      <td>Avenue of the Arts South</td>\n",
       "      <td>0.0</td>\n",
       "      <td>...</td>\n",
       "      <td>75</td>\n",
       "      <td>62</td>\n",
       "      <td>100.0</td>\n",
       "      <td>1</td>\n",
       "      <td>99.0</td>\n",
       "      <td>4</td>\n",
       "      <td>9</td>\n",
       "      <td>39.958191</td>\n",
       "      <td>-75.178200</td>\n",
       "      <td>0-2</td>\n",
       "    </tr>\n",
       "    <tr>\n",
       "      <td>1757021</td>\n",
       "      <td>1757021</td>\n",
       "      <td>2019-09-30 04:00:00</td>\n",
       "      <td>3187.0</td>\n",
       "      <td>7.61</td>\n",
       "      <td>90.0</td>\n",
       "      <td>0.0</td>\n",
       "      <td>0.0</td>\n",
       "      <td>False</td>\n",
       "      <td>Logan Square</td>\n",
       "      <td>0.0</td>\n",
       "      <td>...</td>\n",
       "      <td>75</td>\n",
       "      <td>62</td>\n",
       "      <td>100.0</td>\n",
       "      <td>1</td>\n",
       "      <td>98.0</td>\n",
       "      <td>4</td>\n",
       "      <td>9</td>\n",
       "      <td>39.957249</td>\n",
       "      <td>-75.172318</td>\n",
       "      <td>0-2</td>\n",
       "    </tr>\n",
       "    <tr>\n",
       "      <td>1757022</td>\n",
       "      <td>1757022</td>\n",
       "      <td>2019-09-30 04:00:00</td>\n",
       "      <td>3190.0</td>\n",
       "      <td>7.61</td>\n",
       "      <td>85.0</td>\n",
       "      <td>1.0</td>\n",
       "      <td>0.0</td>\n",
       "      <td>False</td>\n",
       "      <td>Rittenhouse Square</td>\n",
       "      <td>0.0</td>\n",
       "      <td>...</td>\n",
       "      <td>75</td>\n",
       "      <td>62</td>\n",
       "      <td>100.0</td>\n",
       "      <td>1</td>\n",
       "      <td>100.0</td>\n",
       "      <td>4</td>\n",
       "      <td>9</td>\n",
       "      <td>39.948921</td>\n",
       "      <td>-75.169907</td>\n",
       "      <td>0-2</td>\n",
       "    </tr>\n",
       "    <tr>\n",
       "      <td>1757023</td>\n",
       "      <td>1757023</td>\n",
       "      <td>2019-09-30 04:00:00</td>\n",
       "      <td>3210.0</td>\n",
       "      <td>7.61</td>\n",
       "      <td>66.0</td>\n",
       "      <td>1.0</td>\n",
       "      <td>0.0</td>\n",
       "      <td>False</td>\n",
       "      <td>Avenue of the Arts North</td>\n",
       "      <td>0.0</td>\n",
       "      <td>...</td>\n",
       "      <td>75</td>\n",
       "      <td>62</td>\n",
       "      <td>87.0</td>\n",
       "      <td>1</td>\n",
       "      <td>83.0</td>\n",
       "      <td>4</td>\n",
       "      <td>9</td>\n",
       "      <td>39.984921</td>\n",
       "      <td>-75.156677</td>\n",
       "      <td>0-2</td>\n",
       "    </tr>\n",
       "  </tbody>\n",
       "</table>\n",
       "<p>46103 rows × 26 columns</p>\n",
       "</div>"
      ],
      "text/plain": [
       "         Unnamed: 0             Datetime  start_station_id  AVG_WND_SPEED  \\\n",
       "842             842  2015-04-25 03:00:00            3010.0           9.17   \n",
       "843             843  2015-04-25 03:00:00            3012.0           9.17   \n",
       "844             844  2015-04-25 03:00:00            3022.0           9.17   \n",
       "845             845  2015-04-25 03:00:00            3033.0           9.17   \n",
       "846             846  2015-04-25 03:00:00            3047.0           9.17   \n",
       "...             ...                  ...               ...            ...   \n",
       "1757019     1757019  2019-09-30 04:00:00            3163.0           7.61   \n",
       "1757020     1757020  2019-09-30 04:00:00            3165.0           7.61   \n",
       "1757021     1757021  2019-09-30 04:00:00            3187.0           7.61   \n",
       "1757022     1757022  2019-09-30 04:00:00            3190.0           7.61   \n",
       "1757023     1757023  2019-09-30 04:00:00            3210.0           7.61   \n",
       "\n",
       "         Bike Score  COUNT  FOG  HOLIDAY              Neighborhood  PRCP  ...  \\\n",
       "842            86.0    0.0  0.0    False  Avenue of the Arts South   0.0  ...   \n",
       "843            97.0    0.0  0.0    False         Graduate hospital   0.0  ...   \n",
       "844            90.0    0.0  0.0    False           University City   0.0  ...   \n",
       "845            83.0    1.0  0.0    False          Center City East   0.0  ...   \n",
       "846            80.0    0.0  0.0    False          Center City East   0.0  ...   \n",
       "...             ...    ...  ...      ...                       ...   ...  ...   \n",
       "1757019        95.0    0.0  0.0    False             Fitler Square   0.0  ...   \n",
       "1757020        79.0    1.0  0.0    False  Avenue of the Arts South   0.0  ...   \n",
       "1757021        90.0    0.0  0.0    False              Logan Square   0.0  ...   \n",
       "1757022        85.0    1.0  0.0    False        Rittenhouse Square   0.0  ...   \n",
       "1757023        66.0    1.0  0.0    False  Avenue of the Arts North   0.0  ...   \n",
       "\n",
       "         TMAX  TMIN  Transit Score  WEEKDAY  Walk Score  hour_of_day  month  \\\n",
       "842        58    37          100.0        0        99.0            3      4   \n",
       "843        58    37           86.0        0        95.0            3      4   \n",
       "844        58    37          100.0        0        89.0            3      4   \n",
       "845        58    37          100.0        0       100.0            3      4   \n",
       "846        58    37          100.0        0        96.0            3      4   \n",
       "...       ...   ...            ...      ...         ...          ...    ...   \n",
       "1757019    75    62          100.0        1        90.0            4      9   \n",
       "1757020    75    62          100.0        1        99.0            4      9   \n",
       "1757021    75    62          100.0        1        98.0            4      9   \n",
       "1757022    75    62          100.0        1       100.0            4      9   \n",
       "1757023    75    62           87.0        1        83.0            4      9   \n",
       "\n",
       "         start_lat  start_lon  COUNT_BINS  \n",
       "842      39.947110 -75.166180         0-2  \n",
       "843      39.942170 -75.177500         0-2  \n",
       "844      39.954720 -75.183230         0-2  \n",
       "845      39.950050 -75.156720         0-2  \n",
       "846      39.950710 -75.149210         0-2  \n",
       "...            ...        ...         ...  \n",
       "1757019  39.949741 -75.180969         0-2  \n",
       "1757020  39.958191 -75.178200         0-2  \n",
       "1757021  39.957249 -75.172318         0-2  \n",
       "1757022  39.948921 -75.169907         0-2  \n",
       "1757023  39.984921 -75.156677         0-2  \n",
       "\n",
       "[46103 rows x 26 columns]"
      ]
     },
     "execution_count": 195,
     "metadata": {},
     "output_type": "execute_result"
    }
   ],
   "source": [
    "delete34df"
   ]
  },
  {
   "cell_type": "code",
   "execution_count": 196,
   "metadata": {},
   "outputs": [],
   "source": [
    "result34 = pd.concat([result, delete34df, delete34df]).drop_duplicates(keep=False)"
   ]
  },
  {
   "cell_type": "code",
   "execution_count": 197,
   "metadata": {},
   "outputs": [
    {
     "name": "stdout",
     "output_type": "stream",
     "text": [
      "              precision    recall  f1-score   support\n",
      "\n",
      "         0-2       0.92      0.52      0.67    400152\n",
      "         10+       0.08      0.69      0.15      4719\n",
      "         3-9       0.29      0.67      0.41    108850\n",
      "\n",
      "    accuracy                           0.56    513721\n",
      "   macro avg       0.43      0.63      0.41    513721\n",
      "weighted avg       0.78      0.56      0.61    513721\n",
      "\n"
     ]
    }
   ],
   "source": [
    "X = result34[['start_lat', 'start_lon', 'hour_of_day', 'AVG_WND_SPEED', 'TAVG', 'TMAX', 'TMIN', 'month', 'WEEKDAY', 'Walk Score', 'Transit Score', 'Bike Score']]\n",
    "normalized_X = preprocessing.normalize(X)\n",
    "y = result34['COUNT_BINS'].astype(str)\n",
    "\n",
    "X_train, X_test, y_train, y_test = train_test_split(normalized_X, y, test_size = 0.3)\n",
    "decisionTree = tree.DecisionTreeClassifier(max_depth=12, criterion='gini', class_weight={'0-2': .19, '3-9': 1, '10+':14})\n",
    "dt_weighted5 = decisionTree.fit(X_train, y_train)\n",
    "dt_weighted5.score(X_test, y_test)\n",
    "\n",
    "y_pred = dt_weighted5.predict(X_test)\n",
    "print(classification_report(y_test, y_pred,))\n",
    "\n",
    "#import pickle\n",
    "#filename = 'dt5gini_.19_1_14.pkl'\n",
    "#pickle.dump(dt_weighted5, open(filename, 'wb'))"
   ]
  },
  {
   "cell_type": "code",
   "execution_count": 198,
   "metadata": {},
   "outputs": [
    {
     "name": "stdout",
     "output_type": "stream",
     "text": [
      "[0.07473792 0.08660618 0.14448513 0.06997532 0.07655957 0.07588865\n",
      " 0.07703979 0.07262103 0.05957799 0.08756175 0.08871264 0.08623403]\n"
     ]
    }
   ],
   "source": [
    "from sklearn.ensemble import ExtraTreesClassifier\n",
    "\n",
    "model = ExtraTreesClassifier(n_estimators=10)\n",
    "model.fit(normalized_X, y)\n",
    "print(model.feature_importances_)"
   ]
  },
  {
   "cell_type": "code",
   "execution_count": 204,
   "metadata": {},
   "outputs": [
    {
     "ename": "ValueError",
     "evalue": "could not convert string to float: 'Logan Square'",
     "output_type": "error",
     "traceback": [
      "\u001b[0;31m---------------------------------------------------------------------------\u001b[0m",
      "\u001b[0;31mValueError\u001b[0m                                Traceback (most recent call last)",
      "\u001b[0;32m<ipython-input-204-1b0e9ba3af2a>\u001b[0m in \u001b[0;36m<module>\u001b[0;34m\u001b[0m\n\u001b[1;32m      1\u001b[0m \u001b[0mX\u001b[0m \u001b[0;34m=\u001b[0m \u001b[0mresult34\u001b[0m\u001b[0;34m[\u001b[0m\u001b[0;34m[\u001b[0m\u001b[0;34m'start_lat'\u001b[0m\u001b[0;34m,\u001b[0m \u001b[0;34m'start_lon'\u001b[0m\u001b[0;34m,\u001b[0m \u001b[0;34m'hour_of_day'\u001b[0m\u001b[0;34m,\u001b[0m\u001b[0;34m'Neighborhood'\u001b[0m\u001b[0;34m,\u001b[0m \u001b[0;34m'AVG_WND_SPEED'\u001b[0m\u001b[0;34m,\u001b[0m \u001b[0;34m'PRCP'\u001b[0m\u001b[0;34m,\u001b[0m\u001b[0;34m'TAVG'\u001b[0m\u001b[0;34m,\u001b[0m \u001b[0;34m'TMAX'\u001b[0m\u001b[0;34m,\u001b[0m \u001b[0;34m'TMIN'\u001b[0m\u001b[0;34m,\u001b[0m \u001b[0;34m'month'\u001b[0m\u001b[0;34m,\u001b[0m \u001b[0;34m'WEEKDAY'\u001b[0m\u001b[0;34m,\u001b[0m \u001b[0;34m'Walk Score'\u001b[0m\u001b[0;34m,\u001b[0m \u001b[0;34m'Transit Score'\u001b[0m\u001b[0;34m,\u001b[0m \u001b[0;34m'Bike Score'\u001b[0m\u001b[0;34m]\u001b[0m\u001b[0;34m]\u001b[0m\u001b[0;34m\u001b[0m\u001b[0;34m\u001b[0m\u001b[0m\n\u001b[0;32m----> 2\u001b[0;31m \u001b[0mnormalized_X\u001b[0m \u001b[0;34m=\u001b[0m \u001b[0mpreprocessing\u001b[0m\u001b[0;34m.\u001b[0m\u001b[0mnormalize\u001b[0m\u001b[0;34m(\u001b[0m\u001b[0mX\u001b[0m\u001b[0;34m)\u001b[0m\u001b[0;34m\u001b[0m\u001b[0;34m\u001b[0m\u001b[0m\n\u001b[0m\u001b[1;32m      3\u001b[0m \u001b[0my\u001b[0m \u001b[0;34m=\u001b[0m \u001b[0mresult34\u001b[0m\u001b[0;34m[\u001b[0m\u001b[0;34m'COUNT_BINS'\u001b[0m\u001b[0;34m]\u001b[0m\u001b[0;34m.\u001b[0m\u001b[0mastype\u001b[0m\u001b[0;34m(\u001b[0m\u001b[0mstr\u001b[0m\u001b[0;34m)\u001b[0m\u001b[0;34m\u001b[0m\u001b[0;34m\u001b[0m\u001b[0m\n\u001b[1;32m      4\u001b[0m \u001b[0;34m\u001b[0m\u001b[0m\n\u001b[1;32m      5\u001b[0m \u001b[0mX_train\u001b[0m\u001b[0;34m,\u001b[0m \u001b[0mX_test\u001b[0m\u001b[0;34m,\u001b[0m \u001b[0my_train\u001b[0m\u001b[0;34m,\u001b[0m \u001b[0my_test\u001b[0m \u001b[0;34m=\u001b[0m \u001b[0mtrain_test_split\u001b[0m\u001b[0;34m(\u001b[0m\u001b[0mnormalized_X\u001b[0m\u001b[0;34m,\u001b[0m \u001b[0my\u001b[0m\u001b[0;34m,\u001b[0m \u001b[0mtest_size\u001b[0m \u001b[0;34m=\u001b[0m \u001b[0;36m0.3\u001b[0m\u001b[0;34m)\u001b[0m\u001b[0;34m\u001b[0m\u001b[0;34m\u001b[0m\u001b[0m\n",
      "\u001b[0;32m~/anaconda3/lib/python3.6/site-packages/sklearn/preprocessing/data.py\u001b[0m in \u001b[0;36mnormalize\u001b[0;34m(X, norm, axis, copy, return_norm)\u001b[0m\n\u001b[1;32m   1612\u001b[0m \u001b[0;34m\u001b[0m\u001b[0m\n\u001b[1;32m   1613\u001b[0m     X = check_array(X, sparse_format, copy=copy,\n\u001b[0;32m-> 1614\u001b[0;31m                     estimator='the normalize function', dtype=FLOAT_DTYPES)\n\u001b[0m\u001b[1;32m   1615\u001b[0m     \u001b[0;32mif\u001b[0m \u001b[0maxis\u001b[0m \u001b[0;34m==\u001b[0m \u001b[0;36m0\u001b[0m\u001b[0;34m:\u001b[0m\u001b[0;34m\u001b[0m\u001b[0;34m\u001b[0m\u001b[0m\n\u001b[1;32m   1616\u001b[0m         \u001b[0mX\u001b[0m \u001b[0;34m=\u001b[0m \u001b[0mX\u001b[0m\u001b[0;34m.\u001b[0m\u001b[0mT\u001b[0m\u001b[0;34m\u001b[0m\u001b[0;34m\u001b[0m\u001b[0m\n",
      "\u001b[0;32m~/anaconda3/lib/python3.6/site-packages/sklearn/utils/validation.py\u001b[0m in \u001b[0;36mcheck_array\u001b[0;34m(array, accept_sparse, accept_large_sparse, dtype, order, copy, force_all_finite, ensure_2d, allow_nd, ensure_min_samples, ensure_min_features, warn_on_dtype, estimator)\u001b[0m\n\u001b[1;32m    494\u001b[0m             \u001b[0;32mtry\u001b[0m\u001b[0;34m:\u001b[0m\u001b[0;34m\u001b[0m\u001b[0;34m\u001b[0m\u001b[0m\n\u001b[1;32m    495\u001b[0m                 \u001b[0mwarnings\u001b[0m\u001b[0;34m.\u001b[0m\u001b[0msimplefilter\u001b[0m\u001b[0;34m(\u001b[0m\u001b[0;34m'error'\u001b[0m\u001b[0;34m,\u001b[0m \u001b[0mComplexWarning\u001b[0m\u001b[0;34m)\u001b[0m\u001b[0;34m\u001b[0m\u001b[0;34m\u001b[0m\u001b[0m\n\u001b[0;32m--> 496\u001b[0;31m                 \u001b[0marray\u001b[0m \u001b[0;34m=\u001b[0m \u001b[0mnp\u001b[0m\u001b[0;34m.\u001b[0m\u001b[0masarray\u001b[0m\u001b[0;34m(\u001b[0m\u001b[0marray\u001b[0m\u001b[0;34m,\u001b[0m \u001b[0mdtype\u001b[0m\u001b[0;34m=\u001b[0m\u001b[0mdtype\u001b[0m\u001b[0;34m,\u001b[0m \u001b[0morder\u001b[0m\u001b[0;34m=\u001b[0m\u001b[0morder\u001b[0m\u001b[0;34m)\u001b[0m\u001b[0;34m\u001b[0m\u001b[0;34m\u001b[0m\u001b[0m\n\u001b[0m\u001b[1;32m    497\u001b[0m             \u001b[0;32mexcept\u001b[0m \u001b[0mComplexWarning\u001b[0m\u001b[0;34m:\u001b[0m\u001b[0;34m\u001b[0m\u001b[0;34m\u001b[0m\u001b[0m\n\u001b[1;32m    498\u001b[0m                 raise ValueError(\"Complex data not supported\\n\"\n",
      "\u001b[0;32m~/anaconda3/lib/python3.6/site-packages/numpy/core/numeric.py\u001b[0m in \u001b[0;36masarray\u001b[0;34m(a, dtype, order)\u001b[0m\n\u001b[1;32m    536\u001b[0m \u001b[0;34m\u001b[0m\u001b[0m\n\u001b[1;32m    537\u001b[0m     \"\"\"\n\u001b[0;32m--> 538\u001b[0;31m     \u001b[0;32mreturn\u001b[0m \u001b[0marray\u001b[0m\u001b[0;34m(\u001b[0m\u001b[0ma\u001b[0m\u001b[0;34m,\u001b[0m \u001b[0mdtype\u001b[0m\u001b[0;34m,\u001b[0m \u001b[0mcopy\u001b[0m\u001b[0;34m=\u001b[0m\u001b[0;32mFalse\u001b[0m\u001b[0;34m,\u001b[0m \u001b[0morder\u001b[0m\u001b[0;34m=\u001b[0m\u001b[0morder\u001b[0m\u001b[0;34m)\u001b[0m\u001b[0;34m\u001b[0m\u001b[0;34m\u001b[0m\u001b[0m\n\u001b[0m\u001b[1;32m    539\u001b[0m \u001b[0;34m\u001b[0m\u001b[0m\n\u001b[1;32m    540\u001b[0m \u001b[0;34m\u001b[0m\u001b[0m\n",
      "\u001b[0;31mValueError\u001b[0m: could not convert string to float: 'Logan Square'"
     ]
    }
   ],
   "source": [
    "X = result34[['start_lat', 'start_lon', 'hour_of_day','Neighborhood', 'AVG_WND_SPEED', 'PRCP','TAVG', 'TMAX', 'TMIN', 'month', 'WEEKDAY', 'Walk Score', 'Transit Score', 'Bike Score']]\n",
    "normalized_X = preprocessing.normalize(X)\n",
    "y = result34['COUNT_BINS'].astype(str)\n",
    "\n",
    "X_train, X_test, y_train, y_test = train_test_split(normalized_X, y, test_size = 0.3)\n",
    "decisionTree = tree.DecisionTreeClassifier(max_depth=12, criterion='gini', class_weight={'0-2': .19, '3-9': 1, '10+':14})\n",
    "dt_weighted5 = decisionTree.fit(X_train, y_train)\n",
    "dt_weighted5.score(X_test, y_test)\n",
    "\n",
    "y_pred = dt_weighted5.predict(X_test)\n",
    "print(classification_report(y_test, y_pred,))\n",
    "\n",
    "#import pickle\n",
    "#filename = 'dt5gini_.19_1_14.pkl'\n",
    "#pickle.dump(dt_weighted5, open(filename, 'wb'))"
   ]
  },
  {
   "cell_type": "code",
   "execution_count": 203,
   "metadata": {},
   "outputs": [
    {
     "data": {
      "text/plain": [
       "array(['Unnamed: 0', 'Datetime', 'start_station_id', 'AVG_WND_SPEED',\n",
       "       'Bike Score', 'COUNT', 'FOG', 'HOLIDAY', 'Neighborhood', 'PRCP',\n",
       "       'Population', 'SLEET_OR_HAIL', 'SNOW', 'SNOW_DEPTH', 'TAVG',\n",
       "       'THUNDER', 'TMAX', 'TMIN', 'Transit Score', 'WEEKDAY',\n",
       "       'Walk Score', 'hour_of_day', 'month', 'start_lat', 'start_lon',\n",
       "       'COUNT_BINS'], dtype=object)"
      ]
     },
     "execution_count": 203,
     "metadata": {},
     "output_type": "execute_result"
    }
   ],
   "source": [
    "result.columns.values"
   ]
  },
  {
   "cell_type": "code",
   "execution_count": null,
   "metadata": {},
   "outputs": [],
   "source": []
  },
  {
   "cell_type": "code",
   "execution_count": 205,
   "metadata": {},
   "outputs": [],
   "source": [
    "# Create x, where x the 'scores' column's values as floats\n",
    "x = result[['start_lat']].values.astype(float)\n",
    "\n",
    "# Create a minimum and maximum processor object\n",
    "min_max_scaler = preprocessing.MinMaxScaler()\n",
    "\n",
    "# Create an object to transform the data to fit minmax processor\n",
    "x_scaled = min_max_scaler.fit_transform(x)\n",
    "\n",
    "# Run the normalizer on the dataframe\n",
    "df_normalized = pd.DataFrame(x_scaled)"
   ]
  },
  {
   "cell_type": "code",
   "execution_count": 207,
   "metadata": {},
   "outputs": [
    {
     "data": {
      "text/html": [
       "<div>\n",
       "<style scoped>\n",
       "    .dataframe tbody tr th:only-of-type {\n",
       "        vertical-align: middle;\n",
       "    }\n",
       "\n",
       "    .dataframe tbody tr th {\n",
       "        vertical-align: top;\n",
       "    }\n",
       "\n",
       "    .dataframe thead th {\n",
       "        text-align: right;\n",
       "    }\n",
       "</style>\n",
       "<table border=\"1\" class=\"dataframe\">\n",
       "  <thead>\n",
       "    <tr style=\"text-align: right;\">\n",
       "      <th></th>\n",
       "      <th>0</th>\n",
       "    </tr>\n",
       "  </thead>\n",
       "  <tbody>\n",
       "    <tr>\n",
       "      <td>count</td>\n",
       "      <td>1.758504e+06</td>\n",
       "    </tr>\n",
       "    <tr>\n",
       "      <td>mean</td>\n",
       "      <td>9.987163e-01</td>\n",
       "    </tr>\n",
       "    <tr>\n",
       "      <td>std</td>\n",
       "      <td>2.837212e-02</td>\n",
       "    </tr>\n",
       "    <tr>\n",
       "      <td>min</td>\n",
       "      <td>0.000000e+00</td>\n",
       "    </tr>\n",
       "    <tr>\n",
       "      <td>25%</td>\n",
       "      <td>9.994181e-01</td>\n",
       "    </tr>\n",
       "    <tr>\n",
       "      <td>50%</td>\n",
       "      <td>9.995168e-01</td>\n",
       "    </tr>\n",
       "    <tr>\n",
       "      <td>75%</td>\n",
       "      <td>9.996336e-01</td>\n",
       "    </tr>\n",
       "    <tr>\n",
       "      <td>max</td>\n",
       "      <td>1.000000e+00</td>\n",
       "    </tr>\n",
       "  </tbody>\n",
       "</table>\n",
       "</div>"
      ],
      "text/plain": [
       "                  0\n",
       "count  1.758504e+06\n",
       "mean   9.987163e-01\n",
       "std    2.837212e-02\n",
       "min    0.000000e+00\n",
       "25%    9.994181e-01\n",
       "50%    9.995168e-01\n",
       "75%    9.996336e-01\n",
       "max    1.000000e+00"
      ]
     },
     "execution_count": 207,
     "metadata": {},
     "output_type": "execute_result"
    }
   ],
   "source": [
    "df_normalized.describe()"
   ]
  },
  {
   "cell_type": "code",
   "execution_count": 208,
   "metadata": {},
   "outputs": [
    {
     "data": {
      "text/html": [
       "<div>\n",
       "<style scoped>\n",
       "    .dataframe tbody tr th:only-of-type {\n",
       "        vertical-align: middle;\n",
       "    }\n",
       "\n",
       "    .dataframe tbody tr th {\n",
       "        vertical-align: top;\n",
       "    }\n",
       "\n",
       "    .dataframe thead th {\n",
       "        text-align: right;\n",
       "    }\n",
       "</style>\n",
       "<table border=\"1\" class=\"dataframe\">\n",
       "  <thead>\n",
       "    <tr style=\"text-align: right;\">\n",
       "      <th></th>\n",
       "      <th>0</th>\n",
       "    </tr>\n",
       "  </thead>\n",
       "  <tbody>\n",
       "    <tr>\n",
       "      <td>873688</td>\n",
       "      <td>0.0</td>\n",
       "    </tr>\n",
       "    <tr>\n",
       "      <td>874075</td>\n",
       "      <td>0.0</td>\n",
       "    </tr>\n",
       "    <tr>\n",
       "      <td>874591</td>\n",
       "      <td>0.0</td>\n",
       "    </tr>\n",
       "    <tr>\n",
       "      <td>874646</td>\n",
       "      <td>0.0</td>\n",
       "    </tr>\n",
       "    <tr>\n",
       "      <td>875214</td>\n",
       "      <td>0.0</td>\n",
       "    </tr>\n",
       "    <tr>\n",
       "      <td>876275</td>\n",
       "      <td>0.0</td>\n",
       "    </tr>\n",
       "    <tr>\n",
       "      <td>876821</td>\n",
       "      <td>0.0</td>\n",
       "    </tr>\n",
       "    <tr>\n",
       "      <td>877354</td>\n",
       "      <td>0.0</td>\n",
       "    </tr>\n",
       "    <tr>\n",
       "      <td>877438</td>\n",
       "      <td>0.0</td>\n",
       "    </tr>\n",
       "    <tr>\n",
       "      <td>878214</td>\n",
       "      <td>0.0</td>\n",
       "    </tr>\n",
       "  </tbody>\n",
       "</table>\n",
       "</div>"
      ],
      "text/plain": [
       "          0\n",
       "873688  0.0\n",
       "874075  0.0\n",
       "874591  0.0\n",
       "874646  0.0\n",
       "875214  0.0\n",
       "876275  0.0\n",
       "876821  0.0\n",
       "877354  0.0\n",
       "877438  0.0\n",
       "878214  0.0"
      ]
     },
     "execution_count": 208,
     "metadata": {},
     "output_type": "execute_result"
    }
   ],
   "source": [
    "df_normalized.nsmallest(10, 0)"
   ]
  },
  {
   "cell_type": "code",
   "execution_count": 211,
   "metadata": {},
   "outputs": [
    {
     "name": "stdout",
     "output_type": "stream",
     "text": [
      "        Unnamed: 0             Datetime  start_station_id  AVG_WND_SPEED  \\\n",
      "873695      873695  2017-09-28 11:00:00            3185.0          15.21   \n",
      "874082      874082  2017-09-28 16:00:00            3185.0          15.21   \n",
      "874598      874598  2017-09-28 23:00:00            3185.0          15.21   \n",
      "874653      874653  2017-09-29 01:00:00            3185.0           7.61   \n",
      "875221      875221  2017-09-29 11:00:00            3185.0           7.61   \n",
      "876282      876282  2017-09-30 05:00:00            3185.0          13.20   \n",
      "876828      876828  2017-09-30 13:00:00            3185.0          13.20   \n",
      "877361      877361  2017-09-30 20:00:00            3185.0          13.20   \n",
      "877445      877445  2017-09-30 22:00:00            3185.0          13.20   \n",
      "878221      878221  2017-10-01 14:00:00            3185.0           6.49   \n",
      "\n",
      "        Bike Score  COUNT  FOG  HOLIDAY      Neighborhood  PRCP  ...  TMAX  \\\n",
      "873695        82.0    0.0  0.0    False  Center City East   0.0  ...    78   \n",
      "874082        82.0    0.0  0.0    False  Center City East   0.0  ...    78   \n",
      "874598        82.0    0.0  0.0    False  Center City East   0.0  ...    78   \n",
      "874653        82.0    0.0  0.0    False  Center City East   0.0  ...    71   \n",
      "875221        82.0    0.0  0.0    False  Center City East   0.0  ...    71   \n",
      "876282        82.0    0.0  0.0    False  Center City East   0.0  ...    66   \n",
      "876828        82.0    0.0  0.0    False  Center City East   0.0  ...    66   \n",
      "877361        82.0    0.0  0.0    False  Center City East   0.0  ...    66   \n",
      "877445        82.0    0.0  0.0    False  Center City East   0.0  ...    66   \n",
      "878221        82.0    0.0  0.0    False  Center City East   0.0  ...    69   \n",
      "\n",
      "        TMIN  Transit Score  WEEKDAY  Walk Score  hour_of_day  month  \\\n",
      "873695    60          100.0        1       100.0           11      9   \n",
      "874082    60          100.0        1       100.0           16      9   \n",
      "874598    60          100.0        1       100.0           23      9   \n",
      "874653    54          100.0        1       100.0            1      9   \n",
      "875221    54          100.0        1       100.0           11      9   \n",
      "876282    53          100.0        0       100.0            5      9   \n",
      "876828    53          100.0        0       100.0           13      9   \n",
      "877361    53          100.0        0       100.0           20      9   \n",
      "877445    53          100.0        0       100.0           22      9   \n",
      "878221    49          100.0        0       100.0           14     10   \n",
      "\n",
      "        start_lat  start_lon  COUNT_BINS  \n",
      "873695 -39.951759 -75.158318         0-2  \n",
      "874082 -39.951759 -75.158318         0-2  \n",
      "874598 -39.951759 -75.158318         0-2  \n",
      "874653 -39.951759 -75.158318         0-2  \n",
      "875221 -39.951759 -75.158318         0-2  \n",
      "876282 -39.951759 -75.158318         0-2  \n",
      "876828 -39.951759 -75.158318         0-2  \n",
      "877361 -39.951759 -75.158318         0-2  \n",
      "877445 -39.951759 -75.158318         0-2  \n",
      "878221 -39.951759 -75.158318         0-2  \n",
      "\n",
      "[10 rows x 26 columns]\n",
      "        Unnamed: 0             Datetime  start_station_id  AVG_WND_SPEED  \\\n",
      "347461      347461  2016-07-01 15:00:00            3106.0           7.38   \n",
      "347602      347602  2016-07-01 17:00:00            3106.0           7.38   \n",
      "347667      347667  2016-07-01 18:00:00            3106.0           7.38   \n",
      "347734      347734  2016-07-01 19:00:00            3106.0           7.38   \n",
      "347908      347908  2016-07-01 22:00:00            3106.0           7.38   \n",
      "348322      348322  2016-07-02 10:00:00            3106.0          12.30   \n",
      "348393      348393  2016-07-02 11:00:00            3106.0          12.30   \n",
      "348472      348472  2016-07-02 12:00:00            3106.0          12.30   \n",
      "348544      348544  2016-07-02 13:00:00            3106.0          12.30   \n",
      "348835      348835  2016-07-02 17:00:00            3106.0          12.30   \n",
      "\n",
      "        Bike Score  COUNT  FOG  HOLIDAY             Neighborhood  PRCP  ...  \\\n",
      "347461        96.0    1.0  0.0    False  North Philadelphia West   0.0  ...   \n",
      "347602        96.0    3.0  0.0    False  North Philadelphia West   0.0  ...   \n",
      "347667        96.0    1.0  0.0    False  North Philadelphia West   0.0  ...   \n",
      "347734        96.0    1.0  0.0    False  North Philadelphia West   0.0  ...   \n",
      "347908        96.0    1.0  0.0    False  North Philadelphia West   0.0  ...   \n",
      "348322        96.0    2.0  0.0    False  North Philadelphia West   0.0  ...   \n",
      "348393        96.0    2.0  0.0    False  North Philadelphia West   0.0  ...   \n",
      "348472        96.0    4.0  0.0    False  North Philadelphia West   0.0  ...   \n",
      "348544        96.0    1.0  0.0    False  North Philadelphia West   0.0  ...   \n",
      "348835        96.0    5.0  0.0    False  North Philadelphia West   0.0  ...   \n",
      "\n",
      "        TMAX  TMIN  Transit Score  WEEKDAY  Walk Score  hour_of_day  month  \\\n",
      "347461    87    70           60.0        1        65.0           15      7   \n",
      "347602    87    70           60.0        1        65.0           17      7   \n",
      "347667    87    70           60.0        1        65.0           18      7   \n",
      "347734    87    70           60.0        1        65.0           19      7   \n",
      "347908    87    70           60.0        1        65.0           22      7   \n",
      "348322    80    70           60.0        0        65.0           10      7   \n",
      "348393    80    70           60.0        0        65.0           11      7   \n",
      "348472    80    70           60.0        0        65.0           12      7   \n",
      "348544    80    70           60.0        0        65.0           13      7   \n",
      "348835    80    70           60.0        0        65.0           17      7   \n",
      "\n",
      "        start_lat  start_lon  COUNT_BINS  \n",
      "347461  39.991791 -75.186371         0-2  \n",
      "347602  39.991791 -75.186371         3-9  \n",
      "347667  39.991791 -75.186371         0-2  \n",
      "347734  39.991791 -75.186371         0-2  \n",
      "347908  39.991791 -75.186371         0-2  \n",
      "348322  39.991791 -75.186371         0-2  \n",
      "348393  39.991791 -75.186371         0-2  \n",
      "348472  39.991791 -75.186371         3-9  \n",
      "348544  39.991791 -75.186371         0-2  \n",
      "348835  39.991791 -75.186371         3-9  \n",
      "\n",
      "[10 rows x 26 columns]\n"
     ]
    }
   ],
   "source": [
    "print(result.nsmallest(10,'start_lat'))\n",
    "print(result.nlargest(10,'start_lat'))"
   ]
  },
  {
   "cell_type": "code",
   "execution_count": 215,
   "metadata": {},
   "outputs": [],
   "source": [
    "#latitude is wrong for many rows!!\n",
    "df_other = pd.DataFrame()\n",
    "df_other['start_lat'] = result['start_lat'].abs() "
   ]
  },
  {
   "cell_type": "code",
   "execution_count": 217,
   "metadata": {},
   "outputs": [
    {
     "data": {
      "text/html": [
       "<div>\n",
       "<style scoped>\n",
       "    .dataframe tbody tr th:only-of-type {\n",
       "        vertical-align: middle;\n",
       "    }\n",
       "\n",
       "    .dataframe tbody tr th {\n",
       "        vertical-align: top;\n",
       "    }\n",
       "\n",
       "    .dataframe thead th {\n",
       "        text-align: right;\n",
       "    }\n",
       "</style>\n",
       "<table border=\"1\" class=\"dataframe\">\n",
       "  <thead>\n",
       "    <tr style=\"text-align: right;\">\n",
       "      <th></th>\n",
       "      <th>start_lat</th>\n",
       "    </tr>\n",
       "  </thead>\n",
       "  <tbody>\n",
       "    <tr>\n",
       "      <td>873102</td>\n",
       "      <td>39.889938</td>\n",
       "    </tr>\n",
       "    <tr>\n",
       "      <td>873141</td>\n",
       "      <td>39.889938</td>\n",
       "    </tr>\n",
       "    <tr>\n",
       "      <td>873210</td>\n",
       "      <td>39.889938</td>\n",
       "    </tr>\n",
       "    <tr>\n",
       "      <td>873774</td>\n",
       "      <td>39.889938</td>\n",
       "    </tr>\n",
       "    <tr>\n",
       "      <td>874181</td>\n",
       "      <td>39.889938</td>\n",
       "    </tr>\n",
       "    <tr>\n",
       "      <td>874597</td>\n",
       "      <td>39.889938</td>\n",
       "    </tr>\n",
       "    <tr>\n",
       "      <td>874811</td>\n",
       "      <td>39.889938</td>\n",
       "    </tr>\n",
       "    <tr>\n",
       "      <td>875220</td>\n",
       "      <td>39.889938</td>\n",
       "    </tr>\n",
       "    <tr>\n",
       "      <td>875451</td>\n",
       "      <td>39.889938</td>\n",
       "    </tr>\n",
       "    <tr>\n",
       "      <td>875815</td>\n",
       "      <td>39.889938</td>\n",
       "    </tr>\n",
       "  </tbody>\n",
       "</table>\n",
       "</div>"
      ],
      "text/plain": [
       "        start_lat\n",
       "873102  39.889938\n",
       "873141  39.889938\n",
       "873210  39.889938\n",
       "873774  39.889938\n",
       "874181  39.889938\n",
       "874597  39.889938\n",
       "874811  39.889938\n",
       "875220  39.889938\n",
       "875451  39.889938\n",
       "875815  39.889938"
      ]
     },
     "execution_count": 217,
     "metadata": {},
     "output_type": "execute_result"
    }
   ],
   "source": [
    "df_other.nsmallest(10, 'start_lat')"
   ]
  },
  {
   "cell_type": "code",
   "execution_count": 220,
   "metadata": {},
   "outputs": [
    {
     "data": {
      "text/html": [
       "<div>\n",
       "<style scoped>\n",
       "    .dataframe tbody tr th:only-of-type {\n",
       "        vertical-align: middle;\n",
       "    }\n",
       "\n",
       "    .dataframe tbody tr th {\n",
       "        vertical-align: top;\n",
       "    }\n",
       "\n",
       "    .dataframe thead th {\n",
       "        text-align: right;\n",
       "    }\n",
       "</style>\n",
       "<table border=\"1\" class=\"dataframe\">\n",
       "  <thead>\n",
       "    <tr style=\"text-align: right;\">\n",
       "      <th></th>\n",
       "      <th>Unnamed: 0</th>\n",
       "      <th>Datetime</th>\n",
       "      <th>start_station_id</th>\n",
       "      <th>AVG_WND_SPEED</th>\n",
       "      <th>Bike Score</th>\n",
       "      <th>COUNT</th>\n",
       "      <th>FOG</th>\n",
       "      <th>HOLIDAY</th>\n",
       "      <th>Neighborhood</th>\n",
       "      <th>PRCP</th>\n",
       "      <th>...</th>\n",
       "      <th>TMAX</th>\n",
       "      <th>TMIN</th>\n",
       "      <th>Transit Score</th>\n",
       "      <th>WEEKDAY</th>\n",
       "      <th>Walk Score</th>\n",
       "      <th>hour_of_day</th>\n",
       "      <th>month</th>\n",
       "      <th>start_lat</th>\n",
       "      <th>start_lon</th>\n",
       "      <th>COUNT_BINS</th>\n",
       "    </tr>\n",
       "  </thead>\n",
       "  <tbody>\n",
       "    <tr>\n",
       "      <td>273161</td>\n",
       "      <td>273161</td>\n",
       "      <td>2016-04-25 02:00:00</td>\n",
       "      <td>3153.0</td>\n",
       "      <td>5.82</td>\n",
       "      <td>78.0</td>\n",
       "      <td>0.0</td>\n",
       "      <td>0.0</td>\n",
       "      <td>False</td>\n",
       "      <td>Kensington</td>\n",
       "      <td>0.00</td>\n",
       "      <td>...</td>\n",
       "      <td>77</td>\n",
       "      <td>48</td>\n",
       "      <td>72.0</td>\n",
       "      <td>1</td>\n",
       "      <td>94.0</td>\n",
       "      <td>2</td>\n",
       "      <td>4</td>\n",
       "      <td>39.97216</td>\n",
       "      <td>-75.129936</td>\n",
       "      <td>0-2</td>\n",
       "    </tr>\n",
       "    <tr>\n",
       "      <td>273211</td>\n",
       "      <td>273211</td>\n",
       "      <td>2016-04-25 05:00:00</td>\n",
       "      <td>3153.0</td>\n",
       "      <td>5.82</td>\n",
       "      <td>78.0</td>\n",
       "      <td>0.0</td>\n",
       "      <td>0.0</td>\n",
       "      <td>False</td>\n",
       "      <td>Kensington</td>\n",
       "      <td>0.00</td>\n",
       "      <td>...</td>\n",
       "      <td>77</td>\n",
       "      <td>48</td>\n",
       "      <td>72.0</td>\n",
       "      <td>1</td>\n",
       "      <td>94.0</td>\n",
       "      <td>5</td>\n",
       "      <td>4</td>\n",
       "      <td>39.97216</td>\n",
       "      <td>-75.129936</td>\n",
       "      <td>0-2</td>\n",
       "    </tr>\n",
       "    <tr>\n",
       "      <td>273840</td>\n",
       "      <td>273840</td>\n",
       "      <td>2016-04-25 17:00:00</td>\n",
       "      <td>3153.0</td>\n",
       "      <td>5.82</td>\n",
       "      <td>78.0</td>\n",
       "      <td>0.0</td>\n",
       "      <td>0.0</td>\n",
       "      <td>False</td>\n",
       "      <td>Kensington</td>\n",
       "      <td>0.00</td>\n",
       "      <td>...</td>\n",
       "      <td>77</td>\n",
       "      <td>48</td>\n",
       "      <td>72.0</td>\n",
       "      <td>1</td>\n",
       "      <td>94.0</td>\n",
       "      <td>17</td>\n",
       "      <td>4</td>\n",
       "      <td>39.97216</td>\n",
       "      <td>-75.129936</td>\n",
       "      <td>0-2</td>\n",
       "    </tr>\n",
       "    <tr>\n",
       "      <td>274277</td>\n",
       "      <td>274277</td>\n",
       "      <td>2016-04-26 06:00:00</td>\n",
       "      <td>3153.0</td>\n",
       "      <td>12.08</td>\n",
       "      <td>78.0</td>\n",
       "      <td>0.0</td>\n",
       "      <td>1.0</td>\n",
       "      <td>False</td>\n",
       "      <td>Kensington</td>\n",
       "      <td>0.19</td>\n",
       "      <td>...</td>\n",
       "      <td>86</td>\n",
       "      <td>51</td>\n",
       "      <td>72.0</td>\n",
       "      <td>1</td>\n",
       "      <td>94.0</td>\n",
       "      <td>6</td>\n",
       "      <td>4</td>\n",
       "      <td>39.97216</td>\n",
       "      <td>-75.129936</td>\n",
       "      <td>0-2</td>\n",
       "    </tr>\n",
       "    <tr>\n",
       "      <td>274452</td>\n",
       "      <td>274452</td>\n",
       "      <td>2016-04-26 09:00:00</td>\n",
       "      <td>3153.0</td>\n",
       "      <td>12.08</td>\n",
       "      <td>78.0</td>\n",
       "      <td>0.0</td>\n",
       "      <td>1.0</td>\n",
       "      <td>False</td>\n",
       "      <td>Kensington</td>\n",
       "      <td>0.19</td>\n",
       "      <td>...</td>\n",
       "      <td>86</td>\n",
       "      <td>51</td>\n",
       "      <td>72.0</td>\n",
       "      <td>1</td>\n",
       "      <td>94.0</td>\n",
       "      <td>9</td>\n",
       "      <td>4</td>\n",
       "      <td>39.97216</td>\n",
       "      <td>-75.129936</td>\n",
       "      <td>0-2</td>\n",
       "    </tr>\n",
       "    <tr>\n",
       "      <td>274701</td>\n",
       "      <td>274701</td>\n",
       "      <td>2016-04-26 14:00:00</td>\n",
       "      <td>3153.0</td>\n",
       "      <td>12.08</td>\n",
       "      <td>78.0</td>\n",
       "      <td>0.0</td>\n",
       "      <td>1.0</td>\n",
       "      <td>False</td>\n",
       "      <td>Kensington</td>\n",
       "      <td>0.19</td>\n",
       "      <td>...</td>\n",
       "      <td>86</td>\n",
       "      <td>51</td>\n",
       "      <td>72.0</td>\n",
       "      <td>1</td>\n",
       "      <td>94.0</td>\n",
       "      <td>14</td>\n",
       "      <td>4</td>\n",
       "      <td>39.97216</td>\n",
       "      <td>-75.129936</td>\n",
       "      <td>0-2</td>\n",
       "    </tr>\n",
       "    <tr>\n",
       "      <td>275046</td>\n",
       "      <td>275046</td>\n",
       "      <td>2016-04-26 21:00:00</td>\n",
       "      <td>3153.0</td>\n",
       "      <td>12.08</td>\n",
       "      <td>78.0</td>\n",
       "      <td>0.0</td>\n",
       "      <td>1.0</td>\n",
       "      <td>False</td>\n",
       "      <td>Kensington</td>\n",
       "      <td>0.19</td>\n",
       "      <td>...</td>\n",
       "      <td>86</td>\n",
       "      <td>51</td>\n",
       "      <td>72.0</td>\n",
       "      <td>1</td>\n",
       "      <td>94.0</td>\n",
       "      <td>21</td>\n",
       "      <td>4</td>\n",
       "      <td>39.97216</td>\n",
       "      <td>-75.129936</td>\n",
       "      <td>0-2</td>\n",
       "    </tr>\n",
       "    <tr>\n",
       "      <td>275111</td>\n",
       "      <td>275111</td>\n",
       "      <td>2016-04-26 23:00:00</td>\n",
       "      <td>3153.0</td>\n",
       "      <td>12.08</td>\n",
       "      <td>78.0</td>\n",
       "      <td>0.0</td>\n",
       "      <td>1.0</td>\n",
       "      <td>False</td>\n",
       "      <td>Kensington</td>\n",
       "      <td>0.19</td>\n",
       "      <td>...</td>\n",
       "      <td>86</td>\n",
       "      <td>51</td>\n",
       "      <td>72.0</td>\n",
       "      <td>1</td>\n",
       "      <td>94.0</td>\n",
       "      <td>23</td>\n",
       "      <td>4</td>\n",
       "      <td>39.97216</td>\n",
       "      <td>-75.129936</td>\n",
       "      <td>0-2</td>\n",
       "    </tr>\n",
       "    <tr>\n",
       "      <td>275809</td>\n",
       "      <td>275809</td>\n",
       "      <td>2016-04-27 17:00:00</td>\n",
       "      <td>3153.0</td>\n",
       "      <td>6.93</td>\n",
       "      <td>78.0</td>\n",
       "      <td>0.0</td>\n",
       "      <td>1.0</td>\n",
       "      <td>False</td>\n",
       "      <td>Kensington</td>\n",
       "      <td>0.00</td>\n",
       "      <td>...</td>\n",
       "      <td>55</td>\n",
       "      <td>50</td>\n",
       "      <td>72.0</td>\n",
       "      <td>1</td>\n",
       "      <td>94.0</td>\n",
       "      <td>17</td>\n",
       "      <td>4</td>\n",
       "      <td>39.97216</td>\n",
       "      <td>-75.129936</td>\n",
       "      <td>0-2</td>\n",
       "    </tr>\n",
       "    <tr>\n",
       "      <td>275969</td>\n",
       "      <td>275969</td>\n",
       "      <td>2016-04-27 20:00:00</td>\n",
       "      <td>3153.0</td>\n",
       "      <td>6.93</td>\n",
       "      <td>78.0</td>\n",
       "      <td>0.0</td>\n",
       "      <td>1.0</td>\n",
       "      <td>False</td>\n",
       "      <td>Kensington</td>\n",
       "      <td>0.00</td>\n",
       "      <td>...</td>\n",
       "      <td>55</td>\n",
       "      <td>50</td>\n",
       "      <td>72.0</td>\n",
       "      <td>1</td>\n",
       "      <td>94.0</td>\n",
       "      <td>20</td>\n",
       "      <td>4</td>\n",
       "      <td>39.97216</td>\n",
       "      <td>-75.129936</td>\n",
       "      <td>0-2</td>\n",
       "    </tr>\n",
       "  </tbody>\n",
       "</table>\n",
       "<p>10 rows × 26 columns</p>\n",
       "</div>"
      ],
      "text/plain": [
       "        Unnamed: 0             Datetime  start_station_id  AVG_WND_SPEED  \\\n",
       "273161      273161  2016-04-25 02:00:00            3153.0           5.82   \n",
       "273211      273211  2016-04-25 05:00:00            3153.0           5.82   \n",
       "273840      273840  2016-04-25 17:00:00            3153.0           5.82   \n",
       "274277      274277  2016-04-26 06:00:00            3153.0          12.08   \n",
       "274452      274452  2016-04-26 09:00:00            3153.0          12.08   \n",
       "274701      274701  2016-04-26 14:00:00            3153.0          12.08   \n",
       "275046      275046  2016-04-26 21:00:00            3153.0          12.08   \n",
       "275111      275111  2016-04-26 23:00:00            3153.0          12.08   \n",
       "275809      275809  2016-04-27 17:00:00            3153.0           6.93   \n",
       "275969      275969  2016-04-27 20:00:00            3153.0           6.93   \n",
       "\n",
       "        Bike Score  COUNT  FOG  HOLIDAY Neighborhood  PRCP  ...  TMAX  TMIN  \\\n",
       "273161        78.0    0.0  0.0    False   Kensington  0.00  ...    77    48   \n",
       "273211        78.0    0.0  0.0    False   Kensington  0.00  ...    77    48   \n",
       "273840        78.0    0.0  0.0    False   Kensington  0.00  ...    77    48   \n",
       "274277        78.0    0.0  1.0    False   Kensington  0.19  ...    86    51   \n",
       "274452        78.0    0.0  1.0    False   Kensington  0.19  ...    86    51   \n",
       "274701        78.0    0.0  1.0    False   Kensington  0.19  ...    86    51   \n",
       "275046        78.0    0.0  1.0    False   Kensington  0.19  ...    86    51   \n",
       "275111        78.0    0.0  1.0    False   Kensington  0.19  ...    86    51   \n",
       "275809        78.0    0.0  1.0    False   Kensington  0.00  ...    55    50   \n",
       "275969        78.0    0.0  1.0    False   Kensington  0.00  ...    55    50   \n",
       "\n",
       "        Transit Score  WEEKDAY  Walk Score  hour_of_day  month  start_lat  \\\n",
       "273161           72.0        1        94.0            2      4   39.97216   \n",
       "273211           72.0        1        94.0            5      4   39.97216   \n",
       "273840           72.0        1        94.0           17      4   39.97216   \n",
       "274277           72.0        1        94.0            6      4   39.97216   \n",
       "274452           72.0        1        94.0            9      4   39.97216   \n",
       "274701           72.0        1        94.0           14      4   39.97216   \n",
       "275046           72.0        1        94.0           21      4   39.97216   \n",
       "275111           72.0        1        94.0           23      4   39.97216   \n",
       "275809           72.0        1        94.0           17      4   39.97216   \n",
       "275969           72.0        1        94.0           20      4   39.97216   \n",
       "\n",
       "        start_lon  COUNT_BINS  \n",
       "273161 -75.129936         0-2  \n",
       "273211 -75.129936         0-2  \n",
       "273840 -75.129936         0-2  \n",
       "274277 -75.129936         0-2  \n",
       "274452 -75.129936         0-2  \n",
       "274701 -75.129936         0-2  \n",
       "275046 -75.129936         0-2  \n",
       "275111 -75.129936         0-2  \n",
       "275809 -75.129936         0-2  \n",
       "275969 -75.129936         0-2  \n",
       "\n",
       "[10 rows x 26 columns]"
      ]
     },
     "execution_count": 220,
     "metadata": {},
     "output_type": "execute_result"
    }
   ],
   "source": [
    "result.nlargest(10, 'start_lon')"
   ]
  },
  {
   "cell_type": "code",
   "execution_count": 224,
   "metadata": {},
   "outputs": [],
   "source": [
    "#result['start_lat'] = result['start_lat'].abs() \n",
    "df['start_lat'] = df['start_lat'].abs()"
   ]
  },
  {
   "cell_type": "code",
   "execution_count": 225,
   "metadata": {},
   "outputs": [
    {
     "name": "stdout",
     "output_type": "stream",
     "text": [
      "              precision    recall  f1-score   support\n",
      "\n",
      "         0-2       0.92      0.57      0.70    413838\n",
      "         10+       0.09      0.68      0.16      4707\n",
      "         3-9       0.30      0.66      0.42    109009\n",
      "\n",
      "    accuracy                           0.59    527554\n",
      "   macro avg       0.44      0.63      0.42    527554\n",
      "weighted avg       0.79      0.59      0.64    527554\n",
      "\n"
     ]
    }
   ],
   "source": [
    "X = df[['start_lat', 'start_lon', 'hour_of_day', 'AVG_WND_SPEED', 'PRCP','TAVG', 'TMAX', 'TMIN', 'month', 'WEEKDAY', 'Walk Score', 'Transit Score', 'Bike Score']]\n",
    "normalized_X = preprocessing.normalize(X)\n",
    "y = df['COUNT_BINS'].astype(str)\n",
    "X_train, X_test, y_train, y_test = train_test_split(normalized_X, y, test_size = 0.3)\n",
    "decisionTree = tree.DecisionTreeClassifier(max_depth=12, criterion='gini', class_weight={'0-2': .19, '3-9': 1, '10+':14})\n",
    "dt_weighted5 = decisionTree.fit(X_train, y_train)\n",
    "dt_weighted5.score(X_test, y_test)\n",
    "\n",
    "y_pred = dt_weighted5.predict(X_test)\n",
    "print(classification_report(y_test, y_pred,))"
   ]
  },
  {
   "cell_type": "code",
   "execution_count": 226,
   "metadata": {},
   "outputs": [
    {
     "name": "stdout",
     "output_type": "stream",
     "text": [
      "              precision    recall  f1-score   support\n",
      "\n",
      "         0-2       0.93      0.55      0.69    414079\n",
      "         10+       0.08      0.69      0.14      4672\n",
      "         3-9       0.30      0.65      0.41    108803\n",
      "\n",
      "    accuracy                           0.57    527554\n",
      "   macro avg       0.43      0.63      0.41    527554\n",
      "weighted avg       0.79      0.57      0.63    527554\n",
      "\n"
     ]
    }
   ],
   "source": [
    "X = df[['start_lat', 'start_lon', 'hour_of_day', 'AVG_WND_SPEED','TAVG', 'TMAX', 'TMIN', 'month', 'WEEKDAY', 'Walk Score', 'Transit Score', 'Bike Score']]\n",
    "normalized_X = preprocessing.normalize(X)\n",
    "y = df['COUNT_BINS'].astype(str)\n",
    "X_train, X_test, y_train, y_test = train_test_split(normalized_X, y, test_size = 0.3)\n",
    "decisionTree = tree.DecisionTreeClassifier(max_depth=12, criterion='gini', class_weight={'0-2': .19, '3-9': 1, '10+':14})\n",
    "dt_weighted5 = decisionTree.fit(X_train, y_train)\n",
    "dt_weighted5.score(X_test, y_test)\n",
    "\n",
    "y_pred = dt_weighted5.predict(X_test)\n",
    "print(classification_report(y_test, y_pred,))"
   ]
  },
  {
   "cell_type": "code",
   "execution_count": 227,
   "metadata": {},
   "outputs": [],
   "source": [
    "# Create x, where x the 'scores' column's values as floats\n",
    "x = df[['start_lat']].values.astype(float)\n",
    "\n",
    "# Create a minimum and maximum processor object\n",
    "min_max_scaler = preprocessing.MinMaxScaler()\n",
    "\n",
    "# Create an object to transform the data to fit minmax processor\n",
    "x_scaled = min_max_scaler.fit_transform(x)\n",
    "\n",
    "# Run the normalizer on the dataframe\n",
    "df_normalized = pd.DataFrame(x_scaled)"
   ]
  },
  {
   "cell_type": "code",
   "execution_count": 230,
   "metadata": {},
   "outputs": [],
   "source": [
    "df_normalized = df_normalized.rename(columns={0: \"start_lat\"})"
   ]
  },
  {
   "cell_type": "code",
   "execution_count": 232,
   "metadata": {},
   "outputs": [],
   "source": [
    "x = df[['start_lon']].values.astype(float)\n",
    "min_max_scaler = preprocessing.MinMaxScaler()\n",
    "x_scaled = min_max_scaler.fit_transform(x)\n",
    "df_normalized['start_lon'] = pd.DataFrame(x_scaled)"
   ]
  },
  {
   "cell_type": "code",
   "execution_count": 242,
   "metadata": {},
   "outputs": [],
   "source": [
    "x = df[['Walk Score']].values.astype(float)\n",
    "min_max_scaler = preprocessing.MinMaxScaler()\n",
    "x_scaled = min_max_scaler.fit_transform(x)\n",
    "df_normalized['Walk Score'] = pd.DataFrame(x_scaled)"
   ]
  },
  {
   "cell_type": "code",
   "execution_count": 243,
   "metadata": {},
   "outputs": [],
   "source": [
    "x = df[['Bike Score']].values.astype(float)\n",
    "min_max_scaler = preprocessing.MinMaxScaler()\n",
    "x_scaled = min_max_scaler.fit_transform(x)\n",
    "df_normalized['Bike Score'] = pd.DataFrame(x_scaled)"
   ]
  },
  {
   "cell_type": "code",
   "execution_count": 244,
   "metadata": {},
   "outputs": [],
   "source": [
    "x = df[['Transit Score']].values.astype(float)\n",
    "min_max_scaler = preprocessing.MinMaxScaler()\n",
    "x_scaled = min_max_scaler.fit_transform(x)\n",
    "df_normalized['Transit Score'] = pd.DataFrame(x_scaled)"
   ]
  },
  {
   "cell_type": "code",
   "execution_count": 249,
   "metadata": {},
   "outputs": [],
   "source": [
    "x = df[['AVG_WND_SPEED']].values.astype(float)\n",
    "min_max_scaler = preprocessing.MinMaxScaler()\n",
    "x_scaled = min_max_scaler.fit_transform(x)\n",
    "df_normalized['AVG_WND_SPEED'] = pd.DataFrame(x_scaled)\n",
    "\n",
    "x = df[['TAVG']].values.astype(float)\n",
    "min_max_scaler = preprocessing.MinMaxScaler()\n",
    "x_scaled = min_max_scaler.fit_transform(x)\n",
    "df_normalized['TAVG'] = pd.DataFrame(x_scaled)\n",
    "\n",
    "x = df[['TMIN']].values.astype(float)\n",
    "min_max_scaler = preprocessing.MinMaxScaler()\n",
    "x_scaled = min_max_scaler.fit_transform(x)\n",
    "df_normalized['TMIN'] = pd.DataFrame(x_scaled)\n",
    "\n",
    "x = df[['TMAX']].values.astype(float)\n",
    "min_max_scaler = preprocessing.MinMaxScaler()\n",
    "x_scaled = min_max_scaler.fit_transform(x)\n",
    "df_normalized['TMAX'] = pd.DataFrame(x_scaled)"
   ]
  },
  {
   "cell_type": "code",
   "execution_count": 293,
   "metadata": {},
   "outputs": [],
   "source": [
    "df_normalized['hour_of_day'] = df['hour_of_day']\n",
    "df_normalized['month'] = df['month']\n",
    "df_normalized['WEEKDAY'] = df['WEEKDAY']\n",
    "df_normalized['Neighborhood'] = df['Neighborhood']"
   ]
  },
  {
   "cell_type": "code",
   "execution_count": 253,
   "metadata": {},
   "outputs": [],
   "source": [
    "df_normalized['COUNT_BINS'] = df['COUNT_BINS']"
   ]
  },
  {
   "cell_type": "code",
   "execution_count": 255,
   "metadata": {},
   "outputs": [
    {
     "data": {
      "text/plain": [
       "0-2    1379696\n",
       "3-9     363317\n",
       "10+      15498\n",
       "Name: COUNT_BINS, dtype: int64"
      ]
     },
     "execution_count": 255,
     "metadata": {},
     "output_type": "execute_result"
    }
   ],
   "source": [
    "df_normalized.COUNT_BINS.value_counts()"
   ]
  },
  {
   "cell_type": "code",
   "execution_count": 248,
   "metadata": {},
   "outputs": [
    {
     "data": {
      "text/plain": [
       "count    1.758511e+06\n",
       "mean     8.751090e+00\n",
       "std      3.429398e+00\n",
       "min      1.120000e+00\n",
       "25%      6.490000e+00\n",
       "50%      8.280000e+00\n",
       "75%      1.051000e+01\n",
       "max      2.662000e+01\n",
       "Name: AVG_WND_SPEED, dtype: float64"
      ]
     },
     "execution_count": 248,
     "metadata": {},
     "output_type": "execute_result"
    }
   ],
   "source": [
    "df.AVG_WND_SPEED.describe()"
   ]
  },
  {
   "cell_type": "code",
   "execution_count": 260,
   "metadata": {},
   "outputs": [
    {
     "name": "stdout",
     "output_type": "stream",
     "text": [
      "              precision    recall  f1-score   support\n",
      "\n",
      "         0-2       0.93      0.61      0.74    414077\n",
      "         10+       0.15      0.75      0.25      4693\n",
      "         3-9       0.33      0.70      0.45    108784\n",
      "\n",
      "    accuracy                           0.63    527554\n",
      "   macro avg       0.47      0.69      0.48    527554\n",
      "weighted avg       0.80      0.63      0.67    527554\n",
      "\n"
     ]
    }
   ],
   "source": [
    "#this one\n",
    "X = df_normalized[['start_lat', 'start_lon', 'hour_of_day', 'AVG_WND_SPEED','TAVG', 'TMAX', 'TMIN', 'month', 'WEEKDAY', 'Walk Score', 'Transit Score', 'Bike Score']]\n",
    "#normalized_X = preprocessing.normalize(X)\n",
    "y = df_normalized['COUNT_BINS'].astype(str)\n",
    "X_train, X_test, y_train, y_test = train_test_split(X, y, test_size = 0.3)\n",
    "decisionTree = tree.DecisionTreeClassifier(max_depth=12, criterion='gini', class_weight={'0-2': .19, '3-9': 1, '10+':14})\n",
    "dt_weighted5 = decisionTree.fit(X_train, y_train)\n",
    "dt_weighted5.score(X_test, y_test)\n",
    "\n",
    "y_pred = dt_weighted5.predict(X_test)\n",
    "print(classification_report(y_test, y_pred,))"
   ]
  },
  {
   "cell_type": "code",
   "execution_count": 267,
   "metadata": {},
   "outputs": [
    {
     "name": "stdout",
     "output_type": "stream",
     "text": [
      "292504\n"
     ]
    },
    {
     "data": {
      "text/plain": [
       "array([ 184047,  184048,  184049, ..., 1458862, 1458863, 1458864])"
      ]
     },
     "execution_count": 267,
     "metadata": {},
     "output_type": "execute_result"
    }
   ],
   "source": [
    "import numpy as np\n",
    "#df_normalized['isWinter'] = df_normalized.loc[(df_normalized['month'] == 12) | (df_normalized['month'] == 1) | (df_normalized['month'] == 2)]\n",
    "arr = np.where([(df_normalized['month'] == 12) | (df_normalized['month'] == 1) | (df_normalized['month'] == 2)])\n",
    "print(len(arr[1]))\n",
    "arr[1]"
   ]
  },
  {
   "cell_type": "code",
   "execution_count": 278,
   "metadata": {},
   "outputs": [],
   "source": [
    "arr = ((df_normalized['month'] == 12) | (df_normalized['month'] == 1) | (df_normalized['month'] == 2))\n",
    "df_normalized['isWinter'] = ((df_normalized['month'] == 12) | (df_normalized['month'] == 1) | (df_normalized['month'] == 2))"
   ]
  },
  {
   "cell_type": "code",
   "execution_count": 281,
   "metadata": {},
   "outputs": [],
   "source": [
    "df_normalized['isSpring'] = ((df_normalized['month'] == 3) | (df_normalized['month'] == 4) | (df_normalized['month'] == 5))\n",
    "df_normalized['isSummer'] = ((df_normalized['month'] == 6) | (df_normalized['month'] == 7) | (df_normalized['month'] == 8))\n",
    "df_normalized['isFall'] = ((df_normalized['month'] == 9) | (df_normalized['month'] == 10) | (df_normalized['month'] == 11))\n"
   ]
  },
  {
   "cell_type": "code",
   "execution_count": 282,
   "metadata": {},
   "outputs": [
    {
     "name": "stdout",
     "output_type": "stream",
     "text": [
      "              precision    recall  f1-score   support\n",
      "\n",
      "         0-2       0.93      0.60      0.73    414186\n",
      "         10+       0.15      0.74      0.25      4728\n",
      "         3-9       0.33      0.71      0.45    108640\n",
      "\n",
      "    accuracy                           0.63    527554\n",
      "   macro avg       0.47      0.69      0.48    527554\n",
      "weighted avg       0.80      0.63      0.67    527554\n",
      "\n"
     ]
    }
   ],
   "source": [
    "#this one!\n",
    "X = df_normalized[['start_lat', 'start_lon', 'hour_of_day', 'AVG_WND_SPEED','TAVG', 'TMAX', 'TMIN', 'month', 'WEEKDAY', 'Walk Score', 'Transit Score', 'Bike Score', 'isWinter', 'isSpring', 'isSummer', 'isFall']]\n",
    "#normalized_X = preprocessing.normalize(X)\n",
    "y = df_normalized['COUNT_BINS'].astype(str)\n",
    "X_train, X_test, y_train, y_test = train_test_split(X, y, test_size = 0.3)\n",
    "decisionTree = tree.DecisionTreeClassifier(max_depth=12, criterion='gini', class_weight={'0-2': .19, '3-9': 1, '10+':14})\n",
    "dt_weighted5 = decisionTree.fit(X_train, y_train)\n",
    "dt_weighted5.score(X_test, y_test)\n",
    "\n",
    "y_pred = dt_weighted5.predict(X_test)\n",
    "print(classification_report(y_test, y_pred,))"
   ]
  },
  {
   "cell_type": "code",
   "execution_count": 285,
   "metadata": {},
   "outputs": [
    {
     "name": "stdout",
     "output_type": "stream",
     "text": [
      "[0.05177618 0.0494711  0.40011927 0.09839357 0.08562575 0.09184299\n",
      " 0.08906145 0.02593541 0.01270658 0.02690772 0.02892325 0.02806082\n",
      " 0.00512943 0.0012499  0.00245954 0.00233706]\n"
     ]
    }
   ],
   "source": [
    "X = df_normalized[['start_lat', 'start_lon', 'hour_of_day', 'AVG_WND_SPEED','TAVG', 'TMAX', 'TMIN', 'month', 'WEEKDAY', 'Walk Score', 'Transit Score', 'Bike Score', 'isWinter', 'isSpring', 'isSummer', 'isFall']]\n",
    "model = ExtraTreesClassifier(n_estimators=10)\n",
    "model.fit(X, y)\n",
    "print(model.feature_importances_)"
   ]
  },
  {
   "cell_type": "code",
   "execution_count": 290,
   "metadata": {},
   "outputs": [],
   "source": [
    "#x = df[['month']].values.astype(float)\n",
    "#min_max_scaler = preprocessing.MinMaxScaler()\n",
    "#x_scaled = min_max_scaler.fit_transform(x)\n",
    "#df_normalized['month'] = pd.DataFrame(x_scaled)"
   ]
  },
  {
   "cell_type": "code",
   "execution_count": 291,
   "metadata": {},
   "outputs": [
    {
     "data": {
      "text/html": [
       "<div>\n",
       "<style scoped>\n",
       "    .dataframe tbody tr th:only-of-type {\n",
       "        vertical-align: middle;\n",
       "    }\n",
       "\n",
       "    .dataframe tbody tr th {\n",
       "        vertical-align: top;\n",
       "    }\n",
       "\n",
       "    .dataframe thead th {\n",
       "        text-align: right;\n",
       "    }\n",
       "</style>\n",
       "<table border=\"1\" class=\"dataframe\">\n",
       "  <thead>\n",
       "    <tr style=\"text-align: right;\">\n",
       "      <th></th>\n",
       "      <th>start_lat</th>\n",
       "      <th>start_lon</th>\n",
       "      <th>hour_of_day</th>\n",
       "      <th>month</th>\n",
       "      <th>Walk Score</th>\n",
       "      <th>Bike Score</th>\n",
       "      <th>Transit Score</th>\n",
       "      <th>WEEKDAY</th>\n",
       "      <th>AVG_WND_SPEED</th>\n",
       "      <th>TAVG</th>\n",
       "      <th>TMIN</th>\n",
       "      <th>TMAX</th>\n",
       "      <th>COUNT_BINS</th>\n",
       "      <th>Neighborhood</th>\n",
       "      <th>isWinter</th>\n",
       "      <th>isSpring</th>\n",
       "      <th>isSummer</th>\n",
       "      <th>isFall</th>\n",
       "    </tr>\n",
       "  </thead>\n",
       "  <tbody>\n",
       "    <tr>\n",
       "      <td>0</td>\n",
       "      <td>0.626805</td>\n",
       "      <td>0.640593</td>\n",
       "      <td>7</td>\n",
       "      <td>0.272727</td>\n",
       "      <td>0.987013</td>\n",
       "      <td>0.676471</td>\n",
       "      <td>1.000000</td>\n",
       "      <td>1</td>\n",
       "      <td>0.552549</td>\n",
       "      <td>0.468354</td>\n",
       "      <td>0.50000</td>\n",
       "      <td>0.439024</td>\n",
       "      <td>0-2</td>\n",
       "      <td>Logan Square</td>\n",
       "      <td>False</td>\n",
       "      <td>True</td>\n",
       "      <td>False</td>\n",
       "      <td>False</td>\n",
       "    </tr>\n",
       "    <tr>\n",
       "      <td>1</td>\n",
       "      <td>0.616496</td>\n",
       "      <td>0.682590</td>\n",
       "      <td>7</td>\n",
       "      <td>0.272727</td>\n",
       "      <td>1.000000</td>\n",
       "      <td>0.691176</td>\n",
       "      <td>1.000000</td>\n",
       "      <td>1</td>\n",
       "      <td>0.552549</td>\n",
       "      <td>0.468354</td>\n",
       "      <td>0.50000</td>\n",
       "      <td>0.439024</td>\n",
       "      <td>0-2</td>\n",
       "      <td>Center City East</td>\n",
       "      <td>False</td>\n",
       "      <td>True</td>\n",
       "      <td>False</td>\n",
       "      <td>False</td>\n",
       "    </tr>\n",
       "    <tr>\n",
       "      <td>2</td>\n",
       "      <td>0.884726</td>\n",
       "      <td>0.731179</td>\n",
       "      <td>7</td>\n",
       "      <td>0.272727</td>\n",
       "      <td>0.779221</td>\n",
       "      <td>0.632353</td>\n",
       "      <td>0.819672</td>\n",
       "      <td>1</td>\n",
       "      <td>0.552549</td>\n",
       "      <td>0.468354</td>\n",
       "      <td>0.50000</td>\n",
       "      <td>0.439024</td>\n",
       "      <td>0-2</td>\n",
       "      <td>Avenue of the Arts North</td>\n",
       "      <td>False</td>\n",
       "      <td>True</td>\n",
       "      <td>False</td>\n",
       "      <td>False</td>\n",
       "    </tr>\n",
       "    <tr>\n",
       "      <td>3</td>\n",
       "      <td>0.797934</td>\n",
       "      <td>0.683547</td>\n",
       "      <td>7</td>\n",
       "      <td>0.272727</td>\n",
       "      <td>0.857143</td>\n",
       "      <td>0.691176</td>\n",
       "      <td>0.704918</td>\n",
       "      <td>1</td>\n",
       "      <td>0.552549</td>\n",
       "      <td>0.468354</td>\n",
       "      <td>0.50000</td>\n",
       "      <td>0.439024</td>\n",
       "      <td>0-2</td>\n",
       "      <td>Avenue of the Arts North</td>\n",
       "      <td>False</td>\n",
       "      <td>True</td>\n",
       "      <td>False</td>\n",
       "      <td>False</td>\n",
       "    </tr>\n",
       "    <tr>\n",
       "      <td>4</td>\n",
       "      <td>0.569271</td>\n",
       "      <td>0.655159</td>\n",
       "      <td>7</td>\n",
       "      <td>0.272727</td>\n",
       "      <td>1.000000</td>\n",
       "      <td>0.867647</td>\n",
       "      <td>1.000000</td>\n",
       "      <td>1</td>\n",
       "      <td>0.552549</td>\n",
       "      <td>0.468354</td>\n",
       "      <td>0.50000</td>\n",
       "      <td>0.439024</td>\n",
       "      <td>0-2</td>\n",
       "      <td>Washington Square West</td>\n",
       "      <td>False</td>\n",
       "      <td>True</td>\n",
       "      <td>False</td>\n",
       "      <td>False</td>\n",
       "    </tr>\n",
       "    <tr>\n",
       "      <td>...</td>\n",
       "      <td>...</td>\n",
       "      <td>...</td>\n",
       "      <td>...</td>\n",
       "      <td>...</td>\n",
       "      <td>...</td>\n",
       "      <td>...</td>\n",
       "      <td>...</td>\n",
       "      <td>...</td>\n",
       "      <td>...</td>\n",
       "      <td>...</td>\n",
       "      <td>...</td>\n",
       "      <td>...</td>\n",
       "      <td>...</td>\n",
       "      <td>...</td>\n",
       "      <td>...</td>\n",
       "      <td>...</td>\n",
       "      <td>...</td>\n",
       "      <td>...</td>\n",
       "    </tr>\n",
       "    <tr>\n",
       "      <td>1758506</td>\n",
       "      <td>0.602849</td>\n",
       "      <td>0.532114</td>\n",
       "      <td>23</td>\n",
       "      <td>0.727273</td>\n",
       "      <td>1.000000</td>\n",
       "      <td>0.985294</td>\n",
       "      <td>1.000000</td>\n",
       "      <td>1</td>\n",
       "      <td>0.254510</td>\n",
       "      <td>0.734177</td>\n",
       "      <td>0.74359</td>\n",
       "      <td>0.719512</td>\n",
       "      <td>0-2</td>\n",
       "      <td>Center City West</td>\n",
       "      <td>False</td>\n",
       "      <td>False</td>\n",
       "      <td>False</td>\n",
       "      <td>True</td>\n",
       "    </tr>\n",
       "    <tr>\n",
       "      <td>1758507</td>\n",
       "      <td>0.579099</td>\n",
       "      <td>0.575025</td>\n",
       "      <td>23</td>\n",
       "      <td>0.727273</td>\n",
       "      <td>1.000000</td>\n",
       "      <td>0.794118</td>\n",
       "      <td>1.000000</td>\n",
       "      <td>1</td>\n",
       "      <td>0.254510</td>\n",
       "      <td>0.734177</td>\n",
       "      <td>0.74359</td>\n",
       "      <td>0.719512</td>\n",
       "      <td>0-2</td>\n",
       "      <td>Rittenhouse Square</td>\n",
       "      <td>False</td>\n",
       "      <td>False</td>\n",
       "      <td>False</td>\n",
       "      <td>True</td>\n",
       "    </tr>\n",
       "    <tr>\n",
       "      <td>1758508</td>\n",
       "      <td>0.708197</td>\n",
       "      <td>0.881165</td>\n",
       "      <td>23</td>\n",
       "      <td>0.727273</td>\n",
       "      <td>0.948052</td>\n",
       "      <td>0.970588</td>\n",
       "      <td>0.721311</td>\n",
       "      <td>1</td>\n",
       "      <td>0.254510</td>\n",
       "      <td>0.734177</td>\n",
       "      <td>0.74359</td>\n",
       "      <td>0.719512</td>\n",
       "      <td>0-2</td>\n",
       "      <td>Northern Liberties – Fishtown</td>\n",
       "      <td>False</td>\n",
       "      <td>False</td>\n",
       "      <td>False</td>\n",
       "      <td>True</td>\n",
       "    </tr>\n",
       "    <tr>\n",
       "      <td>1758509</td>\n",
       "      <td>0.843294</td>\n",
       "      <td>0.590442</td>\n",
       "      <td>23</td>\n",
       "      <td>0.727273</td>\n",
       "      <td>0.831169</td>\n",
       "      <td>0.617647</td>\n",
       "      <td>0.639344</td>\n",
       "      <td>1</td>\n",
       "      <td>0.254510</td>\n",
       "      <td>0.734177</td>\n",
       "      <td>0.74359</td>\n",
       "      <td>0.719512</td>\n",
       "      <td>0-2</td>\n",
       "      <td>North Philadelphia West</td>\n",
       "      <td>False</td>\n",
       "      <td>False</td>\n",
       "      <td>False</td>\n",
       "      <td>True</td>\n",
       "    </tr>\n",
       "    <tr>\n",
       "      <td>1758510</td>\n",
       "      <td>0.579885</td>\n",
       "      <td>0.119154</td>\n",
       "      <td>23</td>\n",
       "      <td>0.727273</td>\n",
       "      <td>0.922078</td>\n",
       "      <td>1.000000</td>\n",
       "      <td>0.754098</td>\n",
       "      <td>1</td>\n",
       "      <td>0.254510</td>\n",
       "      <td>0.734177</td>\n",
       "      <td>0.74359</td>\n",
       "      <td>0.719512</td>\n",
       "      <td>0-2</td>\n",
       "      <td>Spruce Hill</td>\n",
       "      <td>False</td>\n",
       "      <td>False</td>\n",
       "      <td>False</td>\n",
       "      <td>True</td>\n",
       "    </tr>\n",
       "  </tbody>\n",
       "</table>\n",
       "<p>1758511 rows × 18 columns</p>\n",
       "</div>"
      ],
      "text/plain": [
       "         start_lat  start_lon  hour_of_day     month  Walk Score  Bike Score  \\\n",
       "0         0.626805   0.640593            7  0.272727    0.987013    0.676471   \n",
       "1         0.616496   0.682590            7  0.272727    1.000000    0.691176   \n",
       "2         0.884726   0.731179            7  0.272727    0.779221    0.632353   \n",
       "3         0.797934   0.683547            7  0.272727    0.857143    0.691176   \n",
       "4         0.569271   0.655159            7  0.272727    1.000000    0.867647   \n",
       "...            ...        ...          ...       ...         ...         ...   \n",
       "1758506   0.602849   0.532114           23  0.727273    1.000000    0.985294   \n",
       "1758507   0.579099   0.575025           23  0.727273    1.000000    0.794118   \n",
       "1758508   0.708197   0.881165           23  0.727273    0.948052    0.970588   \n",
       "1758509   0.843294   0.590442           23  0.727273    0.831169    0.617647   \n",
       "1758510   0.579885   0.119154           23  0.727273    0.922078    1.000000   \n",
       "\n",
       "         Transit Score  WEEKDAY  AVG_WND_SPEED      TAVG     TMIN      TMAX  \\\n",
       "0             1.000000        1       0.552549  0.468354  0.50000  0.439024   \n",
       "1             1.000000        1       0.552549  0.468354  0.50000  0.439024   \n",
       "2             0.819672        1       0.552549  0.468354  0.50000  0.439024   \n",
       "3             0.704918        1       0.552549  0.468354  0.50000  0.439024   \n",
       "4             1.000000        1       0.552549  0.468354  0.50000  0.439024   \n",
       "...                ...      ...            ...       ...      ...       ...   \n",
       "1758506       1.000000        1       0.254510  0.734177  0.74359  0.719512   \n",
       "1758507       1.000000        1       0.254510  0.734177  0.74359  0.719512   \n",
       "1758508       0.721311        1       0.254510  0.734177  0.74359  0.719512   \n",
       "1758509       0.639344        1       0.254510  0.734177  0.74359  0.719512   \n",
       "1758510       0.754098        1       0.254510  0.734177  0.74359  0.719512   \n",
       "\n",
       "        COUNT_BINS                   Neighborhood  isWinter  isSpring  \\\n",
       "0              0-2                   Logan Square     False      True   \n",
       "1              0-2               Center City East     False      True   \n",
       "2              0-2       Avenue of the Arts North     False      True   \n",
       "3              0-2       Avenue of the Arts North     False      True   \n",
       "4              0-2         Washington Square West     False      True   \n",
       "...            ...                            ...       ...       ...   \n",
       "1758506        0-2               Center City West     False     False   \n",
       "1758507        0-2             Rittenhouse Square     False     False   \n",
       "1758508        0-2  Northern Liberties – Fishtown     False     False   \n",
       "1758509        0-2        North Philadelphia West     False     False   \n",
       "1758510        0-2                    Spruce Hill     False     False   \n",
       "\n",
       "         isSummer  isFall  \n",
       "0           False   False  \n",
       "1           False   False  \n",
       "2           False   False  \n",
       "3           False   False  \n",
       "4           False   False  \n",
       "...           ...     ...  \n",
       "1758506     False    True  \n",
       "1758507     False    True  \n",
       "1758508     False    True  \n",
       "1758509     False    True  \n",
       "1758510     False    True  \n",
       "\n",
       "[1758511 rows x 18 columns]"
      ]
     },
     "execution_count": 291,
     "metadata": {},
     "output_type": "execute_result"
    }
   ],
   "source": [
    "df_normalized"
   ]
  },
  {
   "cell_type": "code",
   "execution_count": 294,
   "metadata": {},
   "outputs": [
    {
     "name": "stdout",
     "output_type": "stream",
     "text": [
      "[0.04818945 0.04804277 0.38476138 0.10238182 0.08625777 0.09911078\n",
      " 0.09435091 0.02764931 0.01460276 0.02611001 0.03079379 0.02708809\n",
      " 0.0056466  0.00158214 0.00157143 0.00186099]\n"
     ]
    }
   ],
   "source": [
    "X = df_normalized[['start_lat', 'start_lon', 'hour_of_day', 'AVG_WND_SPEED','TAVG', 'TMAX', 'TMIN', 'month', 'WEEKDAY', 'Walk Score', 'Transit Score', 'Bike Score', 'isWinter', 'isSpring', 'isSummer', 'isFall']]\n",
    "model = ExtraTreesClassifier(n_estimators=10)\n",
    "model.fit(X, y)\n",
    "print(model.feature_importances_)"
   ]
  },
  {
   "cell_type": "code",
   "execution_count": 295,
   "metadata": {},
   "outputs": [],
   "source": [
    "df_normalized.to_csv(\"df_normalized.csv\")"
   ]
  },
  {
   "cell_type": "code",
   "execution_count": 296,
   "metadata": {},
   "outputs": [
    {
     "name": "stdout",
     "output_type": "stream",
     "text": [
      "              precision    recall  f1-score   support\n",
      "\n",
      "         0-2       0.94      0.61      0.74    413942\n",
      "         10+       0.15      0.73      0.25      4645\n",
      "         3-9       0.33      0.72      0.46    108967\n",
      "\n",
      "    accuracy                           0.63    527554\n",
      "   macro avg       0.47      0.69      0.48    527554\n",
      "weighted avg       0.80      0.63      0.68    527554\n",
      "\n"
     ]
    }
   ],
   "source": [
    "X = df_normalized[['start_lat', 'start_lon', 'hour_of_day', 'AVG_WND_SPEED','TAVG', 'TMAX', 'TMIN', 'month', 'WEEKDAY', 'Walk Score', 'Transit Score', 'Bike Score', 'isWinter', 'isSpring', 'isSummer', 'isFall']]\n",
    "#normalized_X = preprocessing.normalize(X)\n",
    "y = df_normalized['COUNT_BINS'].astype(str)\n",
    "X_train, X_test, y_train, y_test = train_test_split(X, y, test_size = 0.3)\n",
    "decisionTree = tree.DecisionTreeClassifier(max_depth=15, criterion='gini', class_weight={'0-2': .19, '3-9': 1, '10+':14})\n",
    "dt_weighted5 = decisionTree.fit(X_train, y_train)\n",
    "dt_weighted5.score(X_test, y_test)\n",
    "\n",
    "y_pred = dt_weighted5.predict(X_test)\n",
    "print(classification_report(y_test, y_pred,))"
   ]
  },
  {
   "cell_type": "code",
   "execution_count": 299,
   "metadata": {},
   "outputs": [
    {
     "name": "stdout",
     "output_type": "stream",
     "text": [
      "              precision    recall  f1-score   support\n",
      "\n",
      "         0-2       0.94      0.61      0.74    344685\n",
      "         10+       0.14      0.74      0.24      3800\n",
      "         3-9       0.33      0.72      0.46     91143\n",
      "\n",
      "    accuracy                           0.63    439628\n",
      "   macro avg       0.47      0.69      0.48    439628\n",
      "weighted avg       0.80      0.63      0.68    439628\n",
      "\n"
     ]
    }
   ],
   "source": [
    "X = df_normalized[['start_lat', 'start_lon', 'hour_of_day', 'AVG_WND_SPEED','TAVG', 'TMAX', 'TMIN', 'month', 'WEEKDAY', 'Walk Score', 'Transit Score', 'Bike Score', 'isWinter', 'isSpring', 'isSummer', 'isFall']]\n",
    "#normalized_X = preprocessing.normalize(X)\n",
    "y = df_normalized['COUNT_BINS'].astype(str)\n",
    "X_train, X_test, y_train, y_test = train_test_split(X, y, test_size = 0.25)\n",
    "decisionTree = tree.DecisionTreeClassifier(max_depth=15, criterion='gini', class_weight={'0-2': .19, '3-9': 1, '10+':14})\n",
    "dt_weighted5 = decisionTree.fit(X_train, y_train)\n",
    "dt_weighted5.score(X_test, y_test)\n",
    "\n",
    "y_pred = dt_weighted5.predict(X_test)\n",
    "print(classification_report(y_test, y_pred,))"
   ]
  },
  {
   "cell_type": "code",
   "execution_count": 300,
   "metadata": {},
   "outputs": [
    {
     "data": {
      "text/plain": [
       "0.6336925764509995"
      ]
     },
     "execution_count": 300,
     "metadata": {},
     "output_type": "execute_result"
    }
   ],
   "source": [
    "dt_weighted5.score(X_test, y_test)"
   ]
  },
  {
   "cell_type": "code",
   "execution_count": 301,
   "metadata": {},
   "outputs": [
    {
     "name": "stdout",
     "output_type": "stream",
     "text": [
      "              precision    recall  f1-score   support\n",
      "\n",
      "         0-2       0.96      0.45      0.62    275952\n",
      "         10+       0.14      0.74      0.24      3104\n",
      "         3-9       0.28      0.80      0.42     72647\n",
      "\n",
      "    accuracy                           0.53    351703\n",
      "   macro avg       0.46      0.66      0.42    351703\n",
      "weighted avg       0.81      0.53      0.57    351703\n",
      "\n"
     ]
    }
   ],
   "source": [
    "X = df_normalized[['start_lat', 'start_lon', 'hour_of_day', 'AVG_WND_SPEED','TAVG', 'TMAX', 'TMIN', 'month', 'WEEKDAY', 'Walk Score', 'Transit Score', 'Bike Score', 'isWinter', 'isSpring', 'isSummer', 'isFall']]\n",
    "#normalized_X = preprocessing.normalize(X)\n",
    "y = df_normalized['COUNT_BINS'].astype(str)\n",
    "X_train, X_test, y_train, y_test = train_test_split(X, y, test_size = 0.2)\n",
    "decisionTree = tree.DecisionTreeClassifier(max_depth=15, criterion='gini', class_weight={'0-2': .1, '3-9': 1, '10+':14})\n",
    "dt_weighted5 = decisionTree.fit(X_train, y_train)\n",
    "dt_weighted5.score(X_test, y_test)\n",
    "\n",
    "y_pred = dt_weighted5.predict(X_test)\n",
    "print(classification_report(y_test, y_pred,))"
   ]
  },
  {
   "cell_type": "code",
   "execution_count": 302,
   "metadata": {},
   "outputs": [
    {
     "data": {
      "text/plain": [
       "0.5267256747881025"
      ]
     },
     "execution_count": 302,
     "metadata": {},
     "output_type": "execute_result"
    }
   ],
   "source": [
    "dt_weighted5.score(X_test, y_test)"
   ]
  },
  {
   "cell_type": "code",
   "execution_count": 304,
   "metadata": {},
   "outputs": [
    {
     "name": "stdout",
     "output_type": "stream",
     "text": [
      "0.5862706651987589\n",
      "              precision    recall  f1-score   support\n",
      "\n",
      "         0-2       0.95      0.54      0.69    344699\n",
      "         10+       0.15      0.75      0.25      3872\n",
      "         3-9       0.31      0.76      0.44     91057\n",
      "\n",
      "    accuracy                           0.59    439628\n",
      "   macro avg       0.47      0.68      0.46    439628\n",
      "weighted avg       0.81      0.59      0.63    439628\n",
      "\n"
     ]
    }
   ],
   "source": [
    "#this one\n",
    "X = df_normalized[['start_lat', 'start_lon', 'hour_of_day', 'AVG_WND_SPEED','TAVG', 'TMAX', 'TMIN', 'month', 'WEEKDAY', 'Walk Score', 'Transit Score', 'Bike Score', 'isWinter', 'isSpring', 'isSummer', 'isFall']]\n",
    "#normalized_X = preprocessing.normalize(X)\n",
    "y = df_normalized['COUNT_BINS'].astype(str)\n",
    "X_train, X_test, y_train, y_test = train_test_split(X, y, test_size = 0.25)\n",
    "decisionTree = tree.DecisionTreeClassifier(max_depth=15, criterion='gini', class_weight={'0-2': .15, '3-9': 1, '10+':14})\n",
    "dt_weighted5 = decisionTree.fit(X_train, y_train)\n",
    "print(dt_weighted5.score(X_test, y_test))\n",
    "\n",
    "y_pred = dt_weighted5.predict(X_test)\n",
    "print(classification_report(y_test, y_pred,))"
   ]
  },
  {
   "cell_type": "code",
   "execution_count": null,
   "metadata": {},
   "outputs": [],
   "source": [
    "model1 = xgb.XGBClassifier(max_depth=12, scale_pos_weight={'0-2': .15, '3-9': 1.1, '10+':16})\n",
    "train_model_norm = model1.fit(X_train, y_train)\n",
    "print(train_model_norm.score(X_test, y_test))\n",
    "y_pred = train_model_norm.predict(X_test)\n",
    "print(classification_report(y_test, y_pred,))"
   ]
  },
  {
   "cell_type": "code",
   "execution_count": null,
   "metadata": {},
   "outputs": [],
   "source": []
  }
 ],
 "metadata": {
  "kernelspec": {
   "display_name": "Python 3",
   "language": "python",
   "name": "python3"
  },
  "language_info": {
   "codemirror_mode": {
    "name": "ipython",
    "version": 3
   },
   "file_extension": ".py",
   "mimetype": "text/x-python",
   "name": "python",
   "nbconvert_exporter": "python",
   "pygments_lexer": "ipython3",
   "version": "3.6.9"
  }
 },
 "nbformat": 4,
 "nbformat_minor": 2
}
