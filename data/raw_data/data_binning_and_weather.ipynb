{
 "cells": [
  {
   "cell_type": "code",
   "execution_count": 1,
   "metadata": {},
   "outputs": [],
   "source": [
    "import pandas as pd"
   ]
  },
  {
   "cell_type": "code",
   "execution_count": 2,
   "metadata": {},
   "outputs": [
    {
     "name": "stderr",
     "output_type": "stream",
     "text": [
      "/home/rebecca/anaconda3/lib/python3.6/site-packages/IPython/core/interactiveshell.py:3058: DtypeWarning: Columns (1,3,4) have mixed types. Specify dtype option on import or set low_memory=False.\n",
      "  interactivity=interactivity, compiler=compiler, result=result)\n"
     ]
    }
   ],
   "source": [
    "data = pd.read_csv(\"clean_data.csv\")"
   ]
  },
  {
   "cell_type": "code",
   "execution_count": 3,
   "metadata": {},
   "outputs": [
    {
     "data": {
      "text/html": [
       "<div>\n",
       "<style scoped>\n",
       "    .dataframe tbody tr th:only-of-type {\n",
       "        vertical-align: middle;\n",
       "    }\n",
       "\n",
       "    .dataframe tbody tr th {\n",
       "        vertical-align: top;\n",
       "    }\n",
       "\n",
       "    .dataframe thead th {\n",
       "        text-align: right;\n",
       "    }\n",
       "</style>\n",
       "<table border=\"1\" class=\"dataframe\">\n",
       "  <thead>\n",
       "    <tr style=\"text-align: right;\">\n",
       "      <th></th>\n",
       "      <th>Unnamed: 0</th>\n",
       "      <th>bike_id</th>\n",
       "      <th>end_time</th>\n",
       "      <th>start_lat</th>\n",
       "      <th>start_lon</th>\n",
       "      <th>start_station_id</th>\n",
       "      <th>start_time</th>\n",
       "    </tr>\n",
       "  </thead>\n",
       "  <tbody>\n",
       "    <tr>\n",
       "      <td>0</td>\n",
       "      <td>0</td>\n",
       "      <td>3350.0</td>\n",
       "      <td>4/23/15 7:45</td>\n",
       "      <td>39.9501</td>\n",
       "      <td>-75.1447</td>\n",
       "      <td>3046.0</td>\n",
       "      <td>4/23/15 7:44</td>\n",
       "    </tr>\n",
       "    <tr>\n",
       "      <td>1</td>\n",
       "      <td>1</td>\n",
       "      <td>3350.0</td>\n",
       "      <td>4/23/15 7:46</td>\n",
       "      <td>39.9501</td>\n",
       "      <td>-75.1447</td>\n",
       "      <td>3046.0</td>\n",
       "      <td>4/23/15 7:45</td>\n",
       "    </tr>\n",
       "    <tr>\n",
       "      <td>2</td>\n",
       "      <td>2</td>\n",
       "      <td>3282.0</td>\n",
       "      <td>4/23/15 7:48</td>\n",
       "      <td>39.9644</td>\n",
       "      <td>-75.18</td>\n",
       "      <td>3057.0</td>\n",
       "      <td>4/23/15 7:46</td>\n",
       "    </tr>\n",
       "    <tr>\n",
       "      <td>3</td>\n",
       "      <td>3</td>\n",
       "      <td>3350.0</td>\n",
       "      <td>4/23/15 10:14</td>\n",
       "      <td>39.9538</td>\n",
       "      <td>-75.1637</td>\n",
       "      <td>3004.0</td>\n",
       "      <td>4/23/15 10:13</td>\n",
       "    </tr>\n",
       "    <tr>\n",
       "      <td>4</td>\n",
       "      <td>4</td>\n",
       "      <td>2716.0</td>\n",
       "      <td>4/23/15 10:17</td>\n",
       "      <td>39.9538</td>\n",
       "      <td>-75.1637</td>\n",
       "      <td>3004.0</td>\n",
       "      <td>4/23/15 10:14</td>\n",
       "    </tr>\n",
       "    <tr>\n",
       "      <td>...</td>\n",
       "      <td>...</td>\n",
       "      <td>...</td>\n",
       "      <td>...</td>\n",
       "      <td>...</td>\n",
       "      <td>...</td>\n",
       "      <td>...</td>\n",
       "      <td>...</td>\n",
       "    </tr>\n",
       "    <tr>\n",
       "      <td>3123632</td>\n",
       "      <td>275192</td>\n",
       "      <td>3303</td>\n",
       "      <td>10/1/2019 1:18</td>\n",
       "      <td>39.9422</td>\n",
       "      <td>-75.1775</td>\n",
       "      <td>3012.0</td>\n",
       "      <td>9/30/2019 23:52</td>\n",
       "    </tr>\n",
       "    <tr>\n",
       "      <td>3123633</td>\n",
       "      <td>275193</td>\n",
       "      <td>5194</td>\n",
       "      <td>10/1/2019 0:06</td>\n",
       "      <td>39.9644</td>\n",
       "      <td>-75.1799</td>\n",
       "      <td>3057.0</td>\n",
       "      <td>9/30/2019 23:52</td>\n",
       "    </tr>\n",
       "    <tr>\n",
       "      <td>3123634</td>\n",
       "      <td>275194</td>\n",
       "      <td>5219</td>\n",
       "      <td>9/30/2019 23:56</td>\n",
       "      <td>39.9626</td>\n",
       "      <td>-75.1617</td>\n",
       "      <td>3059.0</td>\n",
       "      <td>9/30/2019 23:55</td>\n",
       "    </tr>\n",
       "    <tr>\n",
       "      <td>3123635</td>\n",
       "      <td>275195</td>\n",
       "      <td>6694</td>\n",
       "      <td>10/1/2019 0:07</td>\n",
       "      <td>39.9626</td>\n",
       "      <td>-75.1617</td>\n",
       "      <td>3059.0</td>\n",
       "      <td>9/30/2019 23:56</td>\n",
       "    </tr>\n",
       "    <tr>\n",
       "      <td>3123636</td>\n",
       "      <td>275196</td>\n",
       "      <td>19946</td>\n",
       "      <td>10/1/2019 0:05</td>\n",
       "      <td>39.9323</td>\n",
       "      <td>-75.1815</td>\n",
       "      <td>3053.0</td>\n",
       "      <td>9/30/2019 23:59</td>\n",
       "    </tr>\n",
       "  </tbody>\n",
       "</table>\n",
       "<p>3123637 rows × 7 columns</p>\n",
       "</div>"
      ],
      "text/plain": [
       "         Unnamed: 0 bike_id         end_time start_lat start_lon  \\\n",
       "0                 0  3350.0     4/23/15 7:45   39.9501  -75.1447   \n",
       "1                 1  3350.0     4/23/15 7:46   39.9501  -75.1447   \n",
       "2                 2  3282.0     4/23/15 7:48   39.9644    -75.18   \n",
       "3                 3  3350.0    4/23/15 10:14   39.9538  -75.1637   \n",
       "4                 4  2716.0    4/23/15 10:17   39.9538  -75.1637   \n",
       "...             ...     ...              ...       ...       ...   \n",
       "3123632      275192    3303   10/1/2019 1:18   39.9422  -75.1775   \n",
       "3123633      275193    5194   10/1/2019 0:06   39.9644  -75.1799   \n",
       "3123634      275194    5219  9/30/2019 23:56   39.9626  -75.1617   \n",
       "3123635      275195    6694   10/1/2019 0:07   39.9626  -75.1617   \n",
       "3123636      275196   19946   10/1/2019 0:05   39.9323  -75.1815   \n",
       "\n",
       "         start_station_id       start_time  \n",
       "0                  3046.0     4/23/15 7:44  \n",
       "1                  3046.0     4/23/15 7:45  \n",
       "2                  3057.0     4/23/15 7:46  \n",
       "3                  3004.0    4/23/15 10:13  \n",
       "4                  3004.0    4/23/15 10:14  \n",
       "...                   ...              ...  \n",
       "3123632            3012.0  9/30/2019 23:52  \n",
       "3123633            3057.0  9/30/2019 23:52  \n",
       "3123634            3059.0  9/30/2019 23:55  \n",
       "3123635            3059.0  9/30/2019 23:56  \n",
       "3123636            3053.0  9/30/2019 23:59  \n",
       "\n",
       "[3123637 rows x 7 columns]"
      ]
     },
     "execution_count": 3,
     "metadata": {},
     "output_type": "execute_result"
    }
   ],
   "source": [
    "data"
   ]
  },
  {
   "cell_type": "code",
   "execution_count": 4,
   "metadata": {},
   "outputs": [],
   "source": [
    "data = data.drop(['Unnamed: 0'], axis=1)\n"
   ]
  },
  {
   "cell_type": "code",
   "execution_count": 5,
   "metadata": {},
   "outputs": [
    {
     "data": {
      "text/plain": [
       "0             4/23/15 7:44\n",
       "1             4/23/15 7:45\n",
       "2             4/23/15 7:46\n",
       "3            4/23/15 10:13\n",
       "4            4/23/15 10:14\n",
       "                ...       \n",
       "3123632    9/30/2019 23:52\n",
       "3123633    9/30/2019 23:52\n",
       "3123634    9/30/2019 23:55\n",
       "3123635    9/30/2019 23:56\n",
       "3123636    9/30/2019 23:59\n",
       "Name: start_time, Length: 3123637, dtype: object"
      ]
     },
     "execution_count": 5,
     "metadata": {},
     "output_type": "execute_result"
    }
   ],
   "source": [
    "data['start_time']"
   ]
  },
  {
   "cell_type": "code",
   "execution_count": 6,
   "metadata": {},
   "outputs": [],
   "source": [
    "data['start_time'] =  pd.to_datetime(data['start_time'])"
   ]
  },
  {
   "cell_type": "code",
   "execution_count": 7,
   "metadata": {},
   "outputs": [
    {
     "data": {
      "text/plain": [
       "0         2015-04-23 07:44:00\n",
       "1         2015-04-23 07:45:00\n",
       "2         2015-04-23 07:46:00\n",
       "3         2015-04-23 10:13:00\n",
       "4         2015-04-23 10:14:00\n",
       "                  ...        \n",
       "3123632   2019-09-30 23:52:00\n",
       "3123633   2019-09-30 23:52:00\n",
       "3123634   2019-09-30 23:55:00\n",
       "3123635   2019-09-30 23:56:00\n",
       "3123636   2019-09-30 23:59:00\n",
       "Name: start_time, Length: 3123637, dtype: datetime64[ns]"
      ]
     },
     "execution_count": 7,
     "metadata": {},
     "output_type": "execute_result"
    }
   ],
   "source": [
    "data.start_time\n"
   ]
  },
  {
   "cell_type": "code",
   "execution_count": 8,
   "metadata": {},
   "outputs": [],
   "source": [
    "data['hour_of_day'] = [r.hour for r in pd.to_datetime(data.start_time)]"
   ]
  },
  {
   "cell_type": "code",
   "execution_count": 9,
   "metadata": {},
   "outputs": [],
   "source": [
    "data.to_csv(\"clean_data_2.csv\")"
   ]
  },
  {
   "cell_type": "code",
   "execution_count": 10,
   "metadata": {},
   "outputs": [],
   "source": [
    "df = pd.read_csv('clean_data_2.csv')"
   ]
  },
  {
   "cell_type": "code",
   "execution_count": 11,
   "metadata": {},
   "outputs": [],
   "source": [
    "df['hour_of_day'] = [r.hour for r in pd.to_datetime(df.start_time)]\n",
    "df['month'] = [r.month for r in pd.to_datetime(df.start_time)]"
   ]
  },
  {
   "cell_type": "code",
   "execution_count": 12,
   "metadata": {},
   "outputs": [
    {
     "data": {
      "text/plain": [
       "0           7\n",
       "1           7\n",
       "2           7\n",
       "3          10\n",
       "4          10\n",
       "           ..\n",
       "3123632    23\n",
       "3123633    23\n",
       "3123634    23\n",
       "3123635    23\n",
       "3123636    23\n",
       "Name: hour_of_day, Length: 3123637, dtype: int64"
      ]
     },
     "execution_count": 12,
     "metadata": {},
     "output_type": "execute_result"
    }
   ],
   "source": [
    "df.hour_of_day\n"
   ]
  },
  {
   "cell_type": "code",
   "execution_count": 13,
   "metadata": {},
   "outputs": [
    {
     "data": {
      "text/plain": [
       "0          4\n",
       "1          4\n",
       "2          4\n",
       "3          4\n",
       "4          4\n",
       "          ..\n",
       "3123632    9\n",
       "3123633    9\n",
       "3123634    9\n",
       "3123635    9\n",
       "3123636    9\n",
       "Name: month, Length: 3123637, dtype: int64"
      ]
     },
     "execution_count": 13,
     "metadata": {},
     "output_type": "execute_result"
    }
   ],
   "source": [
    "df.month"
   ]
  },
  {
   "cell_type": "code",
   "execution_count": 14,
   "metadata": {},
   "outputs": [],
   "source": [
    "df = df.drop(['end_time', 'Unnamed: 0'], axis=1)"
   ]
  },
  {
   "cell_type": "code",
   "execution_count": 15,
   "metadata": {},
   "outputs": [
    {
     "data": {
      "text/html": [
       "<div>\n",
       "<style scoped>\n",
       "    .dataframe tbody tr th:only-of-type {\n",
       "        vertical-align: middle;\n",
       "    }\n",
       "\n",
       "    .dataframe tbody tr th {\n",
       "        vertical-align: top;\n",
       "    }\n",
       "\n",
       "    .dataframe thead th {\n",
       "        text-align: right;\n",
       "    }\n",
       "</style>\n",
       "<table border=\"1\" class=\"dataframe\">\n",
       "  <thead>\n",
       "    <tr style=\"text-align: right;\">\n",
       "      <th></th>\n",
       "      <th>bike_id</th>\n",
       "      <th>start_lat</th>\n",
       "      <th>start_lon</th>\n",
       "      <th>start_station_id</th>\n",
       "      <th>start_time</th>\n",
       "      <th>hour_of_day</th>\n",
       "      <th>month</th>\n",
       "    </tr>\n",
       "  </thead>\n",
       "  <tbody>\n",
       "    <tr>\n",
       "      <td>0</td>\n",
       "      <td>3350</td>\n",
       "      <td>39.9501</td>\n",
       "      <td>-75.1447</td>\n",
       "      <td>3046.0</td>\n",
       "      <td>2015-04-23 07:44:00</td>\n",
       "      <td>7</td>\n",
       "      <td>4</td>\n",
       "    </tr>\n",
       "    <tr>\n",
       "      <td>1</td>\n",
       "      <td>3350</td>\n",
       "      <td>39.9501</td>\n",
       "      <td>-75.1447</td>\n",
       "      <td>3046.0</td>\n",
       "      <td>2015-04-23 07:45:00</td>\n",
       "      <td>7</td>\n",
       "      <td>4</td>\n",
       "    </tr>\n",
       "    <tr>\n",
       "      <td>2</td>\n",
       "      <td>3282</td>\n",
       "      <td>39.9644</td>\n",
       "      <td>-75.18</td>\n",
       "      <td>3057.0</td>\n",
       "      <td>2015-04-23 07:46:00</td>\n",
       "      <td>7</td>\n",
       "      <td>4</td>\n",
       "    </tr>\n",
       "    <tr>\n",
       "      <td>3</td>\n",
       "      <td>3350</td>\n",
       "      <td>39.9538</td>\n",
       "      <td>-75.1637</td>\n",
       "      <td>3004.0</td>\n",
       "      <td>2015-04-23 10:13:00</td>\n",
       "      <td>10</td>\n",
       "      <td>4</td>\n",
       "    </tr>\n",
       "    <tr>\n",
       "      <td>4</td>\n",
       "      <td>2716</td>\n",
       "      <td>39.9538</td>\n",
       "      <td>-75.1637</td>\n",
       "      <td>3004.0</td>\n",
       "      <td>2015-04-23 10:14:00</td>\n",
       "      <td>10</td>\n",
       "      <td>4</td>\n",
       "    </tr>\n",
       "    <tr>\n",
       "      <td>...</td>\n",
       "      <td>...</td>\n",
       "      <td>...</td>\n",
       "      <td>...</td>\n",
       "      <td>...</td>\n",
       "      <td>...</td>\n",
       "      <td>...</td>\n",
       "      <td>...</td>\n",
       "    </tr>\n",
       "    <tr>\n",
       "      <td>3123632</td>\n",
       "      <td>3303</td>\n",
       "      <td>39.9422</td>\n",
       "      <td>-75.1775</td>\n",
       "      <td>3012.0</td>\n",
       "      <td>2019-09-30 23:52:00</td>\n",
       "      <td>23</td>\n",
       "      <td>9</td>\n",
       "    </tr>\n",
       "    <tr>\n",
       "      <td>3123633</td>\n",
       "      <td>5194</td>\n",
       "      <td>39.9644</td>\n",
       "      <td>-75.1799</td>\n",
       "      <td>3057.0</td>\n",
       "      <td>2019-09-30 23:52:00</td>\n",
       "      <td>23</td>\n",
       "      <td>9</td>\n",
       "    </tr>\n",
       "    <tr>\n",
       "      <td>3123634</td>\n",
       "      <td>5219</td>\n",
       "      <td>39.9626</td>\n",
       "      <td>-75.1617</td>\n",
       "      <td>3059.0</td>\n",
       "      <td>2019-09-30 23:55:00</td>\n",
       "      <td>23</td>\n",
       "      <td>9</td>\n",
       "    </tr>\n",
       "    <tr>\n",
       "      <td>3123635</td>\n",
       "      <td>6694</td>\n",
       "      <td>39.9626</td>\n",
       "      <td>-75.1617</td>\n",
       "      <td>3059.0</td>\n",
       "      <td>2019-09-30 23:56:00</td>\n",
       "      <td>23</td>\n",
       "      <td>9</td>\n",
       "    </tr>\n",
       "    <tr>\n",
       "      <td>3123636</td>\n",
       "      <td>19946</td>\n",
       "      <td>39.9323</td>\n",
       "      <td>-75.1815</td>\n",
       "      <td>3053.0</td>\n",
       "      <td>2019-09-30 23:59:00</td>\n",
       "      <td>23</td>\n",
       "      <td>9</td>\n",
       "    </tr>\n",
       "  </tbody>\n",
       "</table>\n",
       "<p>3123637 rows × 7 columns</p>\n",
       "</div>"
      ],
      "text/plain": [
       "        bike_id start_lat start_lon  start_station_id           start_time  \\\n",
       "0          3350   39.9501  -75.1447            3046.0  2015-04-23 07:44:00   \n",
       "1          3350   39.9501  -75.1447            3046.0  2015-04-23 07:45:00   \n",
       "2          3282   39.9644    -75.18            3057.0  2015-04-23 07:46:00   \n",
       "3          3350   39.9538  -75.1637            3004.0  2015-04-23 10:13:00   \n",
       "4          2716   39.9538  -75.1637            3004.0  2015-04-23 10:14:00   \n",
       "...         ...       ...       ...               ...                  ...   \n",
       "3123632    3303   39.9422  -75.1775            3012.0  2019-09-30 23:52:00   \n",
       "3123633    5194   39.9644  -75.1799            3057.0  2019-09-30 23:52:00   \n",
       "3123634    5219   39.9626  -75.1617            3059.0  2019-09-30 23:55:00   \n",
       "3123635    6694   39.9626  -75.1617            3059.0  2019-09-30 23:56:00   \n",
       "3123636   19946   39.9323  -75.1815            3053.0  2019-09-30 23:59:00   \n",
       "\n",
       "         hour_of_day  month  \n",
       "0                  7      4  \n",
       "1                  7      4  \n",
       "2                  7      4  \n",
       "3                 10      4  \n",
       "4                 10      4  \n",
       "...              ...    ...  \n",
       "3123632           23      9  \n",
       "3123633           23      9  \n",
       "3123634           23      9  \n",
       "3123635           23      9  \n",
       "3123636           23      9  \n",
       "\n",
       "[3123637 rows x 7 columns]"
      ]
     },
     "execution_count": 15,
     "metadata": {},
     "output_type": "execute_result"
    }
   ],
   "source": [
    "df"
   ]
  },
  {
   "cell_type": "code",
   "execution_count": 35,
   "metadata": {},
   "outputs": [],
   "source": [
    "weather = pd.read_csv('weather_data.csv')"
   ]
  },
  {
   "cell_type": "code",
   "execution_count": 36,
   "metadata": {},
   "outputs": [
    {
     "data": {
      "text/plain": [
       "array(['USW00013739'], dtype=object)"
      ]
     },
     "execution_count": 36,
     "metadata": {},
     "output_type": "execute_result"
    }
   ],
   "source": [
    "weather.STATION.unique()"
   ]
  },
  {
   "cell_type": "code",
   "execution_count": 37,
   "metadata": {},
   "outputs": [
    {
     "data": {
      "text/plain": [
       "array(['STATION', 'NAME', 'DATE', 'AWND', 'PGTM', 'PRCP', 'PSUN', 'SNOW',\n",
       "       'SNWD', 'TAVG', 'TMAX', 'TMIN', 'TSUN', 'WDF2', 'WDF5', 'WESD',\n",
       "       'WSF2', 'WSF5', 'WT01', 'WT02', 'WT03', 'WT04', 'WT05', 'WT06',\n",
       "       'WT08', 'WT09'], dtype=object)"
      ]
     },
     "execution_count": 37,
     "metadata": {},
     "output_type": "execute_result"
    }
   ],
   "source": [
    "weather.columns.values"
   ]
  },
  {
   "cell_type": "code",
   "execution_count": 38,
   "metadata": {},
   "outputs": [],
   "source": [
    "weather = weather.drop(['STATION','WESD','WT06','WT08','WT09','NAME','WSF5','WSF2', 'WDF2', 'WDF5', 'WT05', 'PGTM', 'WT02'], axis=1)"
   ]
  },
  {
   "cell_type": "code",
   "execution_count": 39,
   "metadata": {},
   "outputs": [
    {
     "data": {
      "text/plain": [
       "array(['DATE', 'AWND', 'PRCP', 'PSUN', 'SNOW', 'SNWD', 'TAVG', 'TMAX',\n",
       "       'TMIN', 'TSUN', 'WT01', 'WT03', 'WT04'], dtype=object)"
      ]
     },
     "execution_count": 39,
     "metadata": {},
     "output_type": "execute_result"
    }
   ],
   "source": [
    "weather.columns.values"
   ]
  },
  {
   "cell_type": "code",
   "execution_count": 43,
   "metadata": {},
   "outputs": [
    {
     "data": {
      "text/plain": [
       "count    6.0\n",
       "mean     0.0\n",
       "std      0.0\n",
       "min      0.0\n",
       "25%      0.0\n",
       "50%      0.0\n",
       "75%      0.0\n",
       "max      0.0\n",
       "Name: PSUN, dtype: float64"
      ]
     },
     "execution_count": 43,
     "metadata": {},
     "output_type": "execute_result"
    }
   ],
   "source": [
    "weather.PSUN.describe()"
   ]
  },
  {
   "cell_type": "code",
   "execution_count": 45,
   "metadata": {},
   "outputs": [],
   "source": [
    "weather = weather.drop(['PSUN'], axis=1)"
   ]
  },
  {
   "cell_type": "code",
   "execution_count": 46,
   "metadata": {},
   "outputs": [
    {
     "data": {
      "text/html": [
       "<div>\n",
       "<style scoped>\n",
       "    .dataframe tbody tr th:only-of-type {\n",
       "        vertical-align: middle;\n",
       "    }\n",
       "\n",
       "    .dataframe tbody tr th {\n",
       "        vertical-align: top;\n",
       "    }\n",
       "\n",
       "    .dataframe thead th {\n",
       "        text-align: right;\n",
       "    }\n",
       "</style>\n",
       "<table border=\"1\" class=\"dataframe\">\n",
       "  <thead>\n",
       "    <tr style=\"text-align: right;\">\n",
       "      <th></th>\n",
       "      <th>DATE</th>\n",
       "      <th>AWND</th>\n",
       "      <th>PRCP</th>\n",
       "      <th>SNOW</th>\n",
       "      <th>SNWD</th>\n",
       "      <th>TAVG</th>\n",
       "      <th>TMAX</th>\n",
       "      <th>TMIN</th>\n",
       "      <th>TSUN</th>\n",
       "      <th>WT01</th>\n",
       "      <th>WT03</th>\n",
       "      <th>WT04</th>\n",
       "    </tr>\n",
       "  </thead>\n",
       "  <tbody>\n",
       "    <tr>\n",
       "      <td>0</td>\n",
       "      <td>2015-03-01</td>\n",
       "      <td>4.92</td>\n",
       "      <td>0.52</td>\n",
       "      <td>0.4</td>\n",
       "      <td>0.0</td>\n",
       "      <td>NaN</td>\n",
       "      <td>32</td>\n",
       "      <td>21</td>\n",
       "      <td>NaN</td>\n",
       "      <td>1.0</td>\n",
       "      <td>NaN</td>\n",
       "      <td>1.0</td>\n",
       "    </tr>\n",
       "    <tr>\n",
       "      <td>1</td>\n",
       "      <td>2015-03-02</td>\n",
       "      <td>12.08</td>\n",
       "      <td>0.00</td>\n",
       "      <td>0.0</td>\n",
       "      <td>0.0</td>\n",
       "      <td>NaN</td>\n",
       "      <td>40</td>\n",
       "      <td>29</td>\n",
       "      <td>NaN</td>\n",
       "      <td>1.0</td>\n",
       "      <td>NaN</td>\n",
       "      <td>NaN</td>\n",
       "    </tr>\n",
       "    <tr>\n",
       "      <td>2</td>\n",
       "      <td>2015-03-03</td>\n",
       "      <td>8.05</td>\n",
       "      <td>0.61</td>\n",
       "      <td>0.1</td>\n",
       "      <td>0.0</td>\n",
       "      <td>NaN</td>\n",
       "      <td>34</td>\n",
       "      <td>25</td>\n",
       "      <td>NaN</td>\n",
       "      <td>1.0</td>\n",
       "      <td>NaN</td>\n",
       "      <td>1.0</td>\n",
       "    </tr>\n",
       "    <tr>\n",
       "      <td>3</td>\n",
       "      <td>2015-03-04</td>\n",
       "      <td>5.82</td>\n",
       "      <td>0.49</td>\n",
       "      <td>0.0</td>\n",
       "      <td>0.0</td>\n",
       "      <td>NaN</td>\n",
       "      <td>43</td>\n",
       "      <td>33</td>\n",
       "      <td>NaN</td>\n",
       "      <td>1.0</td>\n",
       "      <td>NaN</td>\n",
       "      <td>NaN</td>\n",
       "    </tr>\n",
       "    <tr>\n",
       "      <td>4</td>\n",
       "      <td>2015-03-05</td>\n",
       "      <td>10.74</td>\n",
       "      <td>0.78</td>\n",
       "      <td>7.5</td>\n",
       "      <td>0.0</td>\n",
       "      <td>NaN</td>\n",
       "      <td>40</td>\n",
       "      <td>20</td>\n",
       "      <td>NaN</td>\n",
       "      <td>1.0</td>\n",
       "      <td>NaN</td>\n",
       "      <td>1.0</td>\n",
       "    </tr>\n",
       "    <tr>\n",
       "      <td>...</td>\n",
       "      <td>...</td>\n",
       "      <td>...</td>\n",
       "      <td>...</td>\n",
       "      <td>...</td>\n",
       "      <td>...</td>\n",
       "      <td>...</td>\n",
       "      <td>...</td>\n",
       "      <td>...</td>\n",
       "      <td>...</td>\n",
       "      <td>...</td>\n",
       "      <td>...</td>\n",
       "      <td>...</td>\n",
       "    </tr>\n",
       "    <tr>\n",
       "      <td>1707</td>\n",
       "      <td>2019-11-02</td>\n",
       "      <td>6.93</td>\n",
       "      <td>0.00</td>\n",
       "      <td>0.0</td>\n",
       "      <td>0.0</td>\n",
       "      <td>45.0</td>\n",
       "      <td>54</td>\n",
       "      <td>36</td>\n",
       "      <td>NaN</td>\n",
       "      <td>NaN</td>\n",
       "      <td>NaN</td>\n",
       "      <td>NaN</td>\n",
       "    </tr>\n",
       "    <tr>\n",
       "      <td>1708</td>\n",
       "      <td>2019-11-03</td>\n",
       "      <td>8.50</td>\n",
       "      <td>0.00</td>\n",
       "      <td>0.0</td>\n",
       "      <td>0.0</td>\n",
       "      <td>47.0</td>\n",
       "      <td>53</td>\n",
       "      <td>38</td>\n",
       "      <td>NaN</td>\n",
       "      <td>NaN</td>\n",
       "      <td>NaN</td>\n",
       "      <td>NaN</td>\n",
       "    </tr>\n",
       "    <tr>\n",
       "      <td>1709</td>\n",
       "      <td>2019-11-04</td>\n",
       "      <td>5.59</td>\n",
       "      <td>0.00</td>\n",
       "      <td>0.0</td>\n",
       "      <td>0.0</td>\n",
       "      <td>47.0</td>\n",
       "      <td>59</td>\n",
       "      <td>35</td>\n",
       "      <td>NaN</td>\n",
       "      <td>NaN</td>\n",
       "      <td>NaN</td>\n",
       "      <td>NaN</td>\n",
       "    </tr>\n",
       "    <tr>\n",
       "      <td>1710</td>\n",
       "      <td>2019-11-05</td>\n",
       "      <td>5.82</td>\n",
       "      <td>0.00</td>\n",
       "      <td>0.0</td>\n",
       "      <td>0.0</td>\n",
       "      <td>52.0</td>\n",
       "      <td>63</td>\n",
       "      <td>43</td>\n",
       "      <td>NaN</td>\n",
       "      <td>NaN</td>\n",
       "      <td>NaN</td>\n",
       "      <td>NaN</td>\n",
       "    </tr>\n",
       "    <tr>\n",
       "      <td>1711</td>\n",
       "      <td>2019-11-06</td>\n",
       "      <td>NaN</td>\n",
       "      <td>0.00</td>\n",
       "      <td>0.0</td>\n",
       "      <td>0.0</td>\n",
       "      <td>52.0</td>\n",
       "      <td>57</td>\n",
       "      <td>42</td>\n",
       "      <td>NaN</td>\n",
       "      <td>NaN</td>\n",
       "      <td>NaN</td>\n",
       "      <td>NaN</td>\n",
       "    </tr>\n",
       "  </tbody>\n",
       "</table>\n",
       "<p>1712 rows × 12 columns</p>\n",
       "</div>"
      ],
      "text/plain": [
       "            DATE   AWND  PRCP  SNOW  SNWD  TAVG  TMAX  TMIN  TSUN  WT01  WT03  \\\n",
       "0     2015-03-01   4.92  0.52   0.4   0.0   NaN    32    21   NaN   1.0   NaN   \n",
       "1     2015-03-02  12.08  0.00   0.0   0.0   NaN    40    29   NaN   1.0   NaN   \n",
       "2     2015-03-03   8.05  0.61   0.1   0.0   NaN    34    25   NaN   1.0   NaN   \n",
       "3     2015-03-04   5.82  0.49   0.0   0.0   NaN    43    33   NaN   1.0   NaN   \n",
       "4     2015-03-05  10.74  0.78   7.5   0.0   NaN    40    20   NaN   1.0   NaN   \n",
       "...          ...    ...   ...   ...   ...   ...   ...   ...   ...   ...   ...   \n",
       "1707  2019-11-02   6.93  0.00   0.0   0.0  45.0    54    36   NaN   NaN   NaN   \n",
       "1708  2019-11-03   8.50  0.00   0.0   0.0  47.0    53    38   NaN   NaN   NaN   \n",
       "1709  2019-11-04   5.59  0.00   0.0   0.0  47.0    59    35   NaN   NaN   NaN   \n",
       "1710  2019-11-05   5.82  0.00   0.0   0.0  52.0    63    43   NaN   NaN   NaN   \n",
       "1711  2019-11-06    NaN  0.00   0.0   0.0  52.0    57    42   NaN   NaN   NaN   \n",
       "\n",
       "      WT04  \n",
       "0      1.0  \n",
       "1      NaN  \n",
       "2      1.0  \n",
       "3      NaN  \n",
       "4      1.0  \n",
       "...    ...  \n",
       "1707   NaN  \n",
       "1708   NaN  \n",
       "1709   NaN  \n",
       "1710   NaN  \n",
       "1711   NaN  \n",
       "\n",
       "[1712 rows x 12 columns]"
      ]
     },
     "execution_count": 46,
     "metadata": {},
     "output_type": "execute_result"
    }
   ],
   "source": [
    "weather"
   ]
  },
  {
   "cell_type": "code",
   "execution_count": 49,
   "metadata": {},
   "outputs": [
    {
     "data": {
      "text/plain": [
       "array([nan,  0.])"
      ]
     },
     "execution_count": 49,
     "metadata": {},
     "output_type": "execute_result"
    }
   ],
   "source": [
    "weather.TSUN.unique()"
   ]
  },
  {
   "cell_type": "code",
   "execution_count": 50,
   "metadata": {},
   "outputs": [],
   "source": [
    "weather = weather.drop(['TSUN'], axis=1)"
   ]
  },
  {
   "cell_type": "code",
   "execution_count": 51,
   "metadata": {},
   "outputs": [
    {
     "data": {
      "text/html": [
       "<div>\n",
       "<style scoped>\n",
       "    .dataframe tbody tr th:only-of-type {\n",
       "        vertical-align: middle;\n",
       "    }\n",
       "\n",
       "    .dataframe tbody tr th {\n",
       "        vertical-align: top;\n",
       "    }\n",
       "\n",
       "    .dataframe thead th {\n",
       "        text-align: right;\n",
       "    }\n",
       "</style>\n",
       "<table border=\"1\" class=\"dataframe\">\n",
       "  <thead>\n",
       "    <tr style=\"text-align: right;\">\n",
       "      <th></th>\n",
       "      <th>DATE</th>\n",
       "      <th>AWND</th>\n",
       "      <th>PRCP</th>\n",
       "      <th>SNOW</th>\n",
       "      <th>SNWD</th>\n",
       "      <th>TAVG</th>\n",
       "      <th>TMAX</th>\n",
       "      <th>TMIN</th>\n",
       "      <th>WT01</th>\n",
       "      <th>WT03</th>\n",
       "      <th>WT04</th>\n",
       "    </tr>\n",
       "  </thead>\n",
       "  <tbody>\n",
       "    <tr>\n",
       "      <td>0</td>\n",
       "      <td>2015-03-01</td>\n",
       "      <td>4.92</td>\n",
       "      <td>0.52</td>\n",
       "      <td>0.4</td>\n",
       "      <td>0.0</td>\n",
       "      <td>NaN</td>\n",
       "      <td>32</td>\n",
       "      <td>21</td>\n",
       "      <td>1.0</td>\n",
       "      <td>NaN</td>\n",
       "      <td>1.0</td>\n",
       "    </tr>\n",
       "    <tr>\n",
       "      <td>1</td>\n",
       "      <td>2015-03-02</td>\n",
       "      <td>12.08</td>\n",
       "      <td>0.00</td>\n",
       "      <td>0.0</td>\n",
       "      <td>0.0</td>\n",
       "      <td>NaN</td>\n",
       "      <td>40</td>\n",
       "      <td>29</td>\n",
       "      <td>1.0</td>\n",
       "      <td>NaN</td>\n",
       "      <td>NaN</td>\n",
       "    </tr>\n",
       "    <tr>\n",
       "      <td>2</td>\n",
       "      <td>2015-03-03</td>\n",
       "      <td>8.05</td>\n",
       "      <td>0.61</td>\n",
       "      <td>0.1</td>\n",
       "      <td>0.0</td>\n",
       "      <td>NaN</td>\n",
       "      <td>34</td>\n",
       "      <td>25</td>\n",
       "      <td>1.0</td>\n",
       "      <td>NaN</td>\n",
       "      <td>1.0</td>\n",
       "    </tr>\n",
       "    <tr>\n",
       "      <td>3</td>\n",
       "      <td>2015-03-04</td>\n",
       "      <td>5.82</td>\n",
       "      <td>0.49</td>\n",
       "      <td>0.0</td>\n",
       "      <td>0.0</td>\n",
       "      <td>NaN</td>\n",
       "      <td>43</td>\n",
       "      <td>33</td>\n",
       "      <td>1.0</td>\n",
       "      <td>NaN</td>\n",
       "      <td>NaN</td>\n",
       "    </tr>\n",
       "    <tr>\n",
       "      <td>4</td>\n",
       "      <td>2015-03-05</td>\n",
       "      <td>10.74</td>\n",
       "      <td>0.78</td>\n",
       "      <td>7.5</td>\n",
       "      <td>0.0</td>\n",
       "      <td>NaN</td>\n",
       "      <td>40</td>\n",
       "      <td>20</td>\n",
       "      <td>1.0</td>\n",
       "      <td>NaN</td>\n",
       "      <td>1.0</td>\n",
       "    </tr>\n",
       "    <tr>\n",
       "      <td>...</td>\n",
       "      <td>...</td>\n",
       "      <td>...</td>\n",
       "      <td>...</td>\n",
       "      <td>...</td>\n",
       "      <td>...</td>\n",
       "      <td>...</td>\n",
       "      <td>...</td>\n",
       "      <td>...</td>\n",
       "      <td>...</td>\n",
       "      <td>...</td>\n",
       "      <td>...</td>\n",
       "    </tr>\n",
       "    <tr>\n",
       "      <td>1707</td>\n",
       "      <td>2019-11-02</td>\n",
       "      <td>6.93</td>\n",
       "      <td>0.00</td>\n",
       "      <td>0.0</td>\n",
       "      <td>0.0</td>\n",
       "      <td>45.0</td>\n",
       "      <td>54</td>\n",
       "      <td>36</td>\n",
       "      <td>NaN</td>\n",
       "      <td>NaN</td>\n",
       "      <td>NaN</td>\n",
       "    </tr>\n",
       "    <tr>\n",
       "      <td>1708</td>\n",
       "      <td>2019-11-03</td>\n",
       "      <td>8.50</td>\n",
       "      <td>0.00</td>\n",
       "      <td>0.0</td>\n",
       "      <td>0.0</td>\n",
       "      <td>47.0</td>\n",
       "      <td>53</td>\n",
       "      <td>38</td>\n",
       "      <td>NaN</td>\n",
       "      <td>NaN</td>\n",
       "      <td>NaN</td>\n",
       "    </tr>\n",
       "    <tr>\n",
       "      <td>1709</td>\n",
       "      <td>2019-11-04</td>\n",
       "      <td>5.59</td>\n",
       "      <td>0.00</td>\n",
       "      <td>0.0</td>\n",
       "      <td>0.0</td>\n",
       "      <td>47.0</td>\n",
       "      <td>59</td>\n",
       "      <td>35</td>\n",
       "      <td>NaN</td>\n",
       "      <td>NaN</td>\n",
       "      <td>NaN</td>\n",
       "    </tr>\n",
       "    <tr>\n",
       "      <td>1710</td>\n",
       "      <td>2019-11-05</td>\n",
       "      <td>5.82</td>\n",
       "      <td>0.00</td>\n",
       "      <td>0.0</td>\n",
       "      <td>0.0</td>\n",
       "      <td>52.0</td>\n",
       "      <td>63</td>\n",
       "      <td>43</td>\n",
       "      <td>NaN</td>\n",
       "      <td>NaN</td>\n",
       "      <td>NaN</td>\n",
       "    </tr>\n",
       "    <tr>\n",
       "      <td>1711</td>\n",
       "      <td>2019-11-06</td>\n",
       "      <td>NaN</td>\n",
       "      <td>0.00</td>\n",
       "      <td>0.0</td>\n",
       "      <td>0.0</td>\n",
       "      <td>52.0</td>\n",
       "      <td>57</td>\n",
       "      <td>42</td>\n",
       "      <td>NaN</td>\n",
       "      <td>NaN</td>\n",
       "      <td>NaN</td>\n",
       "    </tr>\n",
       "  </tbody>\n",
       "</table>\n",
       "<p>1712 rows × 11 columns</p>\n",
       "</div>"
      ],
      "text/plain": [
       "            DATE   AWND  PRCP  SNOW  SNWD  TAVG  TMAX  TMIN  WT01  WT03  WT04\n",
       "0     2015-03-01   4.92  0.52   0.4   0.0   NaN    32    21   1.0   NaN   1.0\n",
       "1     2015-03-02  12.08  0.00   0.0   0.0   NaN    40    29   1.0   NaN   NaN\n",
       "2     2015-03-03   8.05  0.61   0.1   0.0   NaN    34    25   1.0   NaN   1.0\n",
       "3     2015-03-04   5.82  0.49   0.0   0.0   NaN    43    33   1.0   NaN   NaN\n",
       "4     2015-03-05  10.74  0.78   7.5   0.0   NaN    40    20   1.0   NaN   1.0\n",
       "...          ...    ...   ...   ...   ...   ...   ...   ...   ...   ...   ...\n",
       "1707  2019-11-02   6.93  0.00   0.0   0.0  45.0    54    36   NaN   NaN   NaN\n",
       "1708  2019-11-03   8.50  0.00   0.0   0.0  47.0    53    38   NaN   NaN   NaN\n",
       "1709  2019-11-04   5.59  0.00   0.0   0.0  47.0    59    35   NaN   NaN   NaN\n",
       "1710  2019-11-05   5.82  0.00   0.0   0.0  52.0    63    43   NaN   NaN   NaN\n",
       "1711  2019-11-06    NaN  0.00   0.0   0.0  52.0    57    42   NaN   NaN   NaN\n",
       "\n",
       "[1712 rows x 11 columns]"
      ]
     },
     "execution_count": 51,
     "metadata": {},
     "output_type": "execute_result"
    }
   ],
   "source": [
    "weather"
   ]
  },
  {
   "cell_type": "code",
   "execution_count": 52,
   "metadata": {},
   "outputs": [],
   "source": [
    "weather = weather.rename(columns={'AWND': 'AVG_WND_SPEED', 'SNWD': 'SNOW_DEPTH', 'WT01': 'FOG', 'WT03': 'THUNDER', 'WT04': 'SLEET_OR_HAIL'})"
   ]
  },
  {
   "cell_type": "code",
   "execution_count": 53,
   "metadata": {},
   "outputs": [
    {
     "data": {
      "text/plain": [
       "array(['DATE', 'AVG_WND_SPEED', 'PRCP', 'SNOW', 'SNOW_DEPTH', 'TAVG',\n",
       "       'TMAX', 'TMIN', 'FOG', 'THUNDER', 'SLEET_OR_HAIL'], dtype=object)"
      ]
     },
     "execution_count": 53,
     "metadata": {},
     "output_type": "execute_result"
    }
   ],
   "source": [
    "weather.columns.values"
   ]
  },
  {
   "cell_type": "code",
   "execution_count": 54,
   "metadata": {},
   "outputs": [],
   "source": [
    "weather.to_csv('weather_clean.csv')"
   ]
  },
  {
   "cell_type": "code",
   "execution_count": null,
   "metadata": {},
   "outputs": [],
   "source": []
  }
 ],
 "metadata": {
  "kernelspec": {
   "display_name": "Python 3",
   "language": "python",
   "name": "python3"
  },
  "language_info": {
   "codemirror_mode": {
    "name": "ipython",
    "version": 3
   },
   "file_extension": ".py",
   "mimetype": "text/x-python",
   "name": "python",
   "nbconvert_exporter": "python",
   "pygments_lexer": "ipython3",
   "version": "3.6.9"
  }
 },
 "nbformat": 4,
 "nbformat_minor": 2
}
